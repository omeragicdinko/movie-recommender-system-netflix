{
 "cells": [
  {
   "cell_type": "code",
   "execution_count": 1,
   "id": "314fcd1a",
   "metadata": {},
   "outputs": [],
   "source": [
    "# Recommender system part of the code"
   ]
  },
  {
   "cell_type": "code",
   "execution_count": 2,
   "id": "efd9c41d",
   "metadata": {},
   "outputs": [
    {
     "name": "stderr",
     "output_type": "stream",
     "text": [
      "[nltk_data] Downloading package wordnet to\n",
      "[nltk_data]     C:\\Users\\dinko\\AppData\\Roaming\\nltk_data...\n",
      "[nltk_data]   Package wordnet is already up-to-date!\n",
      "[nltk_data] Downloading package omw-1.4 to\n",
      "[nltk_data]     C:\\Users\\dinko\\AppData\\Roaming\\nltk_data...\n",
      "[nltk_data]   Package omw-1.4 is already up-to-date!\n",
      "[nltk_data] Downloading package stopwords to\n",
      "[nltk_data]     C:\\Users\\dinko\\AppData\\Roaming\\nltk_data...\n",
      "[nltk_data]   Package stopwords is already up-to-date!\n"
     ]
    }
   ],
   "source": [
    "# Importing all libraries needed to run the rest of the script\n",
    "import numpy as np\n",
    "import pandas as pd\n",
    "import sklearn\n",
    "import networkx as nx\n",
    "import matplotlib.pyplot as plt\n",
    "import math as math\n",
    "import time\n",
    "import seaborn as sns\n",
    "import re\n",
    "import nltk\n",
    "nltk.download('wordnet')\n",
    "nltk.download('omw-1.4')\n",
    "nltk.download('stopwords')\n",
    "from nltk.corpus import stopwords\n",
    "from sklearn.feature_extraction.text import TfidfVectorizer\n",
    "from sklearn.feature_extraction.text import CountVectorizer\n",
    "from sklearn.feature_extraction.text import TfidfTransformer\n",
    "from sklearn.metrics.pairwise import cosine_similarity\n",
    "from sklearn.metrics.pairwise import linear_kernel\n",
    "from sklearn.metrics.pairwise import euclidean_distances\n",
    "from sklearn.cluster import MiniBatchKMeans\n",
    "from sklearn.model_selection import train_test_split\n",
    "from sklearn.model_selection import GridSearchCV\n",
    "from sklearn.model_selection import cross_val_score\n",
    "from sklearn.preprocessing import MultiLabelBinarizer\n",
    "from sklearn.neighbors import KNeighborsClassifier\n",
    "from sklearn.naive_bayes import MultinomialNB\n",
    "from sklearn import metrics\n",
    "from nltk.stem import WordNetLemmatizer\n",
    "from scipy.stats import pearsonr\n",
    "plt.style.use('seaborn')\n",
    "plt.rcParams['figure.figsize'] = [14,14]"
   ]
  },
  {
   "cell_type": "code",
   "execution_count": 3,
   "id": "ac64bd67",
   "metadata": {},
   "outputs": [
    {
     "data": {
      "text/html": [
       "<div>\n",
       "<style scoped>\n",
       "    .dataframe tbody tr th:only-of-type {\n",
       "        vertical-align: middle;\n",
       "    }\n",
       "\n",
       "    .dataframe tbody tr th {\n",
       "        vertical-align: top;\n",
       "    }\n",
       "\n",
       "    .dataframe thead th {\n",
       "        text-align: right;\n",
       "    }\n",
       "</style>\n",
       "<table border=\"1\" class=\"dataframe\">\n",
       "  <thead>\n",
       "    <tr style=\"text-align: right;\">\n",
       "      <th></th>\n",
       "      <th>show_id</th>\n",
       "      <th>type</th>\n",
       "      <th>title</th>\n",
       "      <th>director</th>\n",
       "      <th>cast</th>\n",
       "      <th>country</th>\n",
       "      <th>date_added</th>\n",
       "      <th>release_year</th>\n",
       "      <th>rating</th>\n",
       "      <th>duration</th>\n",
       "      <th>listed_in</th>\n",
       "      <th>description</th>\n",
       "    </tr>\n",
       "  </thead>\n",
       "  <tbody>\n",
       "    <tr>\n",
       "      <th>0</th>\n",
       "      <td>s1</td>\n",
       "      <td>Movie</td>\n",
       "      <td>Dick Johnson Is Dead</td>\n",
       "      <td>Kirsten Johnson</td>\n",
       "      <td>NaN</td>\n",
       "      <td>United States</td>\n",
       "      <td>September 25, 2021</td>\n",
       "      <td>2020</td>\n",
       "      <td>PG-13</td>\n",
       "      <td>90 min</td>\n",
       "      <td>Documentaries</td>\n",
       "      <td>As her father nears the end of his life, filmm...</td>\n",
       "    </tr>\n",
       "    <tr>\n",
       "      <th>1</th>\n",
       "      <td>s2</td>\n",
       "      <td>TV Show</td>\n",
       "      <td>Blood &amp; Water</td>\n",
       "      <td>NaN</td>\n",
       "      <td>Ama Qamata, Khosi Ngema, Gail Mabalane, Thaban...</td>\n",
       "      <td>South Africa</td>\n",
       "      <td>September 24, 2021</td>\n",
       "      <td>2021</td>\n",
       "      <td>TV-MA</td>\n",
       "      <td>2 Seasons</td>\n",
       "      <td>International TV Shows, TV Dramas, TV Mysteries</td>\n",
       "      <td>After crossing paths at a party, a Cape Town t...</td>\n",
       "    </tr>\n",
       "    <tr>\n",
       "      <th>2</th>\n",
       "      <td>s3</td>\n",
       "      <td>TV Show</td>\n",
       "      <td>Ganglands</td>\n",
       "      <td>Julien Leclercq</td>\n",
       "      <td>Sami Bouajila, Tracy Gotoas, Samuel Jouy, Nabi...</td>\n",
       "      <td>NaN</td>\n",
       "      <td>September 24, 2021</td>\n",
       "      <td>2021</td>\n",
       "      <td>TV-MA</td>\n",
       "      <td>1 Season</td>\n",
       "      <td>Crime TV Shows, International TV Shows, TV Act...</td>\n",
       "      <td>To protect his family from a powerful drug lor...</td>\n",
       "    </tr>\n",
       "    <tr>\n",
       "      <th>3</th>\n",
       "      <td>s4</td>\n",
       "      <td>TV Show</td>\n",
       "      <td>Jailbirds New Orleans</td>\n",
       "      <td>NaN</td>\n",
       "      <td>NaN</td>\n",
       "      <td>NaN</td>\n",
       "      <td>September 24, 2021</td>\n",
       "      <td>2021</td>\n",
       "      <td>TV-MA</td>\n",
       "      <td>1 Season</td>\n",
       "      <td>Docuseries, Reality TV</td>\n",
       "      <td>Feuds, flirtations and toilet talk go down amo...</td>\n",
       "    </tr>\n",
       "    <tr>\n",
       "      <th>4</th>\n",
       "      <td>s5</td>\n",
       "      <td>TV Show</td>\n",
       "      <td>Kota Factory</td>\n",
       "      <td>NaN</td>\n",
       "      <td>Mayur More, Jitendra Kumar, Ranjan Raj, Alam K...</td>\n",
       "      <td>India</td>\n",
       "      <td>September 24, 2021</td>\n",
       "      <td>2021</td>\n",
       "      <td>TV-MA</td>\n",
       "      <td>2 Seasons</td>\n",
       "      <td>International TV Shows, Romantic TV Shows, TV ...</td>\n",
       "      <td>In a city of coaching centers known to train I...</td>\n",
       "    </tr>\n",
       "  </tbody>\n",
       "</table>\n",
       "</div>"
      ],
      "text/plain": [
       "  show_id     type                  title         director  \\\n",
       "0      s1    Movie   Dick Johnson Is Dead  Kirsten Johnson   \n",
       "1      s2  TV Show          Blood & Water              NaN   \n",
       "2      s3  TV Show              Ganglands  Julien Leclercq   \n",
       "3      s4  TV Show  Jailbirds New Orleans              NaN   \n",
       "4      s5  TV Show           Kota Factory              NaN   \n",
       "\n",
       "                                                cast        country  \\\n",
       "0                                                NaN  United States   \n",
       "1  Ama Qamata, Khosi Ngema, Gail Mabalane, Thaban...   South Africa   \n",
       "2  Sami Bouajila, Tracy Gotoas, Samuel Jouy, Nabi...            NaN   \n",
       "3                                                NaN            NaN   \n",
       "4  Mayur More, Jitendra Kumar, Ranjan Raj, Alam K...          India   \n",
       "\n",
       "           date_added  release_year rating   duration  \\\n",
       "0  September 25, 2021          2020  PG-13     90 min   \n",
       "1  September 24, 2021          2021  TV-MA  2 Seasons   \n",
       "2  September 24, 2021          2021  TV-MA   1 Season   \n",
       "3  September 24, 2021          2021  TV-MA   1 Season   \n",
       "4  September 24, 2021          2021  TV-MA  2 Seasons   \n",
       "\n",
       "                                           listed_in  \\\n",
       "0                                      Documentaries   \n",
       "1    International TV Shows, TV Dramas, TV Mysteries   \n",
       "2  Crime TV Shows, International TV Shows, TV Act...   \n",
       "3                             Docuseries, Reality TV   \n",
       "4  International TV Shows, Romantic TV Shows, TV ...   \n",
       "\n",
       "                                         description  \n",
       "0  As her father nears the end of his life, filmm...  \n",
       "1  After crossing paths at a party, a Cape Town t...  \n",
       "2  To protect his family from a powerful drug lor...  \n",
       "3  Feuds, flirtations and toilet talk go down amo...  \n",
       "4  In a city of coaching centers known to train I...  "
      ]
     },
     "execution_count": 3,
     "metadata": {},
     "output_type": "execute_result"
    }
   ],
   "source": [
    "# Reading the netflix data set file and importing it to the netflix_dataset\n",
    "netflix_dataset = pd.read_csv('./netflix_titles.csv')\n",
    "netflix_dataset.head()"
   ]
  },
  {
   "cell_type": "code",
   "execution_count": 4,
   "id": "500ea642",
   "metadata": {},
   "outputs": [
    {
     "data": {
      "text/html": [
       "<div>\n",
       "<style scoped>\n",
       "    .dataframe tbody tr th:only-of-type {\n",
       "        vertical-align: middle;\n",
       "    }\n",
       "\n",
       "    .dataframe tbody tr th {\n",
       "        vertical-align: top;\n",
       "    }\n",
       "\n",
       "    .dataframe thead th {\n",
       "        text-align: right;\n",
       "    }\n",
       "</style>\n",
       "<table border=\"1\" class=\"dataframe\">\n",
       "  <thead>\n",
       "    <tr style=\"text-align: right;\">\n",
       "      <th></th>\n",
       "      <th>show_id</th>\n",
       "      <th>title</th>\n",
       "      <th>director</th>\n",
       "      <th>cast</th>\n",
       "      <th>country</th>\n",
       "      <th>date_added</th>\n",
       "      <th>release_year</th>\n",
       "      <th>rating</th>\n",
       "      <th>duration</th>\n",
       "      <th>listed_in</th>\n",
       "      <th>description</th>\n",
       "    </tr>\n",
       "    <tr>\n",
       "      <th>type</th>\n",
       "      <th></th>\n",
       "      <th></th>\n",
       "      <th></th>\n",
       "      <th></th>\n",
       "      <th></th>\n",
       "      <th></th>\n",
       "      <th></th>\n",
       "      <th></th>\n",
       "      <th></th>\n",
       "      <th></th>\n",
       "      <th></th>\n",
       "    </tr>\n",
       "  </thead>\n",
       "  <tbody>\n",
       "    <tr>\n",
       "      <th>Movie</th>\n",
       "      <td>6131</td>\n",
       "      <td>6131</td>\n",
       "      <td>5943</td>\n",
       "      <td>5656</td>\n",
       "      <td>5691</td>\n",
       "      <td>6131</td>\n",
       "      <td>6131</td>\n",
       "      <td>6129</td>\n",
       "      <td>6128</td>\n",
       "      <td>6131</td>\n",
       "      <td>6131</td>\n",
       "    </tr>\n",
       "    <tr>\n",
       "      <th>TV Show</th>\n",
       "      <td>2676</td>\n",
       "      <td>2676</td>\n",
       "      <td>230</td>\n",
       "      <td>2326</td>\n",
       "      <td>2285</td>\n",
       "      <td>2666</td>\n",
       "      <td>2676</td>\n",
       "      <td>2674</td>\n",
       "      <td>2676</td>\n",
       "      <td>2676</td>\n",
       "      <td>2676</td>\n",
       "    </tr>\n",
       "  </tbody>\n",
       "</table>\n",
       "</div>"
      ],
      "text/plain": [
       "         show_id  title  director  cast  country  date_added  release_year  \\\n",
       "type                                                                         \n",
       "Movie       6131   6131      5943  5656     5691        6131          6131   \n",
       "TV Show     2676   2676       230  2326     2285        2666          2676   \n",
       "\n",
       "         rating  duration  listed_in  description  \n",
       "type                                               \n",
       "Movie      6129      6128       6131         6131  \n",
       "TV Show    2674      2676       2676         2676  "
      ]
     },
     "execution_count": 4,
     "metadata": {},
     "output_type": "execute_result"
    }
   ],
   "source": [
    "# Counting all non-null values in the netflix_dataset\n",
    "netflix_dataset.groupby('type').count()"
   ]
  },
  {
   "cell_type": "code",
   "execution_count": 5,
   "id": "bdbbf9fc",
   "metadata": {},
   "outputs": [
    {
     "data": {
      "text/html": [
       "<div>\n",
       "<style scoped>\n",
       "    .dataframe tbody tr th:only-of-type {\n",
       "        vertical-align: middle;\n",
       "    }\n",
       "\n",
       "    .dataframe tbody tr th {\n",
       "        vertical-align: top;\n",
       "    }\n",
       "\n",
       "    .dataframe thead th {\n",
       "        text-align: right;\n",
       "    }\n",
       "</style>\n",
       "<table border=\"1\" class=\"dataframe\">\n",
       "  <thead>\n",
       "    <tr style=\"text-align: right;\">\n",
       "      <th></th>\n",
       "      <th>show_id</th>\n",
       "      <th>type</th>\n",
       "      <th>title</th>\n",
       "      <th>director</th>\n",
       "      <th>cast</th>\n",
       "      <th>country</th>\n",
       "      <th>date_added</th>\n",
       "      <th>rating</th>\n",
       "      <th>duration</th>\n",
       "      <th>listed_in</th>\n",
       "      <th>description</th>\n",
       "    </tr>\n",
       "  </thead>\n",
       "  <tbody>\n",
       "    <tr>\n",
       "      <th>count</th>\n",
       "      <td>8807</td>\n",
       "      <td>8807</td>\n",
       "      <td>8807</td>\n",
       "      <td>6173</td>\n",
       "      <td>7982</td>\n",
       "      <td>7976</td>\n",
       "      <td>8797</td>\n",
       "      <td>8803</td>\n",
       "      <td>8804</td>\n",
       "      <td>8807</td>\n",
       "      <td>8807</td>\n",
       "    </tr>\n",
       "    <tr>\n",
       "      <th>unique</th>\n",
       "      <td>8807</td>\n",
       "      <td>2</td>\n",
       "      <td>8807</td>\n",
       "      <td>4528</td>\n",
       "      <td>7692</td>\n",
       "      <td>748</td>\n",
       "      <td>1767</td>\n",
       "      <td>17</td>\n",
       "      <td>220</td>\n",
       "      <td>514</td>\n",
       "      <td>8775</td>\n",
       "    </tr>\n",
       "    <tr>\n",
       "      <th>top</th>\n",
       "      <td>s1</td>\n",
       "      <td>Movie</td>\n",
       "      <td>Dick Johnson Is Dead</td>\n",
       "      <td>Rajiv Chilaka</td>\n",
       "      <td>David Attenborough</td>\n",
       "      <td>United States</td>\n",
       "      <td>January 1, 2020</td>\n",
       "      <td>TV-MA</td>\n",
       "      <td>1 Season</td>\n",
       "      <td>Dramas, International Movies</td>\n",
       "      <td>Paranormal activity at a lush, abandoned prope...</td>\n",
       "    </tr>\n",
       "    <tr>\n",
       "      <th>freq</th>\n",
       "      <td>1</td>\n",
       "      <td>6131</td>\n",
       "      <td>1</td>\n",
       "      <td>19</td>\n",
       "      <td>19</td>\n",
       "      <td>2818</td>\n",
       "      <td>109</td>\n",
       "      <td>3207</td>\n",
       "      <td>1793</td>\n",
       "      <td>362</td>\n",
       "      <td>4</td>\n",
       "    </tr>\n",
       "  </tbody>\n",
       "</table>\n",
       "</div>"
      ],
      "text/plain": [
       "       show_id   type                 title       director  \\\n",
       "count     8807   8807                  8807           6173   \n",
       "unique    8807      2                  8807           4528   \n",
       "top         s1  Movie  Dick Johnson Is Dead  Rajiv Chilaka   \n",
       "freq         1   6131                     1             19   \n",
       "\n",
       "                      cast        country       date_added rating  duration  \\\n",
       "count                 7982           7976             8797   8803      8804   \n",
       "unique                7692            748             1767     17       220   \n",
       "top     David Attenborough  United States  January 1, 2020  TV-MA  1 Season   \n",
       "freq                    19           2818              109   3207      1793   \n",
       "\n",
       "                           listed_in  \\\n",
       "count                           8807   \n",
       "unique                           514   \n",
       "top     Dramas, International Movies   \n",
       "freq                             362   \n",
       "\n",
       "                                              description  \n",
       "count                                                8807  \n",
       "unique                                               8775  \n",
       "top     Paranormal activity at a lush, abandoned prope...  \n",
       "freq                                                    4  "
      ]
     },
     "execution_count": 5,
     "metadata": {},
     "output_type": "execute_result"
    }
   ],
   "source": [
    "# Getting more information regarding the netflix_dataset\n",
    "netflix_dataset.describe(include=[\"object\", \"bool\"])"
   ]
  },
  {
   "cell_type": "code",
   "execution_count": 6,
   "id": "30f20094",
   "metadata": {},
   "outputs": [
    {
     "data": {
      "text/html": [
       "<div>\n",
       "<style scoped>\n",
       "    .dataframe tbody tr th:only-of-type {\n",
       "        vertical-align: middle;\n",
       "    }\n",
       "\n",
       "    .dataframe tbody tr th {\n",
       "        vertical-align: top;\n",
       "    }\n",
       "\n",
       "    .dataframe thead th {\n",
       "        text-align: right;\n",
       "    }\n",
       "</style>\n",
       "<table border=\"1\" class=\"dataframe\">\n",
       "  <thead>\n",
       "    <tr style=\"text-align: right;\">\n",
       "      <th></th>\n",
       "      <th>index</th>\n",
       "      <th>show_id</th>\n",
       "      <th>type</th>\n",
       "      <th>title</th>\n",
       "      <th>director</th>\n",
       "      <th>cast</th>\n",
       "      <th>country</th>\n",
       "      <th>date_added</th>\n",
       "      <th>release_year</th>\n",
       "      <th>rating</th>\n",
       "      <th>duration</th>\n",
       "      <th>listed_in</th>\n",
       "      <th>description</th>\n",
       "    </tr>\n",
       "  </thead>\n",
       "  <tbody>\n",
       "    <tr>\n",
       "      <th>0</th>\n",
       "      <td>0</td>\n",
       "      <td>s1</td>\n",
       "      <td>Movie</td>\n",
       "      <td>Dick Johnson Is Dead</td>\n",
       "      <td>Kirsten Johnson</td>\n",
       "      <td>NaN</td>\n",
       "      <td>United States</td>\n",
       "      <td>September 25, 2021</td>\n",
       "      <td>2020</td>\n",
       "      <td>PG-13</td>\n",
       "      <td>90 min</td>\n",
       "      <td>Documentaries</td>\n",
       "      <td>As her father nears the end of his life, filmm...</td>\n",
       "    </tr>\n",
       "    <tr>\n",
       "      <th>1</th>\n",
       "      <td>6</td>\n",
       "      <td>s7</td>\n",
       "      <td>Movie</td>\n",
       "      <td>My Little Pony: A New Generation</td>\n",
       "      <td>Robert Cullen, José Luis Ucha</td>\n",
       "      <td>Vanessa Hudgens, Kimiko Glenn, James Marsden, ...</td>\n",
       "      <td>NaN</td>\n",
       "      <td>September 24, 2021</td>\n",
       "      <td>2021</td>\n",
       "      <td>PG</td>\n",
       "      <td>91 min</td>\n",
       "      <td>Children &amp; Family Movies</td>\n",
       "      <td>Equestria's divided. But a bright-eyed hero be...</td>\n",
       "    </tr>\n",
       "    <tr>\n",
       "      <th>2</th>\n",
       "      <td>7</td>\n",
       "      <td>s8</td>\n",
       "      <td>Movie</td>\n",
       "      <td>Sankofa</td>\n",
       "      <td>Haile Gerima</td>\n",
       "      <td>Kofi Ghanaba, Oyafunmike Ogunlano, Alexandra D...</td>\n",
       "      <td>United States, Ghana, Burkina Faso, United Kin...</td>\n",
       "      <td>September 24, 2021</td>\n",
       "      <td>1993</td>\n",
       "      <td>TV-MA</td>\n",
       "      <td>125 min</td>\n",
       "      <td>Dramas, Independent Movies, International Movies</td>\n",
       "      <td>On a photo shoot in Ghana, an American model s...</td>\n",
       "    </tr>\n",
       "    <tr>\n",
       "      <th>3</th>\n",
       "      <td>9</td>\n",
       "      <td>s10</td>\n",
       "      <td>Movie</td>\n",
       "      <td>The Starling</td>\n",
       "      <td>Theodore Melfi</td>\n",
       "      <td>Melissa McCarthy, Chris O'Dowd, Kevin Kline, T...</td>\n",
       "      <td>United States</td>\n",
       "      <td>September 24, 2021</td>\n",
       "      <td>2021</td>\n",
       "      <td>PG-13</td>\n",
       "      <td>104 min</td>\n",
       "      <td>Comedies, Dramas</td>\n",
       "      <td>A woman adjusting to life after a loss contend...</td>\n",
       "    </tr>\n",
       "    <tr>\n",
       "      <th>4</th>\n",
       "      <td>12</td>\n",
       "      <td>s13</td>\n",
       "      <td>Movie</td>\n",
       "      <td>Je Suis Karl</td>\n",
       "      <td>Christian Schwochow</td>\n",
       "      <td>Luna Wedler, Jannis Niewöhner, Milan Peschel, ...</td>\n",
       "      <td>Germany, Czech Republic</td>\n",
       "      <td>September 23, 2021</td>\n",
       "      <td>2021</td>\n",
       "      <td>TV-MA</td>\n",
       "      <td>127 min</td>\n",
       "      <td>Dramas, International Movies</td>\n",
       "      <td>After most of her family is murdered in a terr...</td>\n",
       "    </tr>\n",
       "  </tbody>\n",
       "</table>\n",
       "</div>"
      ],
      "text/plain": [
       "   index show_id   type                             title  \\\n",
       "0      0      s1  Movie              Dick Johnson Is Dead   \n",
       "1      6      s7  Movie  My Little Pony: A New Generation   \n",
       "2      7      s8  Movie                           Sankofa   \n",
       "3      9     s10  Movie                      The Starling   \n",
       "4     12     s13  Movie                      Je Suis Karl   \n",
       "\n",
       "                        director  \\\n",
       "0                Kirsten Johnson   \n",
       "1  Robert Cullen, José Luis Ucha   \n",
       "2                   Haile Gerima   \n",
       "3                 Theodore Melfi   \n",
       "4            Christian Schwochow   \n",
       "\n",
       "                                                cast  \\\n",
       "0                                                NaN   \n",
       "1  Vanessa Hudgens, Kimiko Glenn, James Marsden, ...   \n",
       "2  Kofi Ghanaba, Oyafunmike Ogunlano, Alexandra D...   \n",
       "3  Melissa McCarthy, Chris O'Dowd, Kevin Kline, T...   \n",
       "4  Luna Wedler, Jannis Niewöhner, Milan Peschel, ...   \n",
       "\n",
       "                                             country          date_added  \\\n",
       "0                                      United States  September 25, 2021   \n",
       "1                                                NaN  September 24, 2021   \n",
       "2  United States, Ghana, Burkina Faso, United Kin...  September 24, 2021   \n",
       "3                                      United States  September 24, 2021   \n",
       "4                            Germany, Czech Republic  September 23, 2021   \n",
       "\n",
       "   release_year rating duration  \\\n",
       "0          2020  PG-13   90 min   \n",
       "1          2021     PG   91 min   \n",
       "2          1993  TV-MA  125 min   \n",
       "3          2021  PG-13  104 min   \n",
       "4          2021  TV-MA  127 min   \n",
       "\n",
       "                                          listed_in  \\\n",
       "0                                     Documentaries   \n",
       "1                          Children & Family Movies   \n",
       "2  Dramas, Independent Movies, International Movies   \n",
       "3                                  Comedies, Dramas   \n",
       "4                      Dramas, International Movies   \n",
       "\n",
       "                                         description  \n",
       "0  As her father nears the end of his life, filmm...  \n",
       "1  Equestria's divided. But a bright-eyed hero be...  \n",
       "2  On a photo shoot in Ghana, an American model s...  \n",
       "3  A woman adjusting to life after a loss contend...  \n",
       "4  After most of her family is murdered in a terr...  "
      ]
     },
     "execution_count": 6,
     "metadata": {},
     "output_type": "execute_result"
    }
   ],
   "source": [
    "# Extracting the data regarding movies from the netflix_dataset into the movies data set\n",
    "movies = netflix_dataset[netflix_dataset['type'] == 'Movie'].reset_index()\n",
    "movies.head()"
   ]
  },
  {
   "cell_type": "code",
   "execution_count": 7,
   "id": "1da19114",
   "metadata": {},
   "outputs": [
    {
     "data": {
      "text/html": [
       "<div>\n",
       "<style scoped>\n",
       "    .dataframe tbody tr th:only-of-type {\n",
       "        vertical-align: middle;\n",
       "    }\n",
       "\n",
       "    .dataframe tbody tr th {\n",
       "        vertical-align: top;\n",
       "    }\n",
       "\n",
       "    .dataframe thead th {\n",
       "        text-align: right;\n",
       "    }\n",
       "</style>\n",
       "<table border=\"1\" class=\"dataframe\">\n",
       "  <thead>\n",
       "    <tr style=\"text-align: right;\">\n",
       "      <th></th>\n",
       "      <th>index</th>\n",
       "      <th>show_id</th>\n",
       "      <th>type</th>\n",
       "      <th>title</th>\n",
       "      <th>director</th>\n",
       "      <th>cast</th>\n",
       "      <th>country</th>\n",
       "      <th>date_added</th>\n",
       "      <th>release_year</th>\n",
       "      <th>rating</th>\n",
       "      <th>duration</th>\n",
       "      <th>listed_in</th>\n",
       "      <th>description</th>\n",
       "    </tr>\n",
       "  </thead>\n",
       "  <tbody>\n",
       "    <tr>\n",
       "      <th>0</th>\n",
       "      <td>1</td>\n",
       "      <td>s2</td>\n",
       "      <td>TV Show</td>\n",
       "      <td>Blood &amp; Water</td>\n",
       "      <td>NaN</td>\n",
       "      <td>Ama Qamata, Khosi Ngema, Gail Mabalane, Thaban...</td>\n",
       "      <td>South Africa</td>\n",
       "      <td>September 24, 2021</td>\n",
       "      <td>2021</td>\n",
       "      <td>TV-MA</td>\n",
       "      <td>2 Seasons</td>\n",
       "      <td>International TV Shows, TV Dramas, TV Mysteries</td>\n",
       "      <td>After crossing paths at a party, a Cape Town t...</td>\n",
       "    </tr>\n",
       "    <tr>\n",
       "      <th>1</th>\n",
       "      <td>2</td>\n",
       "      <td>s3</td>\n",
       "      <td>TV Show</td>\n",
       "      <td>Ganglands</td>\n",
       "      <td>Julien Leclercq</td>\n",
       "      <td>Sami Bouajila, Tracy Gotoas, Samuel Jouy, Nabi...</td>\n",
       "      <td>NaN</td>\n",
       "      <td>September 24, 2021</td>\n",
       "      <td>2021</td>\n",
       "      <td>TV-MA</td>\n",
       "      <td>1 Season</td>\n",
       "      <td>Crime TV Shows, International TV Shows, TV Act...</td>\n",
       "      <td>To protect his family from a powerful drug lor...</td>\n",
       "    </tr>\n",
       "    <tr>\n",
       "      <th>2</th>\n",
       "      <td>3</td>\n",
       "      <td>s4</td>\n",
       "      <td>TV Show</td>\n",
       "      <td>Jailbirds New Orleans</td>\n",
       "      <td>NaN</td>\n",
       "      <td>NaN</td>\n",
       "      <td>NaN</td>\n",
       "      <td>September 24, 2021</td>\n",
       "      <td>2021</td>\n",
       "      <td>TV-MA</td>\n",
       "      <td>1 Season</td>\n",
       "      <td>Docuseries, Reality TV</td>\n",
       "      <td>Feuds, flirtations and toilet talk go down amo...</td>\n",
       "    </tr>\n",
       "    <tr>\n",
       "      <th>3</th>\n",
       "      <td>4</td>\n",
       "      <td>s5</td>\n",
       "      <td>TV Show</td>\n",
       "      <td>Kota Factory</td>\n",
       "      <td>NaN</td>\n",
       "      <td>Mayur More, Jitendra Kumar, Ranjan Raj, Alam K...</td>\n",
       "      <td>India</td>\n",
       "      <td>September 24, 2021</td>\n",
       "      <td>2021</td>\n",
       "      <td>TV-MA</td>\n",
       "      <td>2 Seasons</td>\n",
       "      <td>International TV Shows, Romantic TV Shows, TV ...</td>\n",
       "      <td>In a city of coaching centers known to train I...</td>\n",
       "    </tr>\n",
       "    <tr>\n",
       "      <th>4</th>\n",
       "      <td>5</td>\n",
       "      <td>s6</td>\n",
       "      <td>TV Show</td>\n",
       "      <td>Midnight Mass</td>\n",
       "      <td>Mike Flanagan</td>\n",
       "      <td>Kate Siegel, Zach Gilford, Hamish Linklater, H...</td>\n",
       "      <td>NaN</td>\n",
       "      <td>September 24, 2021</td>\n",
       "      <td>2021</td>\n",
       "      <td>TV-MA</td>\n",
       "      <td>1 Season</td>\n",
       "      <td>TV Dramas, TV Horror, TV Mysteries</td>\n",
       "      <td>The arrival of a charismatic young priest brin...</td>\n",
       "    </tr>\n",
       "  </tbody>\n",
       "</table>\n",
       "</div>"
      ],
      "text/plain": [
       "   index show_id     type                  title         director  \\\n",
       "0      1      s2  TV Show          Blood & Water              NaN   \n",
       "1      2      s3  TV Show              Ganglands  Julien Leclercq   \n",
       "2      3      s4  TV Show  Jailbirds New Orleans              NaN   \n",
       "3      4      s5  TV Show           Kota Factory              NaN   \n",
       "4      5      s6  TV Show          Midnight Mass    Mike Flanagan   \n",
       "\n",
       "                                                cast       country  \\\n",
       "0  Ama Qamata, Khosi Ngema, Gail Mabalane, Thaban...  South Africa   \n",
       "1  Sami Bouajila, Tracy Gotoas, Samuel Jouy, Nabi...           NaN   \n",
       "2                                                NaN           NaN   \n",
       "3  Mayur More, Jitendra Kumar, Ranjan Raj, Alam K...         India   \n",
       "4  Kate Siegel, Zach Gilford, Hamish Linklater, H...           NaN   \n",
       "\n",
       "           date_added  release_year rating   duration  \\\n",
       "0  September 24, 2021          2021  TV-MA  2 Seasons   \n",
       "1  September 24, 2021          2021  TV-MA   1 Season   \n",
       "2  September 24, 2021          2021  TV-MA   1 Season   \n",
       "3  September 24, 2021          2021  TV-MA  2 Seasons   \n",
       "4  September 24, 2021          2021  TV-MA   1 Season   \n",
       "\n",
       "                                           listed_in  \\\n",
       "0    International TV Shows, TV Dramas, TV Mysteries   \n",
       "1  Crime TV Shows, International TV Shows, TV Act...   \n",
       "2                             Docuseries, Reality TV   \n",
       "3  International TV Shows, Romantic TV Shows, TV ...   \n",
       "4                 TV Dramas, TV Horror, TV Mysteries   \n",
       "\n",
       "                                         description  \n",
       "0  After crossing paths at a party, a Cape Town t...  \n",
       "1  To protect his family from a powerful drug lor...  \n",
       "2  Feuds, flirtations and toilet talk go down amo...  \n",
       "3  In a city of coaching centers known to train I...  \n",
       "4  The arrival of a charismatic young priest brin...  "
      ]
     },
     "execution_count": 7,
     "metadata": {},
     "output_type": "execute_result"
    }
   ],
   "source": [
    "# Extracting the data regarding tv shows from the netflix_dataset into the tv_shows data set\n",
    "tv_shows = netflix_dataset[netflix_dataset['type'] == 'TV Show'].reset_index()\n",
    "tv_shows.head()"
   ]
  },
  {
   "cell_type": "code",
   "execution_count": 8,
   "id": "59f49bd1",
   "metadata": {
    "scrolled": true
   },
   "outputs": [
    {
     "data": {
      "image/png": "[encoded data removed]",
      "text/plain": [
       "<Figure size 2800x1400 with 1 Axes>"
      ]
     },
     "metadata": {},
     "output_type": "display_data"
    }
   ],
   "source": [
    "# Plotting the data from movies ratings and grouping it according to the age categories\n",
    "sns.set_style('whitegrid')\n",
    "\n",
    "uniqueRating = movies['rating'].unique()\n",
    "movie_rating_order_according_to_age_categories =  ['G', 'TV-Y', 'TV-G', 'PG', 'TV-Y7', 'TV-Y7-FV', 'TV-PG', 'PG-13', 'TV-14', 'R', 'NC-17', 'TV-MA']\n",
    "tv_show_rating_order_according_to_age_categories =  ['TV-Y', 'TV-G', 'TV-Y7', 'TV-Y7-FV', 'TV-PG', 'TV-14', 'R', 'TV-MA']\n",
    "\n",
    "movie_ratings = movies['rating'].value_counts()[movie_rating_order_according_to_age_categories]\n",
    "tv_show_ratings = tv_shows['rating'].value_counts()[tv_show_rating_order_according_to_age_categories]\n",
    "\n",
    "\n",
    "def plot_ratings_bar_for_movies(data, title, height, h_lim=None):\n",
    "    fig, ax = plt.subplots(1,1, figsize=(14, 7), dpi=200)\n",
    "    if h_lim :\n",
    "        ax.set_ylim(0, h_lim)\n",
    "    ax.bar(data.index, data,  color=\"#e0e0e0\", width=0.52, edgecolor='black')\n",
    "\n",
    "    color =  ['green',  'blue',  'orange',  'red']\n",
    "    span_range = [[0, 2], [3,  6], [7, 8], [9, 11]]\n",
    "\n",
    "    for idx, sub_title in enumerate(['Little Kids', 'Older Kids', 'Teens', 'Mature']):\n",
    "        ax.annotate(sub_title,\n",
    "                    xy=(sum(span_range[idx])/2 ,height),\n",
    "                    xytext=(0,0), textcoords='offset points',\n",
    "                    va=\"center\", ha=\"center\",\n",
    "                    color=\"w\", fontsize=16, fontweight='bold',\n",
    "                    bbox=dict(boxstyle='round4', pad=0.4, color=color[idx], alpha=0.6))\n",
    "        ax.axvspan(span_range[idx][0]-0.4,span_range[idx][1]+0.4,  color=color[idx], alpha=0.07)\n",
    "    plt.show()\n",
    "    \n",
    "plot_ratings_bar_for_movies(movie_ratings,'Movie', 1300)"
   ]
  },
  {
   "cell_type": "code",
   "execution_count": 9,
   "id": "280b7c70",
   "metadata": {},
   "outputs": [
    {
     "data": {
      "image/png": "[encoded data removed]",
      "text/plain": [
       "<Figure size 2000x1400 with 1 Axes>"
      ]
     },
     "metadata": {},
     "output_type": "display_data"
    }
   ],
   "source": [
    "# Plotting the data from tv shows ratings and grouping it according to the age categories\n",
    "def plot_ratings_bar_for_tv_shows(data, title, height, h_lim=None):\n",
    "    fig, ax = plt.subplots(1,1, figsize=(10, 7), dpi=200)\n",
    "    if h_lim :\n",
    "        ax.set_ylim(0, h_lim)\n",
    "    ax.bar(data.index, data,  color=\"#e0e0e0\", width=0.52, edgecolor='black')\n",
    "\n",
    "    color =  ['green',  'blue',  'orange',  'red']\n",
    "    span_range = [[0, 1], [2,  4], [5, 6], [7, 8]]\n",
    "\n",
    "    for idx, sub_title in enumerate(['Little Kids', 'Older Kids', 'Teens', 'Mature']):\n",
    "        ax.annotate(sub_title,\n",
    "                    xy=(sum(span_range[idx])/2 ,height),\n",
    "                    xytext=(0,0), textcoords='offset points',\n",
    "                    va=\"center\", ha=\"center\",\n",
    "                    color=\"w\", fontsize=16, fontweight='bold',\n",
    "                    bbox=dict(boxstyle='round4', pad=0.4, color=color[idx], alpha=0.6))\n",
    "        ax.axvspan(span_range[idx][0]-0.4,span_range[idx][1]+0.4,  color=color[idx], alpha=0.07)\n",
    "    plt.show()\n",
    "\n",
    "\n",
    "plot_ratings_bar_for_tv_shows(tv_show_ratings,'TV Show', 600)"
   ]
  },
  {
   "cell_type": "code",
   "execution_count": 10,
   "id": "e0a11fe2",
   "metadata": {},
   "outputs": [],
   "source": [
    "# Function for plotting a heatmap to present the relationship of the genres\n",
    "def genre_relationship_heatmap(dataframe, title):\n",
    "    print(f\"{title} genre heatmap\")    \n",
    "    dataframe['genre'] = dataframe['listed_in'].apply(lambda x :  x.replace(' ,',',').replace(', ',',').split(',')) \n",
    "    genres_from_dataset = dataframe['genre']\n",
    "    mlb = MultiLabelBinarizer()\n",
    "    res = pd.DataFrame(mlb.fit_transform(genres_from_dataset), columns=mlb.classes_, index=genres_from_dataset.index)\n",
    "    corr = res.corr()\n",
    "    mask = np.zeros_like(corr, dtype=np.bool)\n",
    "    mask[np.triu_indices_from(mask)] = True\n",
    "    fig, ax = plt.subplots(figsize=(16, 15))\n",
    "    pl = sns.heatmap(corr, mask=mask, cmap= \"coolwarm\", vmax=.6, vmin=-.6, center=0, square=True, linewidths=.6, cbar_kws={\"shrink\": 0.8})\n",
    "    \n",
    "    plt.show()"
   ]
  },
  {
   "cell_type": "code",
   "execution_count": 11,
   "id": "f1720cdd",
   "metadata": {},
   "outputs": [
    {
     "name": "stdout",
     "output_type": "stream",
     "text": [
      "TV Show genre heatmap\n"
     ]
    },
    {
     "data": {
      "image/png": "[encoded data removed]",
      "text/plain": [
       "<Figure size 1152x1080 with 2 Axes>"
      ]
     },
     "metadata": {},
     "output_type": "display_data"
    }
   ],
   "source": [
    "# Plotting the genre relationship heatmap for tv shows\n",
    "genre_relationship_heatmap(tv_shows, 'TV Show')"
   ]
  },
  {
   "cell_type": "code",
   "execution_count": 12,
   "id": "860ec0d3",
   "metadata": {},
   "outputs": [
    {
     "name": "stdout",
     "output_type": "stream",
     "text": [
      "Movie genre heatmap\n"
     ]
    },
    {
     "data": {
      "image/png": "[encoded data removed]",
      "text/plain": [
       "<Figure size 1152x1080 with 2 Axes>"
      ]
     },
     "metadata": {},
     "output_type": "display_data"
    }
   ],
   "source": [
    "# Plotting the genre relationship heatmap for movies\n",
    "genre_relationship_heatmap(movies, 'Movie')"
   ]
  },
  {
   "cell_type": "code",
   "execution_count": 13,
   "id": "9472020b",
   "metadata": {},
   "outputs": [
    {
     "data": {
      "text/plain": [
       "show_id            0\n",
       "type               0\n",
       "title              0\n",
       "director        2634\n",
       "cast             825\n",
       "country          831\n",
       "date_added        10\n",
       "release_year       0\n",
       "rating             4\n",
       "duration           3\n",
       "listed_in          0\n",
       "description        0\n",
       "dtype: int64"
      ]
     },
     "execution_count": 13,
     "metadata": {},
     "output_type": "execute_result"
    }
   ],
   "source": [
    "# Checking how many null values are present in each column\n",
    "netflix_dataset.isna().sum()"
   ]
  },
  {
   "cell_type": "code",
   "execution_count": 14,
   "id": "1c270b3b",
   "metadata": {},
   "outputs": [
    {
     "data": {
      "text/plain": [
       "show_id         0\n",
       "type            0\n",
       "title           0\n",
       "director        0\n",
       "cast            0\n",
       "country         0\n",
       "date_added      9\n",
       "release_year    0\n",
       "rating          0\n",
       "duration        3\n",
       "listed_in       0\n",
       "description     0\n",
       "dtype: int64"
      ]
     },
     "execution_count": 14,
     "metadata": {},
     "output_type": "execute_result"
    }
   ],
   "source": [
    "# Dropping rows which contain null values in column 'cast', 'country' and 'rating'\n",
    "netflix_dataset = netflix_dataset.dropna(subset=['cast', 'country', 'rating'])\n",
    "# Filling null values in the 'director' column with 'Unknown' in the netflix_dataset \n",
    "netflix_dataset['director'].fillna('Unkown', inplace = True)\n",
    "netflix_dataset.reset_index()\n",
    "netflix_dataset.isna().sum()"
   ]
  },
  {
   "cell_type": "code",
   "execution_count": 15,
   "id": "e0ca4f55",
   "metadata": {},
   "outputs": [
    {
     "data": {
      "text/html": [
       "<div>\n",
       "<style scoped>\n",
       "    .dataframe tbody tr th:only-of-type {\n",
       "        vertical-align: middle;\n",
       "    }\n",
       "\n",
       "    .dataframe tbody tr th {\n",
       "        vertical-align: top;\n",
       "    }\n",
       "\n",
       "    .dataframe thead th {\n",
       "        text-align: right;\n",
       "    }\n",
       "</style>\n",
       "<table border=\"1\" class=\"dataframe\">\n",
       "  <thead>\n",
       "    <tr style=\"text-align: right;\">\n",
       "      <th></th>\n",
       "      <th>show_id</th>\n",
       "      <th>type</th>\n",
       "      <th>title</th>\n",
       "      <th>director</th>\n",
       "      <th>cast</th>\n",
       "      <th>country</th>\n",
       "      <th>rating</th>\n",
       "      <th>listed_in</th>\n",
       "      <th>description</th>\n",
       "    </tr>\n",
       "  </thead>\n",
       "  <tbody>\n",
       "    <tr>\n",
       "      <th>0</th>\n",
       "      <td>s8</td>\n",
       "      <td>Movie</td>\n",
       "      <td>Sankofa</td>\n",
       "      <td>Haile Gerima</td>\n",
       "      <td>Kofi Ghanaba, Oyafunmike Ogunlano, Alexandra D...</td>\n",
       "      <td>United States, Ghana, Burkina Faso, United Kin...</td>\n",
       "      <td>TV-MA</td>\n",
       "      <td>Dramas, Independent Movies, International Movies</td>\n",
       "      <td>On a photo shoot in Ghana, an American model s...</td>\n",
       "    </tr>\n",
       "    <tr>\n",
       "      <th>1</th>\n",
       "      <td>s10</td>\n",
       "      <td>Movie</td>\n",
       "      <td>The Starling</td>\n",
       "      <td>Theodore Melfi</td>\n",
       "      <td>Melissa McCarthy, Chris O'Dowd, Kevin Kline, T...</td>\n",
       "      <td>United States</td>\n",
       "      <td>PG-13</td>\n",
       "      <td>Comedies, Dramas</td>\n",
       "      <td>A woman adjusting to life after a loss contend...</td>\n",
       "    </tr>\n",
       "    <tr>\n",
       "      <th>2</th>\n",
       "      <td>s13</td>\n",
       "      <td>Movie</td>\n",
       "      <td>Je Suis Karl</td>\n",
       "      <td>Christian Schwochow</td>\n",
       "      <td>Luna Wedler, Jannis Niewöhner, Milan Peschel, ...</td>\n",
       "      <td>Germany, Czech Republic</td>\n",
       "      <td>TV-MA</td>\n",
       "      <td>Dramas, International Movies</td>\n",
       "      <td>After most of her family is murdered in a terr...</td>\n",
       "    </tr>\n",
       "    <tr>\n",
       "      <th>3</th>\n",
       "      <td>s25</td>\n",
       "      <td>Movie</td>\n",
       "      <td>Jeans</td>\n",
       "      <td>S. Shankar</td>\n",
       "      <td>Prashanth, Aishwarya Rai Bachchan, Sri Lakshmi...</td>\n",
       "      <td>India</td>\n",
       "      <td>TV-14</td>\n",
       "      <td>Comedies, International Movies, Romantic Movies</td>\n",
       "      <td>When the father of the man she loves insists t...</td>\n",
       "    </tr>\n",
       "    <tr>\n",
       "      <th>4</th>\n",
       "      <td>s28</td>\n",
       "      <td>Movie</td>\n",
       "      <td>Grown Ups</td>\n",
       "      <td>Dennis Dugan</td>\n",
       "      <td>Adam Sandler, Kevin James, Chris Rock, David S...</td>\n",
       "      <td>United States</td>\n",
       "      <td>PG-13</td>\n",
       "      <td>Comedies</td>\n",
       "      <td>Mourning the loss of their beloved junior high...</td>\n",
       "    </tr>\n",
       "  </tbody>\n",
       "</table>\n",
       "</div>"
      ],
      "text/plain": [
       "  show_id   type         title             director  \\\n",
       "0      s8  Movie       Sankofa         Haile Gerima   \n",
       "1     s10  Movie  The Starling       Theodore Melfi   \n",
       "2     s13  Movie  Je Suis Karl  Christian Schwochow   \n",
       "3     s25  Movie         Jeans           S. Shankar   \n",
       "4     s28  Movie     Grown Ups         Dennis Dugan   \n",
       "\n",
       "                                                cast  \\\n",
       "0  Kofi Ghanaba, Oyafunmike Ogunlano, Alexandra D...   \n",
       "1  Melissa McCarthy, Chris O'Dowd, Kevin Kline, T...   \n",
       "2  Luna Wedler, Jannis Niewöhner, Milan Peschel, ...   \n",
       "3  Prashanth, Aishwarya Rai Bachchan, Sri Lakshmi...   \n",
       "4  Adam Sandler, Kevin James, Chris Rock, David S...   \n",
       "\n",
       "                                             country rating  \\\n",
       "0  United States, Ghana, Burkina Faso, United Kin...  TV-MA   \n",
       "1                                      United States  PG-13   \n",
       "2                            Germany, Czech Republic  TV-MA   \n",
       "3                                              India  TV-14   \n",
       "4                                      United States  PG-13   \n",
       "\n",
       "                                          listed_in  \\\n",
       "0  Dramas, Independent Movies, International Movies   \n",
       "1                                  Comedies, Dramas   \n",
       "2                      Dramas, International Movies   \n",
       "3   Comedies, International Movies, Romantic Movies   \n",
       "4                                          Comedies   \n",
       "\n",
       "                                         description  \n",
       "0  On a photo shoot in Ghana, an American model s...  \n",
       "1  A woman adjusting to life after a loss contend...  \n",
       "2  After most of her family is murdered in a terr...  \n",
       "3  When the father of the man she loves insists t...  \n",
       "4  Mourning the loss of their beloved junior high...  "
      ]
     },
     "execution_count": 15,
     "metadata": {},
     "output_type": "execute_result"
    }
   ],
   "source": [
    "# Extracting the data regarding movies from the netflix_dataset into the movies data set\n",
    "movies = netflix_dataset[netflix_dataset['type'] == 'Movie'].reset_index()\n",
    "movies = movies.drop(['index', 'release_year', 'duration', 'date_added'], axis=1)\n",
    "movies.head()"
   ]
  },
  {
   "cell_type": "code",
   "execution_count": 16,
   "id": "4bbbe5f0",
   "metadata": {},
   "outputs": [
    {
     "data": {
      "text/html": [
       "<div>\n",
       "<style scoped>\n",
       "    .dataframe tbody tr th:only-of-type {\n",
       "        vertical-align: middle;\n",
       "    }\n",
       "\n",
       "    .dataframe tbody tr th {\n",
       "        vertical-align: top;\n",
       "    }\n",
       "\n",
       "    .dataframe thead th {\n",
       "        text-align: right;\n",
       "    }\n",
       "</style>\n",
       "<table border=\"1\" class=\"dataframe\">\n",
       "  <thead>\n",
       "    <tr style=\"text-align: right;\">\n",
       "      <th></th>\n",
       "      <th>show_id</th>\n",
       "      <th>type</th>\n",
       "      <th>title</th>\n",
       "      <th>director</th>\n",
       "      <th>cast</th>\n",
       "      <th>country</th>\n",
       "      <th>rating</th>\n",
       "      <th>listed_in</th>\n",
       "      <th>description</th>\n",
       "    </tr>\n",
       "  </thead>\n",
       "  <tbody>\n",
       "    <tr>\n",
       "      <th>0</th>\n",
       "      <td>s2</td>\n",
       "      <td>TV Show</td>\n",
       "      <td>Blood &amp; Water</td>\n",
       "      <td>Unkown</td>\n",
       "      <td>Ama Qamata, Khosi Ngema, Gail Mabalane, Thaban...</td>\n",
       "      <td>South Africa</td>\n",
       "      <td>TV-MA</td>\n",
       "      <td>International TV Shows, TV Dramas, TV Mysteries</td>\n",
       "      <td>After crossing paths at a party, a Cape Town t...</td>\n",
       "    </tr>\n",
       "    <tr>\n",
       "      <th>1</th>\n",
       "      <td>s5</td>\n",
       "      <td>TV Show</td>\n",
       "      <td>Kota Factory</td>\n",
       "      <td>Unkown</td>\n",
       "      <td>Mayur More, Jitendra Kumar, Ranjan Raj, Alam K...</td>\n",
       "      <td>India</td>\n",
       "      <td>TV-MA</td>\n",
       "      <td>International TV Shows, Romantic TV Shows, TV ...</td>\n",
       "      <td>In a city of coaching centers known to train I...</td>\n",
       "    </tr>\n",
       "    <tr>\n",
       "      <th>2</th>\n",
       "      <td>s9</td>\n",
       "      <td>TV Show</td>\n",
       "      <td>The Great British Baking Show</td>\n",
       "      <td>Andy Devonshire</td>\n",
       "      <td>Mel Giedroyc, Sue Perkins, Mary Berry, Paul Ho...</td>\n",
       "      <td>United Kingdom</td>\n",
       "      <td>TV-14</td>\n",
       "      <td>British TV Shows, Reality TV</td>\n",
       "      <td>A talented batch of amateur bakers face off in...</td>\n",
       "    </tr>\n",
       "    <tr>\n",
       "      <th>3</th>\n",
       "      <td>s16</td>\n",
       "      <td>TV Show</td>\n",
       "      <td>Dear White People</td>\n",
       "      <td>Unkown</td>\n",
       "      <td>Logan Browning, Brandon P. Bell, DeRon Horton,...</td>\n",
       "      <td>United States</td>\n",
       "      <td>TV-MA</td>\n",
       "      <td>TV Comedies, TV Dramas</td>\n",
       "      <td>Students of color navigate the daily slights a...</td>\n",
       "    </tr>\n",
       "    <tr>\n",
       "      <th>4</th>\n",
       "      <td>s18</td>\n",
       "      <td>TV Show</td>\n",
       "      <td>Falsa identidad</td>\n",
       "      <td>Unkown</td>\n",
       "      <td>Luis Ernesto Franco, Camila Sodi, Sergio Goyri...</td>\n",
       "      <td>Mexico</td>\n",
       "      <td>TV-MA</td>\n",
       "      <td>Crime TV Shows, Spanish-Language TV Shows, TV ...</td>\n",
       "      <td>Strangers Diego and Isabel flee their home in ...</td>\n",
       "    </tr>\n",
       "  </tbody>\n",
       "</table>\n",
       "</div>"
      ],
      "text/plain": [
       "  show_id     type                          title         director  \\\n",
       "0      s2  TV Show                  Blood & Water           Unkown   \n",
       "1      s5  TV Show                   Kota Factory           Unkown   \n",
       "2      s9  TV Show  The Great British Baking Show  Andy Devonshire   \n",
       "3     s16  TV Show              Dear White People           Unkown   \n",
       "4     s18  TV Show                Falsa identidad           Unkown   \n",
       "\n",
       "                                                cast         country rating  \\\n",
       "0  Ama Qamata, Khosi Ngema, Gail Mabalane, Thaban...    South Africa  TV-MA   \n",
       "1  Mayur More, Jitendra Kumar, Ranjan Raj, Alam K...           India  TV-MA   \n",
       "2  Mel Giedroyc, Sue Perkins, Mary Berry, Paul Ho...  United Kingdom  TV-14   \n",
       "3  Logan Browning, Brandon P. Bell, DeRon Horton,...   United States  TV-MA   \n",
       "4  Luis Ernesto Franco, Camila Sodi, Sergio Goyri...          Mexico  TV-MA   \n",
       "\n",
       "                                           listed_in  \\\n",
       "0    International TV Shows, TV Dramas, TV Mysteries   \n",
       "1  International TV Shows, Romantic TV Shows, TV ...   \n",
       "2                       British TV Shows, Reality TV   \n",
       "3                             TV Comedies, TV Dramas   \n",
       "4  Crime TV Shows, Spanish-Language TV Shows, TV ...   \n",
       "\n",
       "                                         description  \n",
       "0  After crossing paths at a party, a Cape Town t...  \n",
       "1  In a city of coaching centers known to train I...  \n",
       "2  A talented batch of amateur bakers face off in...  \n",
       "3  Students of color navigate the daily slights a...  \n",
       "4  Strangers Diego and Isabel flee their home in ...  "
      ]
     },
     "execution_count": 16,
     "metadata": {},
     "output_type": "execute_result"
    }
   ],
   "source": [
    "# Extracting the data regarding tv shows from the netflix_dataset into the tv shows data set\n",
    "tv_shows = netflix_dataset[netflix_dataset['type'] == 'TV Show'].reset_index()\n",
    "tv_shows = tv_shows.drop(['index', 'release_year', 'duration', 'date_added'], axis=1)\n",
    "tv_shows.head()"
   ]
  },
  {
   "cell_type": "code",
   "execution_count": 17,
   "id": "d046bf93",
   "metadata": {},
   "outputs": [],
   "source": [
    "# Initializing the stopwords_list and inserting English stopwords\n",
    "stopwords_list = stopwords.words('english')\n",
    "lemmatizer = WordNetLemmatizer()"
   ]
  },
  {
   "cell_type": "code",
   "execution_count": 18,
   "id": "0d8f0a0d",
   "metadata": {},
   "outputs": [],
   "source": [
    "# Initializing the TF-IDF vertorizer\n",
    "vectorizer = TfidfVectorizer(analyzer='word')"
   ]
  },
  {
   "cell_type": "code",
   "execution_count": 19,
   "id": "03f85d50",
   "metadata": {},
   "outputs": [
    {
     "data": {
      "text/plain": [
       "0       Haile GerimaKofi Ghanaba, Oyafunmike Ogunlano,...\n",
       "1       Theodore MelfiMelissa McCarthy, Chris O'Dowd, ...\n",
       "2       Christian SchwochowLuna Wedler, Jannis Niewöhn...\n",
       "3       S. ShankarPrashanth, Aishwarya Rai Bachchan, S...\n",
       "4       Dennis DuganAdam Sandler, Kevin James, Chris R...\n",
       "                              ...                        \n",
       "5275    Majid Al AnsariAli Suliman, Saleh Bakri, Yasa,...\n",
       "5276    David FincherMark Ruffalo, Jake Gyllenhaal, Ro...\n",
       "5277    Ruben FleischerJesse Eisenberg, Woody Harrelso...\n",
       "5278    Peter HewittTim Allen, Courteney Cox, Chevy Ch...\n",
       "5279    Mozez SinghVicky Kaushal, Sarah-Jane Dias, Raa...\n",
       "Name: all_content, Length: 5280, dtype: object"
      ]
     },
     "execution_count": 19,
     "metadata": {},
     "output_type": "execute_result"
    }
   ],
   "source": [
    "# Creating the 'all_content' column in movies dataset\n",
    "movies['all_content'] = movies['director'] + movies['cast'] + movies['country'] + movies['rating'] + movies['listed_in']\n",
    "movies['all_content']"
   ]
  },
  {
   "cell_type": "code",
   "execution_count": 20,
   "id": "9cad0adc",
   "metadata": {},
   "outputs": [],
   "source": [
    "# Cleaning the 'all_content' column in movies data set and preparing it for the tfidf algorithm\n",
    "for i in range(0, len(movies['all_content'])):\n",
    "    content = re.sub('[^a-zA-Z]', ' ', movies['all_content'][i])\n",
    "    content = content.lower()\n",
    "    content = content.split()\n",
    "    content = [lemmatizer.lemmatize(word) for word in content if not word in set(stopwords_list)]\n",
    "    content = ' '.join(content)\n",
    "    movies['all_content'][i] = content"
   ]
  },
  {
   "cell_type": "code",
   "execution_count": 21,
   "id": "5a577884",
   "metadata": {},
   "outputs": [
    {
     "data": {
      "text/plain": [
       "0       Ama Qamata, Khosi Ngema, Gail Mabalane, Thaban...\n",
       "1       Mayur More, Jitendra Kumar, Ranjan Raj, Alam K...\n",
       "2       Mel Giedroyc, Sue Perkins, Mary Berry, Paul Ho...\n",
       "3       Logan Browning, Brandon P. Bell, DeRon Horton,...\n",
       "4       Luis Ernesto Franco, Camila Sodi, Sergio Goyri...\n",
       "                              ...                        \n",
       "2017    Johnny Yong Bosch, J.W. Terry, Alicyn Packard,...\n",
       "2018    Mike Liscio, Emily Bauer, Billy Bob Thompson, ...\n",
       "2019    Gökhan Atalay, Payidar Tüfekçioglu, Baran Akbu...\n",
       "2020    Michael Johnston, Jessica Gee-George, Christin...\n",
       "2021    Sanam Saeed, Fawad Khan, Ayesha Omer, Mehreen ...\n",
       "Name: all_content, Length: 2022, dtype: object"
      ]
     },
     "execution_count": 21,
     "metadata": {},
     "output_type": "execute_result"
    }
   ],
   "source": [
    "# Creating the 'all_content' column in tv shows data set\n",
    "tv_shows['all_content'] = tv_shows['cast'] + tv_shows['country'] + tv_shows['rating'] + tv_shows['listed_in']\n",
    "tv_shows['all_content']"
   ]
  },
  {
   "cell_type": "code",
   "execution_count": 22,
   "id": "dad7c962",
   "metadata": {},
   "outputs": [],
   "source": [
    "# Cleaning the 'all_content' column in tv shows data set and preparing it for the tfidf algorithm\n",
    "for i in range(0, len(tv_shows['all_content'])):\n",
    "    content = re.sub('[^a-zA-Z]', ' ', tv_shows['all_content'][i])\n",
    "    content = content.lower()\n",
    "    content = content.split()\n",
    "    content = [lemmatizer.lemmatize(word) for word in content if not word in set(stopwords_list)]\n",
    "    content = ' '.join(content)\n",
    "    tv_shows['all_content'][i] = content"
   ]
  },
  {
   "cell_type": "code",
   "execution_count": 23,
   "id": "4d494a29",
   "metadata": {},
   "outputs": [],
   "source": [
    "# Build movie-allcontent tfidf matrix\n",
    "tfidf_movie_matrix = vectorizer.fit_transform(movies['all_content'])"
   ]
  },
  {
   "cell_type": "code",
   "execution_count": 24,
   "id": "c99ed507",
   "metadata": {},
   "outputs": [],
   "source": [
    "# Build movie-description tfidf matrix\n",
    "tfidf_movie_description_matrix = vectorizer.fit_transform(movies['description'])"
   ]
  },
  {
   "cell_type": "code",
   "execution_count": 25,
   "id": "0ff23eff",
   "metadata": {},
   "outputs": [],
   "source": [
    "# Build tv_show-allcontent tfidf matrix\n",
    "tfidf_tv_show_matrix = vectorizer.fit_transform(tv_shows['all_content'])"
   ]
  },
  {
   "cell_type": "code",
   "execution_count": 26,
   "id": "64ed253b",
   "metadata": {},
   "outputs": [],
   "source": [
    "# Build tv_show-description tfidf matrix\n",
    "tfidf_tv_show_description_matrix = vectorizer.fit_transform(tv_shows['description'])"
   ]
  },
  {
   "cell_type": "code",
   "execution_count": 27,
   "id": "95de5db5",
   "metadata": {},
   "outputs": [],
   "source": [
    "tfidf_feature_name = vectorizer.get_feature_names_out()"
   ]
  },
  {
   "cell_type": "code",
   "execution_count": 28,
   "id": "01b76026",
   "metadata": {},
   "outputs": [
    {
     "data": {
      "text/plain": [
       "(5280, 31984)"
      ]
     },
     "execution_count": 28,
     "metadata": {},
     "output_type": "execute_result"
    }
   ],
   "source": [
    "tfidf_movie_matrix.shape"
   ]
  },
  {
   "cell_type": "code",
   "execution_count": 29,
   "id": "ba18da16",
   "metadata": {},
   "outputs": [
    {
     "data": {
      "text/plain": [
       "(5280, 14476)"
      ]
     },
     "execution_count": 29,
     "metadata": {},
     "output_type": "execute_result"
    }
   ],
   "source": [
    "tfidf_movie_description_matrix.shape"
   ]
  },
  {
   "cell_type": "code",
   "execution_count": 30,
   "id": "51f9ba95",
   "metadata": {},
   "outputs": [
    {
     "data": {
      "text/plain": [
       "(2022, 14951)"
      ]
     },
     "execution_count": 30,
     "metadata": {},
     "output_type": "execute_result"
    }
   ],
   "source": [
    "tfidf_tv_show_matrix.shape"
   ]
  },
  {
   "cell_type": "code",
   "execution_count": 31,
   "id": "a3cff93a",
   "metadata": {},
   "outputs": [
    {
     "data": {
      "text/plain": [
       "(2022, 8945)"
      ]
     },
     "execution_count": 31,
     "metadata": {},
     "output_type": "execute_result"
    }
   ],
   "source": [
    "tfidf_tv_show_description_matrix.shape"
   ]
  },
  {
   "cell_type": "code",
   "execution_count": 32,
   "id": "9f784534",
   "metadata": {},
   "outputs": [],
   "source": [
    "# Comping cosine similarity matrix for movies using linear_kernal of sklearn\n",
    "cosine_similarity_movies = linear_kernel(tfidf_movie_matrix, tfidf_movie_matrix)"
   ]
  },
  {
   "cell_type": "code",
   "execution_count": 33,
   "id": "92101f49",
   "metadata": {},
   "outputs": [],
   "source": [
    "# Comping cosine similarity matrix for movies with description using linear_kernal of sklearn\n",
    "cosine_similarity_movies_description = linear_kernel(tfidf_movie_description_matrix, tfidf_movie_description_matrix)"
   ]
  },
  {
   "cell_type": "code",
   "execution_count": 34,
   "id": "e74f310a",
   "metadata": {},
   "outputs": [],
   "source": [
    "# Comping cosine similarity matrix for tv shows using linear_kernal of sklearn\n",
    "cosine_similarity_tv_shows = linear_kernel(tfidf_tv_show_matrix, tfidf_tv_show_matrix)"
   ]
  },
  {
   "cell_type": "code",
   "execution_count": 35,
   "id": "1e74e772",
   "metadata": {},
   "outputs": [],
   "source": [
    "# Comping cosine similarity matrix for tv shows with description using linear_kernal of sklearn\n",
    "cosine_similarity_tv_shows_description = linear_kernel(tfidf_tv_show_description_matrix, tfidf_tv_show_description_matrix)"
   ]
  },
  {
   "cell_type": "code",
   "execution_count": 36,
   "id": "09f400f4",
   "metadata": {},
   "outputs": [],
   "source": [
    "movies = movies.reset_index(drop=True)"
   ]
  },
  {
   "cell_type": "code",
   "execution_count": 37,
   "id": "08c06299",
   "metadata": {},
   "outputs": [],
   "source": [
    "tv_shows = tv_shows.reset_index(drop=True)"
   ]
  },
  {
   "cell_type": "code",
   "execution_count": 38,
   "id": "325daacb",
   "metadata": {},
   "outputs": [],
   "source": [
    "movie_indices = pd.Series(movies['all_content'].index)"
   ]
  },
  {
   "cell_type": "code",
   "execution_count": 39,
   "id": "a570c935",
   "metadata": {},
   "outputs": [],
   "source": [
    "movie_description_indices = pd.Series(movies['description'].index)"
   ]
  },
  {
   "cell_type": "code",
   "execution_count": 40,
   "id": "f961e79a",
   "metadata": {},
   "outputs": [],
   "source": [
    "tv_show_indices = pd.Series(tv_shows['all_content'].index)"
   ]
  },
  {
   "cell_type": "code",
   "execution_count": 41,
   "id": "b5eacea7",
   "metadata": {},
   "outputs": [],
   "source": [
    "tv_show_description_indices = pd.Series(tv_shows['description'].index)"
   ]
  },
  {
   "cell_type": "code",
   "execution_count": 42,
   "id": "37711886",
   "metadata": {},
   "outputs": [],
   "source": [
    "# Function to get the most similar movies using cosine similarity according to multiple features\n",
    "def get_movie_recommendations_using_multiple_features_cosine(title, method):\n",
    "    movie_index = movies[movies['title'].str.lower() == title.lower()].index.item()\n",
    "    id = movie_indices[movie_index]\n",
    "    # Get the pairwise similarity scores of all movies compared that book,\n",
    "    # sorting them and getting top 10\n",
    "    similarity_scores = list(enumerate(method[id]))\n",
    "    similarity_scores = sorted(similarity_scores, key=lambda x: x[1], reverse=True)\n",
    "    similarity_scores = similarity_scores[1:11]\n",
    "    \n",
    "    #Get the movies index\n",
    "    movies_index = [i[0] for i in similarity_scores]\n",
    "    \n",
    "    #Return the top 10 most similar movies using integar-location based indexing (iloc)\n",
    "    return movies['title'].iloc[movies_index]"
   ]
  },
  {
   "cell_type": "code",
   "execution_count": 43,
   "id": "f344096b",
   "metadata": {},
   "outputs": [],
   "source": [
    "# Function to get the most similar tv shows using cosine similarity according to multiple features\n",
    "def get_tv_show_recommendations_using_multiple_features_cosine(title, method):\n",
    "    tv_show_index = tv_shows[tv_shows['title'].str.lower() == title.lower()].index.item()\n",
    "    id = tv_show_indices[tv_show_index]\n",
    "    # Get the pairwise similarity scores of all tv shows compared that book,\n",
    "    # sorting them and getting top 10\n",
    "    similarity_scores = list(enumerate(method[id]))\n",
    "    similarity_scores = sorted(similarity_scores, key=lambda x: x[1], reverse=True)\n",
    "    similarity_scores = similarity_scores[1:11]\n",
    "    \n",
    "    #Get the tv show index\n",
    "    tv_shows_index = [i[0] for i in similarity_scores]\n",
    "    \n",
    "    #Return the top 10 most similar tv shows using integar-location based indexing (iloc)\n",
    "    return tv_shows['title'].iloc[tv_shows_index]"
   ]
  },
  {
   "cell_type": "code",
   "execution_count": 44,
   "id": "4487bb3c",
   "metadata": {},
   "outputs": [],
   "source": [
    "# Function to get recommendations by using cosine similarity according to multiple features\n",
    "def get_recommendations_using_multiple_features_cosine(title):\n",
    "    if title.lower() in movies['title'].str.lower().values:\n",
    "        return(get_movie_recommendations_using_multiple_features_cosine(title, cosine_similarity_movies))\n",
    "    elif title.lower() in tv_shows['title'].str.lower().values:\n",
    "        return(get_tv_show_recommendations_using_multiple_features_cosine(title, cosine_similarity_tv_shows))\n",
    "    else:\n",
    "        return('Title provided could not be found. Please try with another one')"
   ]
  },
  {
   "cell_type": "code",
   "execution_count": 45,
   "id": "e657b967",
   "metadata": {},
   "outputs": [
    {
     "data": {
      "text/plain": [
       "2436    My Little Pony Equestria Girls: Rollercoaster ...\n",
       "4384     My Little Pony Equestria Girls: Friendship Games\n",
       "3152    My Little Pony Equestria Girls: Legend of Ever...\n",
       "4385        My Little Pony Equestria Girls: Rainbow Rocks\n",
       "2289    My Little Pony Friendship Is Magic: Best Gift ...\n",
       "3479                             Barbie in A Mermaid Tale\n",
       "3478                  Barbie & Her Sisters in a Pony Tale\n",
       "3484                        Barbie: Princess Charm School\n",
       "586                LEGO Marvel Spider-Man: Vexed by Venom\n",
       "2786                          Beat Bugs: All Together Now\n",
       "Name: title, dtype: object"
      ]
     },
     "execution_count": 45,
     "metadata": {},
     "output_type": "execute_result"
    }
   ],
   "source": [
    "get_recommendations_using_multiple_features_cosine('My Little Pony Equestria Girls: Forgotten Friendship')"
   ]
  },
  {
   "cell_type": "code",
   "execution_count": 46,
   "id": "997d6d77",
   "metadata": {},
   "outputs": [
    {
     "data": {
      "text/plain": [
       "934     13 Reasons Why: Beyond the Reasons\n",
       "786                       Private Practice\n",
       "1392                The Day I Met El Chapo\n",
       "1413                             Frequency\n",
       "117                         Grey's Anatomy\n",
       "1073                             Imposters\n",
       "74                        The Walking Dead\n",
       "951                               Sintonia\n",
       "272                              MeatEater\n",
       "732                               Shopkins\n",
       "Name: title, dtype: object"
      ]
     },
     "execution_count": 46,
     "metadata": {},
     "output_type": "execute_result"
    }
   ],
   "source": [
    "get_recommendations_using_multiple_features_cosine('13 Reasons Why')"
   ]
  },
  {
   "cell_type": "code",
   "execution_count": 47,
   "id": "5e31ff06",
   "metadata": {},
   "outputs": [],
   "source": [
    "# Function to get the most similar movies using cosine similarity according to description\n",
    "def get_movie_recommendations_using_description_cosine(title, method):\n",
    "    movie_index = movies[movies['title'].str.lower() == title.lower()].index.item()\n",
    "    id = movie_description_indices[movie_index]\n",
    "    # Get the pairwise similarity scores of all movies compared that book,\n",
    "    # sorting them and getting top 10\n",
    "    similarity_scores = list(enumerate(method[id]))\n",
    "    similarity_scores = sorted(similarity_scores, key=lambda x: x[1], reverse=True)\n",
    "    similarity_scores = similarity_scores[1:11]\n",
    "    \n",
    "    #Get the movies index\n",
    "    movies_index = [i[0] for i in similarity_scores]\n",
    "    \n",
    "    #Return the top 10 most similar movies using integar-location based indexing (iloc)\n",
    "    return movies['title'].iloc[movies_index]"
   ]
  },
  {
   "cell_type": "code",
   "execution_count": 48,
   "id": "970f23c7",
   "metadata": {},
   "outputs": [],
   "source": [
    "# Function to get the most similar tv shows using cosine similarity according to description\n",
    "def get_tv_show_recommendations_using_description_cosine(title, method):\n",
    "    tv_show_index = tv_shows[tv_shows['title'].str.lower() == title.lower()].index.item()\n",
    "    id = tv_show_description_indices[tv_show_index]\n",
    "    # Get the pairwise similarity scores of all tv shows compared that book,\n",
    "    # sorting them and getting top 10\n",
    "    similarity_scores = list(enumerate(method[id]))\n",
    "    similarity_scores = sorted(similarity_scores, key=lambda x: x[1], reverse=True)\n",
    "    similarity_scores = similarity_scores[1:11]\n",
    "    \n",
    "    #Get the tv show index\n",
    "    tv_shows_index = [i[0] for i in similarity_scores]\n",
    "    \n",
    "    #Return the top 10 most similar tv shows using integar-location based indexing (iloc)\n",
    "    return tv_shows['title'].iloc[tv_shows_index]"
   ]
  },
  {
   "cell_type": "code",
   "execution_count": 49,
   "id": "839b517d",
   "metadata": {},
   "outputs": [],
   "source": [
    "# Function to get recommendations by using cosine similarity according to description\n",
    "def get_recommendations_using_description_cosine(title):\n",
    "    if title.lower() in movies['title'].str.lower().values:\n",
    "        return(get_movie_recommendations_using_description_cosine(title, cosine_similarity_movies_description))\n",
    "    elif title.lower() in tv_shows['title'].str.lower().values:\n",
    "        return(get_tv_show_recommendations_using_description_cosine(title, cosine_similarity_tv_shows_description))\n",
    "    else:\n",
    "        return('Title provided could not be found. Please try with another one')"
   ]
  },
  {
   "cell_type": "code",
   "execution_count": 50,
   "id": "baa893c8",
   "metadata": {},
   "outputs": [
    {
     "data": {
      "text/plain": [
       "2275                                Line Walker\n",
       "1767        100 Things to do Before High School\n",
       "203                             Rock the Kasbah\n",
       "562                                Just In Time\n",
       "3979                              Hell and Back\n",
       "2650                                  Orbiter 9\n",
       "4667                                   Scream 2\n",
       "1693    Spirit Riding Free: Spirit of Christmas\n",
       "3307                                4th Man Out\n",
       "1926                             ¡Ay, mi madre!\n",
       "Name: title, dtype: object"
      ]
     },
     "execution_count": 50,
     "metadata": {},
     "output_type": "execute_result"
    }
   ],
   "source": [
    "get_recommendations_using_description_cosine('My Little Pony Equestria Girls: Forgotten Friendship')"
   ]
  },
  {
   "cell_type": "code",
   "execution_count": 51,
   "id": "4d2ed181",
   "metadata": {},
   "outputs": [
    {
     "data": {
      "text/plain": [
       "725     Cagaster of an Insect Cage\n",
       "789              Twice Upon A Time\n",
       "1124                 Hidden Worlds\n",
       "1296          Arrested Development\n",
       "878                    The Untamed\n",
       "1428                     Entangled\n",
       "391               Graceful Friends\n",
       "1472                     Mind Game\n",
       "1081                         Tango\n",
       "1196              Silvana Sin Lana\n",
       "Name: title, dtype: object"
      ]
     },
     "execution_count": 51,
     "metadata": {},
     "output_type": "execute_result"
    }
   ],
   "source": [
    "get_recommendations_using_description_cosine('13 Reasons Why')"
   ]
  },
  {
   "cell_type": "code",
   "execution_count": 52,
   "id": "5d627c4e",
   "metadata": {},
   "outputs": [],
   "source": [
    "# Computing Euclidean distances in the tfidf_movie_matrix\n",
    "D_movies = euclidean_distances(tfidf_movie_matrix)"
   ]
  },
  {
   "cell_type": "code",
   "execution_count": 53,
   "id": "7cb38b84",
   "metadata": {},
   "outputs": [],
   "source": [
    "# Computing Euclidean distances in the tfidf_movie_description_matrix\n",
    "D_movies_description = euclidean_distances(tfidf_movie_description_matrix)"
   ]
  },
  {
   "cell_type": "code",
   "execution_count": 54,
   "id": "a51983cc",
   "metadata": {},
   "outputs": [],
   "source": [
    "# Computing Euclidean distances in the tfidf_tv_show_matrix\n",
    "D_tv_shows = euclidean_distances(tfidf_tv_show_matrix)"
   ]
  },
  {
   "cell_type": "code",
   "execution_count": 55,
   "id": "7af37967",
   "metadata": {},
   "outputs": [],
   "source": [
    "# Computing Euclidean distances in the tfidf_tv_show_description_matrix\n",
    "D_tv_shows_description = euclidean_distances(tfidf_tv_show_description_matrix)"
   ]
  },
  {
   "cell_type": "code",
   "execution_count": 56,
   "id": "658762e4",
   "metadata": {},
   "outputs": [],
   "source": [
    "# Function to get the most similar movies using euclidean distance according to multiple features\n",
    "def get_movie_recommendations_using_multiple_features_euclidean_distance(title):\n",
    "    movie_index = movies[movies['title'].str.lower() == title.lower()].index.item()\n",
    "    id = movie_indices[movie_index]\n",
    "    distance = list(enumerate(D_movies[id]))\n",
    "    distance = sorted(distance, key=lambda x: x[1])\n",
    "    distance = distance[1:11]\n",
    "    #Get the movies index\n",
    "    movies_index = [i[0] for i in distance]\n",
    "\n",
    "    #Return the top 10 most similar movies using integar-location based indexing (iloc)\n",
    "    return movies['title'].iloc[movies_index]"
   ]
  },
  {
   "cell_type": "code",
   "execution_count": 57,
   "id": "f7a1972b",
   "metadata": {},
   "outputs": [],
   "source": [
    "# Function to get the most similar tv shows using euclidean distance according to multiple features\n",
    "def get_tv_show_recommendations_using_multiple_features_euclidean_distance(title):\n",
    "    tv_show_index = tv_shows[tv_shows['title'].str.lower() == title.lower()].index.item()\n",
    "    id = tv_show_indices[tv_show_index]\n",
    "    distance = list(enumerate(D_tv_shows[id]))\n",
    "    distance = sorted(distance, key=lambda x: x[1])\n",
    "    distance = distance[1:11]\n",
    "    #Get the tv shows index\n",
    "    tv_shows_index = [i[0] for i in distance]\n",
    "\n",
    "    #Return the top 10 most similar tv shows using integar-location based indexing (iloc)\n",
    "    return tv_shows['title'].iloc[tv_shows_index]"
   ]
  },
  {
   "cell_type": "code",
   "execution_count": 58,
   "id": "112997c2",
   "metadata": {},
   "outputs": [],
   "source": [
    "# Function to get recommendations by using euclidean distance according to multiple features\n",
    "def get_recommendations_using_multiple_features_euclidean_distance(title):\n",
    "    if title.lower() in movies['title'].str.lower().values:\n",
    "        return(get_movie_recommendations_using_multiple_features_euclidean_distance(title))\n",
    "    elif title.lower() in tv_shows['title'].str.lower().values:\n",
    "        return(get_tv_show_recommendations_using_multiple_features_euclidean_distance(title))\n",
    "    else:\n",
    "        return('Title provided could not be found. Please try with another one')"
   ]
  },
  {
   "cell_type": "code",
   "execution_count": 59,
   "id": "5fb66188",
   "metadata": {},
   "outputs": [
    {
     "data": {
      "text/plain": [
       "2436    My Little Pony Equestria Girls: Rollercoaster ...\n",
       "4384     My Little Pony Equestria Girls: Friendship Games\n",
       "3152    My Little Pony Equestria Girls: Legend of Ever...\n",
       "4385        My Little Pony Equestria Girls: Rainbow Rocks\n",
       "2289    My Little Pony Friendship Is Magic: Best Gift ...\n",
       "3479                             Barbie in A Mermaid Tale\n",
       "3478                  Barbie & Her Sisters in a Pony Tale\n",
       "3484                        Barbie: Princess Charm School\n",
       "586                LEGO Marvel Spider-Man: Vexed by Venom\n",
       "2786                          Beat Bugs: All Together Now\n",
       "Name: title, dtype: object"
      ]
     },
     "execution_count": 59,
     "metadata": {},
     "output_type": "execute_result"
    }
   ],
   "source": [
    "get_recommendations_using_multiple_features_euclidean_distance('My Little Pony Equestria Girls: Forgotten Friendship')"
   ]
  },
  {
   "cell_type": "code",
   "execution_count": 60,
   "id": "e9a63cdc",
   "metadata": {},
   "outputs": [
    {
     "data": {
      "text/plain": [
       "934     13 Reasons Why: Beyond the Reasons\n",
       "786                       Private Practice\n",
       "1392                The Day I Met El Chapo\n",
       "1413                             Frequency\n",
       "117                         Grey's Anatomy\n",
       "1073                             Imposters\n",
       "74                        The Walking Dead\n",
       "951                               Sintonia\n",
       "272                              MeatEater\n",
       "732                               Shopkins\n",
       "Name: title, dtype: object"
      ]
     },
     "execution_count": 60,
     "metadata": {},
     "output_type": "execute_result"
    }
   ],
   "source": [
    "get_recommendations_using_multiple_features_euclidean_distance('13 Reasons Why')"
   ]
  },
  {
   "cell_type": "code",
   "execution_count": 61,
   "id": "8240d7ec",
   "metadata": {},
   "outputs": [],
   "source": [
    "# Function to get the most similar movies using euclidean distance according to description\n",
    "def get_movie_recommendations_using_description_euclidean_distance(title):\n",
    "    movie_index = movies[movies['title'].str.lower() == title.lower()].index.item()\n",
    "    id = movie_description_indices[movie_index]\n",
    "    distance = list(enumerate(D_movies_description[id]))\n",
    "    distance = sorted(distance, key=lambda x: x[1])\n",
    "    distance = distance[1:11]\n",
    "    #Get the movies index\n",
    "    movies_index = [i[0] for i in distance]\n",
    "\n",
    "    #Return the top 10 most similar movies using integar-location based indexing (iloc)\n",
    "    return movies['title'].iloc[movies_index]"
   ]
  },
  {
   "cell_type": "code",
   "execution_count": 62,
   "id": "62008c70",
   "metadata": {},
   "outputs": [],
   "source": [
    "# Function to get the most similar tv shows using euclidean distance according to description\n",
    "def get_tv_show_recommendations_using_description_euclidean_distance(title):\n",
    "    tv_show_index = tv_shows[tv_shows['title'].str.lower() == title.lower()].index.item()\n",
    "    id = tv_show_description_indices[tv_show_index]\n",
    "    distance = list(enumerate(D_tv_shows_description[id]))\n",
    "    distance = sorted(distance, key=lambda x: x[1])\n",
    "    distance = distance[1:11]\n",
    "    #Get the tv shows index\n",
    "    tv_shows_index = [i[0] for i in distance]\n",
    "\n",
    "    #Return the top 10 most similar tv shows using integar-location based indexing (iloc)\n",
    "    return tv_shows['title'].iloc[tv_shows_index]"
   ]
  },
  {
   "cell_type": "code",
   "execution_count": 63,
   "id": "3bd7e13d",
   "metadata": {},
   "outputs": [],
   "source": [
    "# Function to get recommendations using euclidean distance according to description\n",
    "def get_recommendations_using_description_euclidean_distance(title):\n",
    "    if title.lower() in movies['title'].str.lower().values:\n",
    "        return(get_movie_recommendations_using_description_euclidean_distance(title))\n",
    "    elif title.lower() in tv_shows['title'].str.lower().values:\n",
    "        return(get_tv_show_recommendations_using_description_euclidean_distance(title))\n",
    "    else:\n",
    "        return('Title provided could not be found. Please try with another one')"
   ]
  },
  {
   "cell_type": "code",
   "execution_count": 64,
   "id": "cca77347",
   "metadata": {},
   "outputs": [
    {
     "data": {
      "text/plain": [
       "2275                                Line Walker\n",
       "1767        100 Things to do Before High School\n",
       "203                             Rock the Kasbah\n",
       "562                                Just In Time\n",
       "3979                              Hell and Back\n",
       "2650                                  Orbiter 9\n",
       "4667                                   Scream 2\n",
       "1693    Spirit Riding Free: Spirit of Christmas\n",
       "3307                                4th Man Out\n",
       "1926                             ¡Ay, mi madre!\n",
       "Name: title, dtype: object"
      ]
     },
     "execution_count": 64,
     "metadata": {},
     "output_type": "execute_result"
    }
   ],
   "source": [
    "get_recommendations_using_description_euclidean_distance('My Little Pony Equestria Girls: Forgotten Friendship')"
   ]
  },
  {
   "cell_type": "code",
   "execution_count": 65,
   "id": "618181b8",
   "metadata": {},
   "outputs": [
    {
     "data": {
      "text/plain": [
       "725     Cagaster of an Insect Cage\n",
       "789              Twice Upon A Time\n",
       "1124                 Hidden Worlds\n",
       "1296          Arrested Development\n",
       "878                    The Untamed\n",
       "1428                     Entangled\n",
       "391               Graceful Friends\n",
       "1472                     Mind Game\n",
       "1081                         Tango\n",
       "1196              Silvana Sin Lana\n",
       "Name: title, dtype: object"
      ]
     },
     "execution_count": 65,
     "metadata": {},
     "output_type": "execute_result"
    }
   ],
   "source": [
    "get_recommendations_using_description_euclidean_distance('13 Reasons Why')"
   ]
  },
  {
   "cell_type": "code",
   "execution_count": 66,
   "id": "44be3a25",
   "metadata": {},
   "outputs": [],
   "source": [
    "# Computing an array out of tfidf_movie_matrix\n",
    "tfidf_movie_array = tfidf_movie_matrix.toarray()"
   ]
  },
  {
   "cell_type": "code",
   "execution_count": 67,
   "id": "ce72f878",
   "metadata": {},
   "outputs": [],
   "source": [
    "# Computing an array out of tfidf_movie_description_matrix\n",
    "tfidf_movie_description_array = tfidf_movie_description_matrix.toarray()"
   ]
  },
  {
   "cell_type": "code",
   "execution_count": 68,
   "id": "f0540e07",
   "metadata": {},
   "outputs": [],
   "source": [
    "# Computing an array out of tfidf_tv_show_matrix\n",
    "tfidf_tv_show_array = tfidf_tv_show_matrix.toarray()"
   ]
  },
  {
   "cell_type": "code",
   "execution_count": 69,
   "id": "f3c260f7",
   "metadata": {},
   "outputs": [],
   "source": [
    "# Computing an array out of tfidf_tv_show_description_matrix\n",
    "tfidf_tv_show_description_array = tfidf_tv_show_description_matrix.toarray()"
   ]
  },
  {
   "cell_type": "code",
   "execution_count": 70,
   "id": "279e160a",
   "metadata": {},
   "outputs": [],
   "source": [
    "# Function to get the most similar movies using Pearson's Correlation according to multiple features\n",
    "def get_movie_recommendations_using_multiple_features_pearson(title):\n",
    "    movie_index = movies[movies['title'].str.lower() == title.lower()].index.item()\n",
    "    id = movie_indices[movie_index]\n",
    "    correlation = []\n",
    "    for i in range(len(tfidf_movie_array)):\n",
    "        correlation.append(pearsonr(tfidf_movie_array[id], tfidf_movie_array[i])[0])\n",
    "    correlation = list(enumerate(correlation))\n",
    "    sorted_corr = sorted(correlation, reverse=True, key=lambda x: x[1])[1:11]\n",
    "    movies_index = [i[0] for i in sorted_corr]\n",
    "    return movies['title'].iloc[movies_index]"
   ]
  },
  {
   "cell_type": "code",
   "execution_count": 71,
   "id": "a4ee7b79",
   "metadata": {},
   "outputs": [],
   "source": [
    "# Function to get the most similar tv shows using Pearson's Correlation according to multiple features\n",
    "def get_tv_show_recommendations_using_multiple_features_pearson(title):\n",
    "    tv_show_index = tv_shows[tv_shows['title'].str.lower() == title.lower()].index.item()\n",
    "    id = tv_show_indices[tv_show_index]\n",
    "    correlation = []\n",
    "    for i in range(len(tfidf_tv_show_array)):\n",
    "        correlation.append(pearsonr(tfidf_tv_show_array[id], tfidf_tv_show_array[i])[0])\n",
    "    correlation = list(enumerate(correlation))\n",
    "    sorted_corr = sorted(correlation, reverse=True, key=lambda x: x[1])[1:11]\n",
    "    tv_shows_index = [i[0] for i in sorted_corr]\n",
    "    return tv_shows['title'].iloc[tv_shows_index]"
   ]
  },
  {
   "cell_type": "code",
   "execution_count": 72,
   "id": "1c0db4b8",
   "metadata": {},
   "outputs": [],
   "source": [
    "# Function to get recommendations by using Pearson's Correlation according to multiple features\n",
    "def get_recommendations_using_multiple_features_pearson(title):\n",
    "    if title.lower() in movies['title'].str.lower().values:\n",
    "        return(get_movie_recommendations_using_multiple_features_pearson(title))\n",
    "    elif title.lower() in tv_shows['title'].str.lower().values:\n",
    "        return(get_tv_show_recommendations_using_multiple_features_pearson(title))\n",
    "    else:\n",
    "        return('Title provided could not be found. Please try with another one')"
   ]
  },
  {
   "cell_type": "code",
   "execution_count": 73,
   "id": "bfb7f3ec",
   "metadata": {},
   "outputs": [
    {
     "data": {
      "text/plain": [
       "2436    My Little Pony Equestria Girls: Rollercoaster ...\n",
       "4384     My Little Pony Equestria Girls: Friendship Games\n",
       "3152    My Little Pony Equestria Girls: Legend of Ever...\n",
       "4385        My Little Pony Equestria Girls: Rainbow Rocks\n",
       "2289    My Little Pony Friendship Is Magic: Best Gift ...\n",
       "3479                             Barbie in A Mermaid Tale\n",
       "3478                  Barbie & Her Sisters in a Pony Tale\n",
       "3484                        Barbie: Princess Charm School\n",
       "586                LEGO Marvel Spider-Man: Vexed by Venom\n",
       "2786                          Beat Bugs: All Together Now\n",
       "Name: title, dtype: object"
      ]
     },
     "execution_count": 73,
     "metadata": {},
     "output_type": "execute_result"
    }
   ],
   "source": [
    "get_recommendations_using_multiple_features_pearson('My Little Pony Equestria Girls: Forgotten Friendship')"
   ]
  },
  {
   "cell_type": "code",
   "execution_count": 74,
   "id": "0fea7c76",
   "metadata": {},
   "outputs": [
    {
     "data": {
      "text/plain": [
       "934     13 Reasons Why: Beyond the Reasons\n",
       "786                       Private Practice\n",
       "1392                The Day I Met El Chapo\n",
       "1413                             Frequency\n",
       "117                         Grey's Anatomy\n",
       "1073                             Imposters\n",
       "951                               Sintonia\n",
       "74                        The Walking Dead\n",
       "732                               Shopkins\n",
       "272                              MeatEater\n",
       "Name: title, dtype: object"
      ]
     },
     "execution_count": 74,
     "metadata": {},
     "output_type": "execute_result"
    }
   ],
   "source": [
    "get_recommendations_using_multiple_features_pearson('13 Reasons Why')"
   ]
  },
  {
   "cell_type": "code",
   "execution_count": 75,
   "id": "302a93fd",
   "metadata": {},
   "outputs": [],
   "source": [
    "# Function to get the most similar movies using Pearson's Correlation according to description\n",
    "def get_movie_recommendations_using_description_pearson(title):\n",
    "    movie_index = movies[movies['title'].str.lower() == title.lower()].index.item()\n",
    "    id = movie_description_indices[movie_index]\n",
    "    correlation = []\n",
    "    for i in range(len(tfidf_movie_description_array)):\n",
    "        correlation.append(pearsonr(tfidf_movie_description_array[id], tfidf_movie_description_array[i])[0])\n",
    "    correlation = list(enumerate(correlation))\n",
    "    sorted_corr = sorted(correlation, reverse=True, key=lambda x: x[1])[1:11]\n",
    "    movies_index = [i[0] for i in sorted_corr]\n",
    "    return movies['title'].iloc[movies_index]"
   ]
  },
  {
   "cell_type": "code",
   "execution_count": 76,
   "id": "59bbb8f1",
   "metadata": {},
   "outputs": [],
   "source": [
    "# Function to get the most similar tv shows using Pearson's Correlation according to description\n",
    "def get_tv_show_recommendations_using_description_pearson(title):\n",
    "    tv_show_index = tv_shows[tv_shows['title'].str.lower() == title.lower()].index.item()\n",
    "    id = tv_show_description_indices[tv_show_index]\n",
    "    correlation = []\n",
    "    for i in range(len(tfidf_tv_show_description_array)):\n",
    "        correlation.append(pearsonr(tfidf_tv_show_description_array[id], tfidf_tv_show_description_array[i])[0])\n",
    "    correlation = list(enumerate(correlation))\n",
    "    sorted_corr = sorted(correlation, reverse=True, key=lambda x: x[1])[1:11]\n",
    "    tv_shows_index = [i[0] for i in sorted_corr]\n",
    "    return tv_shows['title'].iloc[tv_shows_index]"
   ]
  },
  {
   "cell_type": "code",
   "execution_count": 77,
   "id": "60d0c0f9",
   "metadata": {},
   "outputs": [],
   "source": [
    "# Function to get recommendations by using Pearson's Correlation according to description\n",
    "def get_recommendations_using_description_pearson(title):\n",
    "    if title.lower() in movies['title'].str.lower().values:\n",
    "        return(get_movie_recommendations_using_description_pearson(title))\n",
    "    elif title.lower() in tv_shows['title'].str.lower().values:\n",
    "        return(get_tv_show_recommendations_using_description_pearson(title))\n",
    "    else:\n",
    "        return('Title provided could not be found. Please try with another one')"
   ]
  },
  {
   "cell_type": "code",
   "execution_count": 78,
   "id": "0ded3800",
   "metadata": {},
   "outputs": [
    {
     "data": {
      "text/plain": [
       "2275                                Line Walker\n",
       "1767        100 Things to do Before High School\n",
       "203                             Rock the Kasbah\n",
       "562                                Just In Time\n",
       "3979                              Hell and Back\n",
       "2650                                  Orbiter 9\n",
       "4667                                   Scream 2\n",
       "1693    Spirit Riding Free: Spirit of Christmas\n",
       "3307                                4th Man Out\n",
       "1926                             ¡Ay, mi madre!\n",
       "Name: title, dtype: object"
      ]
     },
     "execution_count": 78,
     "metadata": {},
     "output_type": "execute_result"
    }
   ],
   "source": [
    "get_recommendations_using_description_pearson('My Little Pony Equestria Girls: Forgotten Friendship')"
   ]
  },
  {
   "cell_type": "code",
   "execution_count": 79,
   "id": "d332ca34",
   "metadata": {},
   "outputs": [
    {
     "data": {
      "text/plain": [
       "725     Cagaster of an Insect Cage\n",
       "789              Twice Upon A Time\n",
       "1124                 Hidden Worlds\n",
       "1296          Arrested Development\n",
       "878                    The Untamed\n",
       "1428                     Entangled\n",
       "391               Graceful Friends\n",
       "1472                     Mind Game\n",
       "1081                         Tango\n",
       "1196              Silvana Sin Lana\n",
       "Name: title, dtype: object"
      ]
     },
     "execution_count": 79,
     "metadata": {},
     "output_type": "execute_result"
    }
   ],
   "source": [
    "get_recommendations_using_description_pearson('13 Reasons Why')"
   ]
  },
  {
   "cell_type": "code",
   "execution_count": 80,
   "id": "fc41bc4b",
   "metadata": {},
   "outputs": [],
   "source": [
    "# Rating prediction part of the code"
   ]
  },
  {
   "cell_type": "code",
   "execution_count": 81,
   "id": "8a2a8acd",
   "metadata": {},
   "outputs": [
    {
     "data": {
      "text/html": [
       "<div>\n",
       "<style scoped>\n",
       "    .dataframe tbody tr th:only-of-type {\n",
       "        vertical-align: middle;\n",
       "    }\n",
       "\n",
       "    .dataframe tbody tr th {\n",
       "        vertical-align: top;\n",
       "    }\n",
       "\n",
       "    .dataframe thead th {\n",
       "        text-align: right;\n",
       "    }\n",
       "</style>\n",
       "<table border=\"1\" class=\"dataframe\">\n",
       "  <thead>\n",
       "    <tr style=\"text-align: right;\">\n",
       "      <th></th>\n",
       "      <th>show_id</th>\n",
       "      <th>type</th>\n",
       "      <th>title</th>\n",
       "      <th>director</th>\n",
       "      <th>cast</th>\n",
       "      <th>country</th>\n",
       "      <th>date_added</th>\n",
       "      <th>release_year</th>\n",
       "      <th>rating</th>\n",
       "      <th>duration</th>\n",
       "      <th>listed_in</th>\n",
       "      <th>description</th>\n",
       "    </tr>\n",
       "  </thead>\n",
       "  <tbody>\n",
       "    <tr>\n",
       "      <th>1</th>\n",
       "      <td>s2</td>\n",
       "      <td>TV Show</td>\n",
       "      <td>Blood &amp; Water</td>\n",
       "      <td>Unkown</td>\n",
       "      <td>Ama Qamata, Khosi Ngema, Gail Mabalane, Thaban...</td>\n",
       "      <td>South Africa</td>\n",
       "      <td>September 24, 2021</td>\n",
       "      <td>2021</td>\n",
       "      <td>TV-MA</td>\n",
       "      <td>2 Seasons</td>\n",
       "      <td>International TV Shows, TV Dramas, TV Mysteries</td>\n",
       "      <td>After crossing paths at a party, a Cape Town t...</td>\n",
       "    </tr>\n",
       "    <tr>\n",
       "      <th>4</th>\n",
       "      <td>s5</td>\n",
       "      <td>TV Show</td>\n",
       "      <td>Kota Factory</td>\n",
       "      <td>Unkown</td>\n",
       "      <td>Mayur More, Jitendra Kumar, Ranjan Raj, Alam K...</td>\n",
       "      <td>India</td>\n",
       "      <td>September 24, 2021</td>\n",
       "      <td>2021</td>\n",
       "      <td>TV-MA</td>\n",
       "      <td>2 Seasons</td>\n",
       "      <td>International TV Shows, Romantic TV Shows, TV ...</td>\n",
       "      <td>In a city of coaching centers known to train I...</td>\n",
       "    </tr>\n",
       "    <tr>\n",
       "      <th>7</th>\n",
       "      <td>s8</td>\n",
       "      <td>Movie</td>\n",
       "      <td>Sankofa</td>\n",
       "      <td>Haile Gerima</td>\n",
       "      <td>Kofi Ghanaba, Oyafunmike Ogunlano, Alexandra D...</td>\n",
       "      <td>United States, Ghana, Burkina Faso, United Kin...</td>\n",
       "      <td>September 24, 2021</td>\n",
       "      <td>1993</td>\n",
       "      <td>TV-MA</td>\n",
       "      <td>125 min</td>\n",
       "      <td>Dramas, Independent Movies, International Movies</td>\n",
       "      <td>On a photo shoot in Ghana, an American model s...</td>\n",
       "    </tr>\n",
       "    <tr>\n",
       "      <th>8</th>\n",
       "      <td>s9</td>\n",
       "      <td>TV Show</td>\n",
       "      <td>The Great British Baking Show</td>\n",
       "      <td>Andy Devonshire</td>\n",
       "      <td>Mel Giedroyc, Sue Perkins, Mary Berry, Paul Ho...</td>\n",
       "      <td>United Kingdom</td>\n",
       "      <td>September 24, 2021</td>\n",
       "      <td>2021</td>\n",
       "      <td>TV-14</td>\n",
       "      <td>9 Seasons</td>\n",
       "      <td>British TV Shows, Reality TV</td>\n",
       "      <td>A talented batch of amateur bakers face off in...</td>\n",
       "    </tr>\n",
       "    <tr>\n",
       "      <th>9</th>\n",
       "      <td>s10</td>\n",
       "      <td>Movie</td>\n",
       "      <td>The Starling</td>\n",
       "      <td>Theodore Melfi</td>\n",
       "      <td>Melissa McCarthy, Chris O'Dowd, Kevin Kline, T...</td>\n",
       "      <td>United States</td>\n",
       "      <td>September 24, 2021</td>\n",
       "      <td>2021</td>\n",
       "      <td>PG-13</td>\n",
       "      <td>104 min</td>\n",
       "      <td>Comedies, Dramas</td>\n",
       "      <td>A woman adjusting to life after a loss contend...</td>\n",
       "    </tr>\n",
       "  </tbody>\n",
       "</table>\n",
       "</div>"
      ],
      "text/plain": [
       "  show_id     type                          title         director  \\\n",
       "1      s2  TV Show                  Blood & Water           Unkown   \n",
       "4      s5  TV Show                   Kota Factory           Unkown   \n",
       "7      s8    Movie                        Sankofa     Haile Gerima   \n",
       "8      s9  TV Show  The Great British Baking Show  Andy Devonshire   \n",
       "9     s10    Movie                   The Starling   Theodore Melfi   \n",
       "\n",
       "                                                cast  \\\n",
       "1  Ama Qamata, Khosi Ngema, Gail Mabalane, Thaban...   \n",
       "4  Mayur More, Jitendra Kumar, Ranjan Raj, Alam K...   \n",
       "7  Kofi Ghanaba, Oyafunmike Ogunlano, Alexandra D...   \n",
       "8  Mel Giedroyc, Sue Perkins, Mary Berry, Paul Ho...   \n",
       "9  Melissa McCarthy, Chris O'Dowd, Kevin Kline, T...   \n",
       "\n",
       "                                             country          date_added  \\\n",
       "1                                       South Africa  September 24, 2021   \n",
       "4                                              India  September 24, 2021   \n",
       "7  United States, Ghana, Burkina Faso, United Kin...  September 24, 2021   \n",
       "8                                     United Kingdom  September 24, 2021   \n",
       "9                                      United States  September 24, 2021   \n",
       "\n",
       "   release_year rating   duration  \\\n",
       "1          2021  TV-MA  2 Seasons   \n",
       "4          2021  TV-MA  2 Seasons   \n",
       "7          1993  TV-MA    125 min   \n",
       "8          2021  TV-14  9 Seasons   \n",
       "9          2021  PG-13    104 min   \n",
       "\n",
       "                                           listed_in  \\\n",
       "1    International TV Shows, TV Dramas, TV Mysteries   \n",
       "4  International TV Shows, Romantic TV Shows, TV ...   \n",
       "7   Dramas, Independent Movies, International Movies   \n",
       "8                       British TV Shows, Reality TV   \n",
       "9                                   Comedies, Dramas   \n",
       "\n",
       "                                         description  \n",
       "1  After crossing paths at a party, a Cape Town t...  \n",
       "4  In a city of coaching centers known to train I...  \n",
       "7  On a photo shoot in Ghana, an American model s...  \n",
       "8  A talented batch of amateur bakers face off in...  \n",
       "9  A woman adjusting to life after a loss contend...  "
      ]
     },
     "execution_count": 81,
     "metadata": {},
     "output_type": "execute_result"
    }
   ],
   "source": [
    "# Reading the netflix data set file and importing it to the netflix_dataset\n",
    "# Taking care of the null values in the same way as before \n",
    "netflix_dataset = pd.read_csv('./netflix_titles.csv')\n",
    "netflix_dataset = netflix_dataset.dropna(subset=['cast', 'country', 'rating'])\n",
    "netflix_dataset['director'].fillna('Unkown', inplace = True)\n",
    "netflix_dataset.reset_index()\n",
    "netflix_dataset.head()"
   ]
  },
  {
   "cell_type": "code",
   "execution_count": 82,
   "id": "b5611e1e",
   "metadata": {},
   "outputs": [
    {
     "name": "stderr",
     "output_type": "stream",
     "text": [
      "C:\\Users\\dinko\\AppData\\Local\\Temp/ipykernel_9300/107599470.py:12: SettingWithCopyWarning: \n",
      "A value is trying to be set on a copy of a slice from a DataFrame\n",
      "\n",
      "See the caveats in the documentation: https://pandas.pydata.org/pandas-docs/stable/user_guide/indexing.html#returning-a-view-versus-a-copy\n",
      "  movies['description'][i] = content\n",
      "C:\\Users\\dinko\\AppData\\Local\\Temp/ipykernel_9300/107599470.py:19: SettingWithCopyWarning: \n",
      "A value is trying to be set on a copy of a slice from a DataFrame\n",
      "\n",
      "See the caveats in the documentation: https://pandas.pydata.org/pandas-docs/stable/user_guide/indexing.html#returning-a-view-versus-a-copy\n",
      "  movies['all_content'][i] = content\n"
     ]
    },
    {
     "data": {
      "text/html": [
       "<div>\n",
       "<style scoped>\n",
       "    .dataframe tbody tr th:only-of-type {\n",
       "        vertical-align: middle;\n",
       "    }\n",
       "\n",
       "    .dataframe tbody tr th {\n",
       "        vertical-align: top;\n",
       "    }\n",
       "\n",
       "    .dataframe thead th {\n",
       "        text-align: right;\n",
       "    }\n",
       "</style>\n",
       "<table border=\"1\" class=\"dataframe\">\n",
       "  <thead>\n",
       "    <tr style=\"text-align: right;\">\n",
       "      <th></th>\n",
       "      <th>index</th>\n",
       "      <th>show_id</th>\n",
       "      <th>type</th>\n",
       "      <th>title</th>\n",
       "      <th>director</th>\n",
       "      <th>cast</th>\n",
       "      <th>country</th>\n",
       "      <th>rating</th>\n",
       "      <th>listed_in</th>\n",
       "      <th>description</th>\n",
       "      <th>all_content</th>\n",
       "    </tr>\n",
       "  </thead>\n",
       "  <tbody>\n",
       "    <tr>\n",
       "      <th>0</th>\n",
       "      <td>0</td>\n",
       "      <td>s8</td>\n",
       "      <td>Movie</td>\n",
       "      <td>Sankofa</td>\n",
       "      <td>Haile Gerima</td>\n",
       "      <td>Kofi Ghanaba, Oyafunmike Ogunlano, Alexandra D...</td>\n",
       "      <td>United States, Ghana, Burkina Faso, United Kin...</td>\n",
       "      <td>TV-MA</td>\n",
       "      <td>Dramas, Independent Movies, International Movies</td>\n",
       "      <td>photo shoot ghana american model slip back tim...</td>\n",
       "      <td>haile gerimakofi ghanaba oyafunmike ogunlano a...</td>\n",
       "    </tr>\n",
       "    <tr>\n",
       "      <th>1</th>\n",
       "      <td>1</td>\n",
       "      <td>s10</td>\n",
       "      <td>Movie</td>\n",
       "      <td>The Starling</td>\n",
       "      <td>Theodore Melfi</td>\n",
       "      <td>Melissa McCarthy, Chris O'Dowd, Kevin Kline, T...</td>\n",
       "      <td>United States</td>\n",
       "      <td>PG-13</td>\n",
       "      <td>Comedies, Dramas</td>\n",
       "      <td>woman adjusting life loss contends feisty bird...</td>\n",
       "      <td>theodore melfimelissa mccarthy chris dowd kevi...</td>\n",
       "    </tr>\n",
       "    <tr>\n",
       "      <th>2</th>\n",
       "      <td>2</td>\n",
       "      <td>s13</td>\n",
       "      <td>Movie</td>\n",
       "      <td>Je Suis Karl</td>\n",
       "      <td>Christian Schwochow</td>\n",
       "      <td>Luna Wedler, Jannis Niewöhner, Milan Peschel, ...</td>\n",
       "      <td>Germany, Czech Republic</td>\n",
       "      <td>TV-MA</td>\n",
       "      <td>Dramas, International Movies</td>\n",
       "      <td>family murdered terrorist bombing young woman ...</td>\n",
       "      <td>christian schwochowluna wedler jannis niew hne...</td>\n",
       "    </tr>\n",
       "    <tr>\n",
       "      <th>3</th>\n",
       "      <td>3</td>\n",
       "      <td>s25</td>\n",
       "      <td>Movie</td>\n",
       "      <td>Jeans</td>\n",
       "      <td>S. Shankar</td>\n",
       "      <td>Prashanth, Aishwarya Rai Bachchan, Sri Lakshmi...</td>\n",
       "      <td>India</td>\n",
       "      <td>TV-14</td>\n",
       "      <td>Comedies, International Movies, Romantic Movies</td>\n",
       "      <td>father man love insists twin son marry twin si...</td>\n",
       "      <td>shankarprashanth aishwarya rai bachchan sri la...</td>\n",
       "    </tr>\n",
       "    <tr>\n",
       "      <th>4</th>\n",
       "      <td>4</td>\n",
       "      <td>s28</td>\n",
       "      <td>Movie</td>\n",
       "      <td>Grown Ups</td>\n",
       "      <td>Dennis Dugan</td>\n",
       "      <td>Adam Sandler, Kevin James, Chris Rock, David S...</td>\n",
       "      <td>United States</td>\n",
       "      <td>PG-13</td>\n",
       "      <td>Comedies</td>\n",
       "      <td>mourning loss beloved junior high basketball c...</td>\n",
       "      <td>dennis duganadam sandler kevin james chris roc...</td>\n",
       "    </tr>\n",
       "  </tbody>\n",
       "</table>\n",
       "</div>"
      ],
      "text/plain": [
       "   index show_id   type         title             director  \\\n",
       "0      0      s8  Movie       Sankofa         Haile Gerima   \n",
       "1      1     s10  Movie  The Starling       Theodore Melfi   \n",
       "2      2     s13  Movie  Je Suis Karl  Christian Schwochow   \n",
       "3      3     s25  Movie         Jeans           S. Shankar   \n",
       "4      4     s28  Movie     Grown Ups         Dennis Dugan   \n",
       "\n",
       "                                                cast  \\\n",
       "0  Kofi Ghanaba, Oyafunmike Ogunlano, Alexandra D...   \n",
       "1  Melissa McCarthy, Chris O'Dowd, Kevin Kline, T...   \n",
       "2  Luna Wedler, Jannis Niewöhner, Milan Peschel, ...   \n",
       "3  Prashanth, Aishwarya Rai Bachchan, Sri Lakshmi...   \n",
       "4  Adam Sandler, Kevin James, Chris Rock, David S...   \n",
       "\n",
       "                                             country rating  \\\n",
       "0  United States, Ghana, Burkina Faso, United Kin...  TV-MA   \n",
       "1                                      United States  PG-13   \n",
       "2                            Germany, Czech Republic  TV-MA   \n",
       "3                                              India  TV-14   \n",
       "4                                      United States  PG-13   \n",
       "\n",
       "                                          listed_in  \\\n",
       "0  Dramas, Independent Movies, International Movies   \n",
       "1                                  Comedies, Dramas   \n",
       "2                      Dramas, International Movies   \n",
       "3   Comedies, International Movies, Romantic Movies   \n",
       "4                                          Comedies   \n",
       "\n",
       "                                         description  \\\n",
       "0  photo shoot ghana american model slip back tim...   \n",
       "1  woman adjusting life loss contends feisty bird...   \n",
       "2  family murdered terrorist bombing young woman ...   \n",
       "3  father man love insists twin son marry twin si...   \n",
       "4  mourning loss beloved junior high basketball c...   \n",
       "\n",
       "                                         all_content  \n",
       "0  haile gerimakofi ghanaba oyafunmike ogunlano a...  \n",
       "1  theodore melfimelissa mccarthy chris dowd kevi...  \n",
       "2  christian schwochowluna wedler jannis niew hne...  \n",
       "3  shankarprashanth aishwarya rai bachchan sri la...  \n",
       "4  dennis duganadam sandler kevin james chris roc...  "
      ]
     },
     "execution_count": 82,
     "metadata": {},
     "output_type": "execute_result"
    }
   ],
   "source": [
    "# Movies dataset pre-processing\n",
    "movies = netflix_dataset[netflix_dataset['type'] == 'Movie'].reset_index()\n",
    "movies = movies.drop(['index', 'release_year', 'duration', 'date_added'], axis=1)\n",
    "movies = movies[(movies['rating'] != 'NR') & (movies['rating'] != 'UR') & (movies['rating'] != '84 min') & (movies['rating'] != '74 min') & (movies['rating'] != '66 min')].reset_index()\n",
    "movies['all_content'] = movies['director'] + movies['cast'] + movies['country'] + movies['listed_in']\n",
    "for i in range(0, len(movies['description'])):\n",
    "    content = re.sub('[^a-zA-Z]', ' ', movies['description'][i])\n",
    "    content = content.lower()\n",
    "    content = content.split()\n",
    "    content = [lemmatizer.lemmatize(word) for word in content if not word in set(stopwords_list)]\n",
    "    content = ' '.join(content)\n",
    "    movies['description'][i] = content\n",
    "for i in range(0, len(movies['all_content'])):\n",
    "    content = re.sub('[^a-zA-Z]', ' ', movies['all_content'][i])\n",
    "    content = content.lower()\n",
    "    content = content.split()\n",
    "    content = [lemmatizer.lemmatize(word) for word in content if not word in set(stopwords_list)]\n",
    "    content = ' '.join(content)\n",
    "    movies['all_content'][i] = content\n",
    "movies.head()"
   ]
  },
  {
   "cell_type": "code",
   "execution_count": 83,
   "id": "9c4fe2b5",
   "metadata": {},
   "outputs": [
    {
     "name": "stderr",
     "output_type": "stream",
     "text": [
      "C:\\Users\\dinko\\AppData\\Local\\Temp/ipykernel_9300/1132956479.py:12: SettingWithCopyWarning: \n",
      "A value is trying to be set on a copy of a slice from a DataFrame\n",
      "\n",
      "See the caveats in the documentation: https://pandas.pydata.org/pandas-docs/stable/user_guide/indexing.html#returning-a-view-versus-a-copy\n",
      "  tv_shows['description'][i] = content\n",
      "C:\\Users\\dinko\\AppData\\Local\\Temp/ipykernel_9300/1132956479.py:19: SettingWithCopyWarning: \n",
      "A value is trying to be set on a copy of a slice from a DataFrame\n",
      "\n",
      "See the caveats in the documentation: https://pandas.pydata.org/pandas-docs/stable/user_guide/indexing.html#returning-a-view-versus-a-copy\n",
      "  tv_shows['all_content'][i] = content\n"
     ]
    },
    {
     "data": {
      "text/html": [
       "<div>\n",
       "<style scoped>\n",
       "    .dataframe tbody tr th:only-of-type {\n",
       "        vertical-align: middle;\n",
       "    }\n",
       "\n",
       "    .dataframe tbody tr th {\n",
       "        vertical-align: top;\n",
       "    }\n",
       "\n",
       "    .dataframe thead th {\n",
       "        text-align: right;\n",
       "    }\n",
       "</style>\n",
       "<table border=\"1\" class=\"dataframe\">\n",
       "  <thead>\n",
       "    <tr style=\"text-align: right;\">\n",
       "      <th></th>\n",
       "      <th>index</th>\n",
       "      <th>show_id</th>\n",
       "      <th>type</th>\n",
       "      <th>title</th>\n",
       "      <th>director</th>\n",
       "      <th>cast</th>\n",
       "      <th>country</th>\n",
       "      <th>rating</th>\n",
       "      <th>listed_in</th>\n",
       "      <th>description</th>\n",
       "      <th>all_content</th>\n",
       "    </tr>\n",
       "  </thead>\n",
       "  <tbody>\n",
       "    <tr>\n",
       "      <th>0</th>\n",
       "      <td>0</td>\n",
       "      <td>s2</td>\n",
       "      <td>TV Show</td>\n",
       "      <td>Blood &amp; Water</td>\n",
       "      <td>Unkown</td>\n",
       "      <td>Ama Qamata, Khosi Ngema, Gail Mabalane, Thaban...</td>\n",
       "      <td>South Africa</td>\n",
       "      <td>TV-MA</td>\n",
       "      <td>International TV Shows, TV Dramas, TV Mysteries</td>\n",
       "      <td>crossing path party cape town teen set prove w...</td>\n",
       "      <td>ama qamata khosi ngema gail mabalane thabang m...</td>\n",
       "    </tr>\n",
       "    <tr>\n",
       "      <th>1</th>\n",
       "      <td>1</td>\n",
       "      <td>s5</td>\n",
       "      <td>TV Show</td>\n",
       "      <td>Kota Factory</td>\n",
       "      <td>Unkown</td>\n",
       "      <td>Mayur More, Jitendra Kumar, Ranjan Raj, Alam K...</td>\n",
       "      <td>India</td>\n",
       "      <td>TV-MA</td>\n",
       "      <td>International TV Shows, Romantic TV Shows, TV ...</td>\n",
       "      <td>city coaching center known train india finest ...</td>\n",
       "      <td>mayur jitendra kumar ranjan raj alam khan ahsa...</td>\n",
       "    </tr>\n",
       "    <tr>\n",
       "      <th>2</th>\n",
       "      <td>2</td>\n",
       "      <td>s9</td>\n",
       "      <td>TV Show</td>\n",
       "      <td>The Great British Baking Show</td>\n",
       "      <td>Andy Devonshire</td>\n",
       "      <td>Mel Giedroyc, Sue Perkins, Mary Berry, Paul Ho...</td>\n",
       "      <td>United Kingdom</td>\n",
       "      <td>TV-14</td>\n",
       "      <td>British TV Shows, Reality TV</td>\n",
       "      <td>talented batch amateur baker face week competi...</td>\n",
       "      <td>mel giedroyc sue perkins mary berry paul holly...</td>\n",
       "    </tr>\n",
       "    <tr>\n",
       "      <th>3</th>\n",
       "      <td>3</td>\n",
       "      <td>s16</td>\n",
       "      <td>TV Show</td>\n",
       "      <td>Dear White People</td>\n",
       "      <td>Unkown</td>\n",
       "      <td>Logan Browning, Brandon P. Bell, DeRon Horton,...</td>\n",
       "      <td>United States</td>\n",
       "      <td>TV-MA</td>\n",
       "      <td>TV Comedies, TV Dramas</td>\n",
       "      <td>student color navigate daily slight slippery p...</td>\n",
       "      <td>logan browning brandon p bell deron horton ant...</td>\n",
       "    </tr>\n",
       "    <tr>\n",
       "      <th>4</th>\n",
       "      <td>4</td>\n",
       "      <td>s18</td>\n",
       "      <td>TV Show</td>\n",
       "      <td>Falsa identidad</td>\n",
       "      <td>Unkown</td>\n",
       "      <td>Luis Ernesto Franco, Camila Sodi, Sergio Goyri...</td>\n",
       "      <td>Mexico</td>\n",
       "      <td>TV-MA</td>\n",
       "      <td>Crime TV Shows, Spanish-Language TV Shows, TV ...</td>\n",
       "      <td>stranger diego isabel flee home mexico pretend...</td>\n",
       "      <td>luis ernesto franco camila sodi sergio goyri s...</td>\n",
       "    </tr>\n",
       "  </tbody>\n",
       "</table>\n",
       "</div>"
      ],
      "text/plain": [
       "   index show_id     type                          title         director  \\\n",
       "0      0      s2  TV Show                  Blood & Water           Unkown   \n",
       "1      1      s5  TV Show                   Kota Factory           Unkown   \n",
       "2      2      s9  TV Show  The Great British Baking Show  Andy Devonshire   \n",
       "3      3     s16  TV Show              Dear White People           Unkown   \n",
       "4      4     s18  TV Show                Falsa identidad           Unkown   \n",
       "\n",
       "                                                cast         country rating  \\\n",
       "0  Ama Qamata, Khosi Ngema, Gail Mabalane, Thaban...    South Africa  TV-MA   \n",
       "1  Mayur More, Jitendra Kumar, Ranjan Raj, Alam K...           India  TV-MA   \n",
       "2  Mel Giedroyc, Sue Perkins, Mary Berry, Paul Ho...  United Kingdom  TV-14   \n",
       "3  Logan Browning, Brandon P. Bell, DeRon Horton,...   United States  TV-MA   \n",
       "4  Luis Ernesto Franco, Camila Sodi, Sergio Goyri...          Mexico  TV-MA   \n",
       "\n",
       "                                           listed_in  \\\n",
       "0    International TV Shows, TV Dramas, TV Mysteries   \n",
       "1  International TV Shows, Romantic TV Shows, TV ...   \n",
       "2                       British TV Shows, Reality TV   \n",
       "3                             TV Comedies, TV Dramas   \n",
       "4  Crime TV Shows, Spanish-Language TV Shows, TV ...   \n",
       "\n",
       "                                         description  \\\n",
       "0  crossing path party cape town teen set prove w...   \n",
       "1  city coaching center known train india finest ...   \n",
       "2  talented batch amateur baker face week competi...   \n",
       "3  student color navigate daily slight slippery p...   \n",
       "4  stranger diego isabel flee home mexico pretend...   \n",
       "\n",
       "                                         all_content  \n",
       "0  ama qamata khosi ngema gail mabalane thabang m...  \n",
       "1  mayur jitendra kumar ranjan raj alam khan ahsa...  \n",
       "2  mel giedroyc sue perkins mary berry paul holly...  \n",
       "3  logan browning brandon p bell deron horton ant...  \n",
       "4  luis ernesto franco camila sodi sergio goyri s...  "
      ]
     },
     "execution_count": 83,
     "metadata": {},
     "output_type": "execute_result"
    }
   ],
   "source": [
    "# TV Show dataset pre-processing\n",
    "tv_shows = netflix_dataset[netflix_dataset['type'] == 'TV Show'].reset_index()\n",
    "tv_shows = tv_shows.drop(['index', 'release_year', 'duration', 'date_added'], axis=1)\n",
    "tv_shows = tv_shows[(tv_shows['rating'] != 'NR')].reset_index()\n",
    "tv_shows['all_content'] = tv_shows['cast'] + tv_shows['country'] + tv_shows['listed_in']\n",
    "for i in range(0, len(tv_shows['description'])):\n",
    "    content = re.sub('[^a-zA-Z]', ' ', tv_shows['description'][i])\n",
    "    content = content.lower()\n",
    "    content = content.split()\n",
    "    content = [lemmatizer.lemmatize(word) for word in content if not word in set(stopwords_list)]\n",
    "    content = ' '.join(content)\n",
    "    tv_shows['description'][i] = content\n",
    "for i in range(0, len(tv_shows['all_content'])):\n",
    "    content = re.sub('[^a-zA-Z]', ' ', tv_shows['all_content'][i])\n",
    "    content = content.lower()\n",
    "    content = content.split()\n",
    "    content = [lemmatizer.lemmatize(word) for word in content if not word in set(stopwords_list)]\n",
    "    content = ' '.join(content)\n",
    "    tv_shows['all_content'][i] = content\n",
    "tv_shows.head()"
   ]
  },
  {
   "cell_type": "code",
   "execution_count": 84,
   "id": "43b12b91",
   "metadata": {},
   "outputs": [
    {
     "data": {
      "text/plain": [
       "array(['TV-MA', 'PG-13', 'TV-14', 'PG', 'R', 'TV-PG', 'G', 'TV-Y7',\n",
       "       'TV-G', 'TV-Y', 'NC-17', 'TV-Y7-FV'], dtype=object)"
      ]
     },
     "execution_count": 84,
     "metadata": {},
     "output_type": "execute_result"
    }
   ],
   "source": [
    "# Getting unique rating values present in the movies data set\n",
    "movies['rating'].unique()"
   ]
  },
  {
   "cell_type": "code",
   "execution_count": 85,
   "id": "82cf18cb",
   "metadata": {},
   "outputs": [
    {
     "data": {
      "text/plain": [
       "array(['TV-MA', 'TV-14', 'TV-Y7', 'TV-PG', 'TV-Y', 'TV-G', 'R',\n",
       "       'TV-Y7-FV'], dtype=object)"
      ]
     },
     "execution_count": 85,
     "metadata": {},
     "output_type": "execute_result"
    }
   ],
   "source": [
    "# Getting unique rating values present in the tv shows data set\n",
    "tv_shows['rating'].unique()"
   ]
  },
  {
   "cell_type": "code",
   "execution_count": 86,
   "id": "072574b2",
   "metadata": {},
   "outputs": [],
   "source": [
    "# The ratings which I want to classify are defined below\n",
    "movie_rating_list =  ['G', 'TV-Y', 'TV-G', 'PG', 'TV-Y7', 'TV-Y7-FV', 'TV-PG', 'PG-13', 'TV-14', 'R', 'NC-17', 'TV-MA']\n",
    "tv_show_rating_list = ['TV-Y', 'TV-G', 'TV-Y7', 'TV-Y7-FV', 'TV-PG', 'TV-14', 'R', 'TV-MA']\n",
    "\n",
    "class test_data_class:\n",
    "  def __init__(self, d, t):\n",
    "    test_data.data = d\n",
    "    test_data.target = t\n",
    "class train_data_class:\n",
    "  def __init__(self, d, t):\n",
    "    train_data.data = d\n",
    "    train_data.target = t\n",
    "    \n",
    "test_data = test_data_class\n",
    "train_data = train_data_class"
   ]
  },
  {
   "cell_type": "code",
   "execution_count": 87,
   "id": "c83040af",
   "metadata": {},
   "outputs": [],
   "source": [
    "# Example of predicting movie ratings by using multiple movie feature similarities\n",
    "\n",
    "# Splitting movie dataset into 80% train data and 20% test data\n",
    "\n",
    "X = movies['all_content']\n",
    "y = movies['rating']\n",
    "\n",
    "X_train, X_test, y_train, y_test = train_test_split(X, y, test_size = 0.20)\n",
    "\n",
    "train_data.data = X_train\n",
    "train_data.target = y_train\n",
    "train_data.target_names = movie_rating_list\n",
    "\n",
    "test_data.data = X_test\n",
    "test_data.target = y_test"
   ]
  },
  {
   "cell_type": "code",
   "execution_count": 88,
   "id": "ea0567a3",
   "metadata": {},
   "outputs": [],
   "source": [
    "count_vect = CountVectorizer()\n",
    "X_train_counts = count_vect.fit_transform(train_data.data)\n",
    "\n",
    "tfidf_transformer = TfidfTransformer()\n",
    "X_train_tfidf = tfidf_transformer.fit_transform(X_train_counts)"
   ]
  },
  {
   "cell_type": "code",
   "execution_count": 89,
   "id": "0d4f33dd",
   "metadata": {},
   "outputs": [
    {
     "name": "stderr",
     "output_type": "stream",
     "text": [
      "C:\\Python39\\lib\\site-packages\\sklearn\\model_selection\\_split.py:676: UserWarning: The least populated class in y has only 1 members, which is less than n_splits=5.\n",
      "  warnings.warn(\n"
     ]
    },
    {
     "data": {
      "text/plain": [
       "GridSearchCV(cv=5, estimator=KNeighborsClassifier(),\n",
       "             param_grid={'n_neighbors': array([ 1,  2,  3,  4,  5,  6,  7,  8,  9, 10, 11, 12, 13, 14, 15, 16, 17,\n",
       "       18, 19, 20, 21, 22, 23, 24, 25, 26, 27, 28, 29, 30, 31, 32, 33, 34,\n",
       "       35, 36, 37, 38, 39, 40, 41, 42, 43, 44, 45, 46, 47, 48, 49, 50, 51,\n",
       "       52, 53, 54, 55, 56, 57, 58, 59, 60, 61, 62, 63, 64, 65, 66, 67, 68,\n",
       "       69, 70, 71, 72, 73, 74, 75, 76, 77, 78, 79, 80, 81, 82, 83, 84, 85,\n",
       "       86, 87, 88, 89, 90, 91, 92, 93, 94, 95, 96, 97, 98, 99])})"
      ]
     },
     "execution_count": 89,
     "metadata": {},
     "output_type": "execute_result"
    }
   ],
   "source": [
    "# Create new a knn model\n",
    "knn2 = KNeighborsClassifier()\n",
    "\n",
    "#  Create a dictionary of all values I want to test for n_neighbors\n",
    "param_grid = {'n_neighbors': np.arange(1, 100)}\n",
    "\n",
    "# Use gridsearch to test all values for n_neighbors\n",
    "knn_gscv = GridSearchCV(knn2, param_grid, cv=5)\n",
    "\n",
    "# Fit model to data\n",
    "knn_gscv.fit(X_train_tfidf, train_data.target)"
   ]
  },
  {
   "cell_type": "code",
   "execution_count": 90,
   "id": "7b4937ff",
   "metadata": {},
   "outputs": [
    {
     "data": {
      "text/plain": [
       "{'n_neighbors': 16}"
      ]
     },
     "execution_count": 90,
     "metadata": {},
     "output_type": "execute_result"
    }
   ],
   "source": [
    "# Check top performing n_neighbors value\n",
    "knn_gscv.best_params_"
   ]
  },
  {
   "cell_type": "code",
   "execution_count": 91,
   "id": "3fe1b69a",
   "metadata": {},
   "outputs": [
    {
     "data": {
      "text/plain": [
       "0.5189425465615531"
      ]
     },
     "execution_count": 91,
     "metadata": {},
     "output_type": "execute_result"
    }
   ],
   "source": [
    "# Check mean score for the top performing value of n_neighbors\n",
    "knn_gscv.best_score_"
   ]
  },
  {
   "cell_type": "code",
   "execution_count": 92,
   "id": "50b9689b",
   "metadata": {},
   "outputs": [
    {
     "data": {
      "text/plain": [
       "{'mean_fit_time': array([0.00462379, 0.00517282, 0.00599093, 0.0038641 , 0.00455527,\n",
       "        0.00467777, 0.00438776, 0.00424714, 0.00497975, 0.00498552,\n",
       "        0.00379529, 0.00478601, 0.00398984, 0.00378938, 0.00420346,\n",
       "        0.00413022, 0.00447159, 0.00382547, 0.00430341, 0.00402799,\n",
       "        0.00379663, 0.00438609, 0.00419936, 0.00380254, 0.00393062,\n",
       "        0.00401144, 0.00377374, 0.00380168, 0.0040041 , 0.00379977,\n",
       "        0.00399613, 0.00382223, 0.00381069, 0.0038197 , 0.00355763,\n",
       "        0.00421076, 0.00381546, 0.00379686, 0.00400968, 0.00400567,\n",
       "        0.00401683, 0.00417786, 0.00360975, 0.00359788, 0.00401587,\n",
       "        0.00380125, 0.00419354, 0.0038023 , 0.00399904, 0.00438924,\n",
       "        0.00444288, 0.00439491, 0.0043879 , 0.00458951, 0.00398855,\n",
       "        0.00379925, 0.00462756, 0.00396361, 0.00401311, 0.00379858,\n",
       "        0.00425463, 0.00459595, 0.00440187, 0.00458798, 0.0046042 ,\n",
       "        0.0039979 , 0.00398893, 0.00519385, 0.00430603, 0.00436811,\n",
       "        0.00459452, 0.00418854, 0.00573239, 0.00430679, 0.00481648,\n",
       "        0.00453405, 0.00436826, 0.00399542, 0.00415955, 0.0050034 ,\n",
       "        0.00398855, 0.00458851, 0.0045958 , 0.00473075, 0.00393958,\n",
       "        0.00500479, 0.00519252, 0.00540047, 0.00498462, 0.00399952,\n",
       "        0.00439982, 0.00487747, 0.00419431, 0.00418916, 0.00422578,\n",
       "        0.00359035, 0.00378923, 0.00439563, 0.00419912]),\n",
       " 'std_fit_time': array([1.24277086e-03, 1.61072829e-03, 2.67321124e-03, 4.60183172e-04,\n",
       "        4.84527852e-04, 9.30334213e-04, 4.87137704e-04, 8.09911842e-04,\n",
       "        1.54857545e-03, 1.40969423e-03, 4.02787895e-04, 1.16409505e-03,\n",
       "        2.11592157e-05, 3.81853221e-04, 7.33190009e-04, 2.13604558e-04,\n",
       "        1.15225882e-03, 3.91178715e-04, 3.93791440e-04, 1.96614249e-05,\n",
       "        4.04478631e-04, 4.78863597e-04, 3.94785391e-04, 4.04918901e-04,\n",
       "        5.32270904e-04, 6.17736555e-04, 3.85113049e-04, 7.37206340e-04,\n",
       "        2.01260306e-05, 4.05055122e-04, 1.47032952e-05, 3.86921419e-04,\n",
       "        3.82309210e-04, 3.94049844e-04, 7.73239794e-04, 3.97075916e-04,\n",
       "        3.95829513e-04, 3.85667633e-04, 6.14909820e-04, 2.02781975e-05,\n",
       "        1.93723862e-05, 4.04490239e-04, 4.66993645e-04, 4.95129957e-04,\n",
       "        6.39431062e-04, 3.99785961e-04, 3.97161702e-04, 4.06274521e-04,\n",
       "        3.55368151e-05, 4.98021005e-04, 7.92582832e-04, 7.93571427e-04,\n",
       "        1.35383090e-03, 1.19498806e-03, 1.37706080e-06, 4.04148436e-04,\n",
       "        8.46079900e-04, 9.20526199e-05, 1.92658735e-05, 3.81639699e-04,\n",
       "        5.43402533e-04, 1.19261739e-03, 7.93658721e-04, 1.19800572e-03,\n",
       "        8.00295686e-04, 1.88145949e-05, 3.81469727e-07, 1.57872688e-03,\n",
       "        7.55570459e-04, 4.59125559e-04, 8.01650249e-04, 7.46225670e-04,\n",
       "        1.61831917e-03, 6.35862520e-04, 1.20429944e-03, 4.54017950e-04,\n",
       "        7.79522652e-04, 6.41281770e-04, 4.16977003e-04, 1.07744065e-03,\n",
       "        1.09218813e-03, 7.98715785e-04, 1.61183966e-03, 1.19020084e-03,\n",
       "        5.00111426e-04, 1.40213499e-03, 1.17345055e-03, 1.35899254e-03,\n",
       "        1.26150452e-03, 2.14361507e-05, 4.73524806e-04, 6.67823073e-04,\n",
       "        7.44854249e-04, 7.47016044e-04, 4.20444425e-04, 4.88812095e-04,\n",
       "        3.99017362e-04, 8.14962506e-04, 7.44004047e-04]),\n",
       " 'mean_score_time': array([0.10664363, 0.13575211, 0.13908067, 0.14633079, 0.14435501,\n",
       "        0.13029413, 0.13828998, 0.13293395, 0.13642764, 0.15134211,\n",
       "        0.12848063, 0.1257165 , 0.13239422, 0.13715758, 0.12491736,\n",
       "        0.12177505, 0.12545071, 0.11977448, 0.12125401, 0.11907687,\n",
       "        0.12468228, 0.12621331, 0.12679267, 0.13026915, 0.12740459,\n",
       "        0.12489724, 0.1228014 , 0.12219353, 0.12634645, 0.12209554,\n",
       "        0.12246299, 0.12538619, 0.12243748, 0.1255559 , 0.12208519,\n",
       "        0.12244301, 0.12182822, 0.12263746, 0.12648764, 0.1225853 ,\n",
       "        0.12297311, 0.12529492, 0.12452621, 0.11986446, 0.12272391,\n",
       "        0.12436347, 0.12551413, 0.12426119, 0.12521024, 0.13156257,\n",
       "        0.13086634, 0.13078918, 0.13936253, 0.13825521, 0.14261785,\n",
       "        0.12650814, 0.13344893, 0.14141402, 0.12732224, 0.13160162,\n",
       "        0.13101106, 0.13126173, 0.14238224, 0.14101868, 0.13591409,\n",
       "        0.12673016, 0.13175173, 0.15789943, 0.13248444, 0.13261538,\n",
       "        0.14154053, 0.13759484, 0.16168423, 0.134057  , 0.14235888,\n",
       "        0.13613691, 0.1480629 , 0.13461304, 0.14072714, 0.14071951,\n",
       "        0.14000244, 0.14995971, 0.1484746 , 0.14026036, 0.13960857,\n",
       "        0.1451901 , 0.15480709, 0.14668121, 0.16171451, 0.14512219,\n",
       "        0.13879642, 0.14617653, 0.13613229, 0.13700509, 0.13584061,\n",
       "        0.13595357, 0.1333416 , 0.14172249, 0.14197755]),\n",
       " 'std_score_time': array([0.00453202, 0.0233185 , 0.02291037, 0.0205558 , 0.01291664,\n",
       "        0.0070614 , 0.01400916, 0.01918569, 0.01406919, 0.01983248,\n",
       "        0.00185646, 0.00337582, 0.00983765, 0.01734102, 0.00730313,\n",
       "        0.00748324, 0.00503827, 0.0047544 , 0.00519161, 0.00304297,\n",
       "        0.01062954, 0.00606595, 0.00609483, 0.00946522, 0.00721297,\n",
       "        0.00547737, 0.00634143, 0.00279535, 0.00584225, 0.00432802,\n",
       "        0.00501504, 0.00405552, 0.00487251, 0.00384792, 0.00390102,\n",
       "        0.00274143, 0.00363004, 0.00273149, 0.0034395 , 0.0030136 ,\n",
       "        0.00539552, 0.00782892, 0.00613278, 0.00345172, 0.00547979,\n",
       "        0.00511032, 0.00552541, 0.00395171, 0.00389476, 0.00357206,\n",
       "        0.0058025 , 0.00948935, 0.02042827, 0.01584276, 0.01383401,\n",
       "        0.00937449, 0.00788984, 0.01620911, 0.00844299, 0.01519398,\n",
       "        0.01030056, 0.0048529 , 0.02091531, 0.01649127, 0.00527365,\n",
       "        0.00440637, 0.00636536, 0.03563341, 0.00980576, 0.00411574,\n",
       "        0.0090074 , 0.00611814, 0.03044032, 0.00435372, 0.01423939,\n",
       "        0.00321001, 0.01018902, 0.00354998, 0.00826119, 0.0128983 ,\n",
       "        0.01385836, 0.01838102, 0.01046339, 0.00991335, 0.00894779,\n",
       "        0.00811505, 0.01129757, 0.01967683, 0.0145566 , 0.01827687,\n",
       "        0.00677943, 0.00834848, 0.00726188, 0.00711473, 0.00862089,\n",
       "        0.00618593, 0.00815137, 0.0116135 , 0.00609012]),\n",
       " 'param_n_neighbors': masked_array(data=[1, 2, 3, 4, 5, 6, 7, 8, 9, 10, 11, 12, 13, 14, 15, 16,\n",
       "                    17, 18, 19, 20, 21, 22, 23, 24, 25, 26, 27, 28, 29, 30,\n",
       "                    31, 32, 33, 34, 35, 36, 37, 38, 39, 40, 41, 42, 43, 44,\n",
       "                    45, 46, 47, 48, 49, 50, 51, 52, 53, 54, 55, 56, 57, 58,\n",
       "                    59, 60, 61, 62, 63, 64, 65, 66, 67, 68, 69, 70, 71, 72,\n",
       "                    73, 74, 75, 76, 77, 78, 79, 80, 81, 82, 83, 84, 85, 86,\n",
       "                    87, 88, 89, 90, 91, 92, 93, 94, 95, 96, 97, 98, 99],\n",
       "              mask=[False, False, False, False, False, False, False, False,\n",
       "                    False, False, False, False, False, False, False, False,\n",
       "                    False, False, False, False, False, False, False, False,\n",
       "                    False, False, False, False, False, False, False, False,\n",
       "                    False, False, False, False, False, False, False, False,\n",
       "                    False, False, False, False, False, False, False, False,\n",
       "                    False, False, False, False, False, False, False, False,\n",
       "                    False, False, False, False, False, False, False, False,\n",
       "                    False, False, False, False, False, False, False, False,\n",
       "                    False, False, False, False, False, False, False, False,\n",
       "                    False, False, False, False, False, False, False, False,\n",
       "                    False, False, False, False, False, False, False, False,\n",
       "                    False, False, False],\n",
       "        fill_value='?',\n",
       "             dtype=object),\n",
       " 'params': [{'n_neighbors': 1},\n",
       "  {'n_neighbors': 2},\n",
       "  {'n_neighbors': 3},\n",
       "  {'n_neighbors': 4},\n",
       "  {'n_neighbors': 5},\n",
       "  {'n_neighbors': 6},\n",
       "  {'n_neighbors': 7},\n",
       "  {'n_neighbors': 8},\n",
       "  {'n_neighbors': 9},\n",
       "  {'n_neighbors': 10},\n",
       "  {'n_neighbors': 11},\n",
       "  {'n_neighbors': 12},\n",
       "  {'n_neighbors': 13},\n",
       "  {'n_neighbors': 14},\n",
       "  {'n_neighbors': 15},\n",
       "  {'n_neighbors': 16},\n",
       "  {'n_neighbors': 17},\n",
       "  {'n_neighbors': 18},\n",
       "  {'n_neighbors': 19},\n",
       "  {'n_neighbors': 20},\n",
       "  {'n_neighbors': 21},\n",
       "  {'n_neighbors': 22},\n",
       "  {'n_neighbors': 23},\n",
       "  {'n_neighbors': 24},\n",
       "  {'n_neighbors': 25},\n",
       "  {'n_neighbors': 26},\n",
       "  {'n_neighbors': 27},\n",
       "  {'n_neighbors': 28},\n",
       "  {'n_neighbors': 29},\n",
       "  {'n_neighbors': 30},\n",
       "  {'n_neighbors': 31},\n",
       "  {'n_neighbors': 32},\n",
       "  {'n_neighbors': 33},\n",
       "  {'n_neighbors': 34},\n",
       "  {'n_neighbors': 35},\n",
       "  {'n_neighbors': 36},\n",
       "  {'n_neighbors': 37},\n",
       "  {'n_neighbors': 38},\n",
       "  {'n_neighbors': 39},\n",
       "  {'n_neighbors': 40},\n",
       "  {'n_neighbors': 41},\n",
       "  {'n_neighbors': 42},\n",
       "  {'n_neighbors': 43},\n",
       "  {'n_neighbors': 44},\n",
       "  {'n_neighbors': 45},\n",
       "  {'n_neighbors': 46},\n",
       "  {'n_neighbors': 47},\n",
       "  {'n_neighbors': 48},\n",
       "  {'n_neighbors': 49},\n",
       "  {'n_neighbors': 50},\n",
       "  {'n_neighbors': 51},\n",
       "  {'n_neighbors': 52},\n",
       "  {'n_neighbors': 53},\n",
       "  {'n_neighbors': 54},\n",
       "  {'n_neighbors': 55},\n",
       "  {'n_neighbors': 56},\n",
       "  {'n_neighbors': 57},\n",
       "  {'n_neighbors': 58},\n",
       "  {'n_neighbors': 59},\n",
       "  {'n_neighbors': 60},\n",
       "  {'n_neighbors': 61},\n",
       "  {'n_neighbors': 62},\n",
       "  {'n_neighbors': 63},\n",
       "  {'n_neighbors': 64},\n",
       "  {'n_neighbors': 65},\n",
       "  {'n_neighbors': 66},\n",
       "  {'n_neighbors': 67},\n",
       "  {'n_neighbors': 68},\n",
       "  {'n_neighbors': 69},\n",
       "  {'n_neighbors': 70},\n",
       "  {'n_neighbors': 71},\n",
       "  {'n_neighbors': 72},\n",
       "  {'n_neighbors': 73},\n",
       "  {'n_neighbors': 74},\n",
       "  {'n_neighbors': 75},\n",
       "  {'n_neighbors': 76},\n",
       "  {'n_neighbors': 77},\n",
       "  {'n_neighbors': 78},\n",
       "  {'n_neighbors': 79},\n",
       "  {'n_neighbors': 80},\n",
       "  {'n_neighbors': 81},\n",
       "  {'n_neighbors': 82},\n",
       "  {'n_neighbors': 83},\n",
       "  {'n_neighbors': 84},\n",
       "  {'n_neighbors': 85},\n",
       "  {'n_neighbors': 86},\n",
       "  {'n_neighbors': 87},\n",
       "  {'n_neighbors': 88},\n",
       "  {'n_neighbors': 89},\n",
       "  {'n_neighbors': 90},\n",
       "  {'n_neighbors': 91},\n",
       "  {'n_neighbors': 92},\n",
       "  {'n_neighbors': 93},\n",
       "  {'n_neighbors': 94},\n",
       "  {'n_neighbors': 95},\n",
       "  {'n_neighbors': 96},\n",
       "  {'n_neighbors': 97},\n",
       "  {'n_neighbors': 98},\n",
       "  {'n_neighbors': 99}],\n",
       " 'split0_test_score': array([0.45868263, 0.43592814, 0.46467066, 0.47904192, 0.48143713,\n",
       "        0.48263473, 0.49221557, 0.50179641, 0.50658683, 0.51257485,\n",
       "        0.4994012 , 0.50778443, 0.51497006, 0.50538922, 0.51976048,\n",
       "        0.51257485, 0.52335329, 0.5257485 , 0.52934132, 0.52814371,\n",
       "        0.52095808, 0.51976048, 0.52934132, 0.52814371, 0.5257485 ,\n",
       "        0.52215569, 0.52335329, 0.51856287, 0.52095808, 0.51976048,\n",
       "        0.52095808, 0.51137725, 0.50419162, 0.50658683, 0.50898204,\n",
       "        0.49820359, 0.49820359, 0.50299401, 0.51137725, 0.51257485,\n",
       "        0.51137725, 0.51017964, 0.50419162, 0.50179641, 0.51257485,\n",
       "        0.50778443, 0.50179641, 0.50658683, 0.51137725, 0.51017964,\n",
       "        0.51377246, 0.51616766, 0.51616766, 0.51616766, 0.52095808,\n",
       "        0.51976048, 0.5245509 , 0.52335329, 0.51736527, 0.51497006,\n",
       "        0.51497006, 0.51736527, 0.51616766, 0.51976048, 0.51976048,\n",
       "        0.51616766, 0.51976048, 0.51976048, 0.51976048, 0.51736527,\n",
       "        0.52335329, 0.52215569, 0.52814371, 0.5257485 , 0.52335329,\n",
       "        0.51856287, 0.5245509 , 0.52814371, 0.5245509 , 0.52215569,\n",
       "        0.52335329, 0.52215569, 0.52814371, 0.52694611, 0.52694611,\n",
       "        0.52335329, 0.51976048, 0.51856287, 0.52095808, 0.51976048,\n",
       "        0.52694611, 0.52335329, 0.5257485 , 0.52694611, 0.52335329,\n",
       "        0.52215569, 0.52694611, 0.52215569, 0.52215569]),\n",
       " 'split1_test_score': array([0.46467066, 0.43592814, 0.45988024, 0.45149701, 0.47664671,\n",
       "        0.4742515 , 0.48742515, 0.47185629, 0.48862275, 0.47904192,\n",
       "        0.48143713, 0.48742515, 0.48143713, 0.48742515, 0.48982036,\n",
       "        0.49700599, 0.49700599, 0.50299401, 0.50299401, 0.49820359,\n",
       "        0.49820359, 0.50778443, 0.50419162, 0.50658683, 0.50778443,\n",
       "        0.52215569, 0.51257485, 0.51257485, 0.50778443, 0.51257485,\n",
       "        0.51017964, 0.51976048, 0.50419162, 0.51257485, 0.51257485,\n",
       "        0.50898204, 0.51137725, 0.50538922, 0.50299401, 0.50299401,\n",
       "        0.50778443, 0.50419162, 0.50538922, 0.50299401, 0.50658683,\n",
       "        0.50778443, 0.51017964, 0.50898204, 0.51017964, 0.50299401,\n",
       "        0.50538922, 0.50538922, 0.50778443, 0.50538922, 0.50658683,\n",
       "        0.50299401, 0.5005988 , 0.49820359, 0.4994012 , 0.4994012 ,\n",
       "        0.50299401, 0.49820359, 0.49820359, 0.49461078, 0.49101796,\n",
       "        0.48742515, 0.48622754, 0.48982036, 0.49101796, 0.48383234,\n",
       "        0.48143713, 0.48143713, 0.48143713, 0.47904192, 0.48143713,\n",
       "        0.48502994, 0.48143713, 0.48023952, 0.47904192, 0.4742515 ,\n",
       "        0.47185629, 0.47185629, 0.46946108, 0.46946108, 0.47305389,\n",
       "        0.47305389, 0.47305389, 0.46946108, 0.46706587, 0.46826347,\n",
       "        0.47185629, 0.4742515 , 0.47305389, 0.4742515 , 0.47185629,\n",
       "        0.46586826, 0.46946108, 0.46826347, 0.46826347]),\n",
       " 'split2_test_score': array([0.45563549, 0.45923261, 0.48441247, 0.51678657, 0.51558753,\n",
       "        0.51918465, 0.53117506, 0.53357314, 0.53597122, 0.53477218,\n",
       "        0.53597122, 0.54796163, 0.56354916, 0.56954436, 0.57074341,\n",
       "        0.57194245, 0.558753  , 0.55395683, 0.55395683, 0.54796163,\n",
       "        0.5383693 , 0.54676259, 0.54676259, 0.54076739, 0.5383693 ,\n",
       "        0.53717026, 0.54436451, 0.54196643, 0.54316547, 0.5383693 ,\n",
       "        0.54196643, 0.53597122, 0.53717026, 0.54196643, 0.53717026,\n",
       "        0.53597122, 0.54196643, 0.54316547, 0.53477218, 0.54076739,\n",
       "        0.53956835, 0.5383693 , 0.54436451, 0.54916067, 0.54436451,\n",
       "        0.54676259, 0.54436451, 0.54676259, 0.54196643, 0.53956835,\n",
       "        0.53717026, 0.53357314, 0.53956835, 0.5263789 , 0.53477218,\n",
       "        0.5263789 , 0.52877698, 0.5263789 , 0.52877698, 0.53357314,\n",
       "        0.53717026, 0.53956835, 0.53597122, 0.53117506, 0.5263789 ,\n",
       "        0.52398082, 0.51558753, 0.51438849, 0.51678657, 0.51438849,\n",
       "        0.51438849, 0.51678657, 0.51318945, 0.51079137, 0.50839329,\n",
       "        0.51079137, 0.50719424, 0.5059952 , 0.50719424, 0.50719424,\n",
       "        0.50959233, 0.51199041, 0.50719424, 0.5059952 , 0.50239808,\n",
       "        0.50479616, 0.49760192, 0.49880096, 0.5       , 0.5       ,\n",
       "        0.50119904, 0.49520384, 0.49520384, 0.4940048 , 0.49520384,\n",
       "        0.49640288, 0.49160671, 0.48920863, 0.48441247]),\n",
       " 'split3_test_score': array([0.45083933, 0.42925659, 0.4616307 , 0.44844125, 0.47721823,\n",
       "        0.48321343, 0.49520384, 0.47601918, 0.48800959, 0.48561151,\n",
       "        0.49520384, 0.4940048 , 0.50719424, 0.50479616, 0.50359712,\n",
       "        0.50839329, 0.50839329, 0.49040767, 0.49280576, 0.4940048 ,\n",
       "        0.50119904, 0.49040767, 0.49280576, 0.49880096, 0.50119904,\n",
       "        0.5       , 0.4940048 , 0.48920863, 0.49160671, 0.48920863,\n",
       "        0.49880096, 0.49640288, 0.48800959, 0.49640288, 0.49520384,\n",
       "        0.49280576, 0.49640288, 0.49520384, 0.49040767, 0.4940048 ,\n",
       "        0.49640288, 0.49280576, 0.49640288, 0.49160671, 0.49040767,\n",
       "        0.49280576, 0.48800959, 0.47961631, 0.4736211 , 0.47601918,\n",
       "        0.47601918, 0.47721823, 0.47841727, 0.48201439, 0.48201439,\n",
       "        0.48561151, 0.48561151, 0.48081535, 0.47841727, 0.46882494,\n",
       "        0.47242206, 0.47122302, 0.4736211 , 0.47601918, 0.47482014,\n",
       "        0.47482014, 0.47242206, 0.48081535, 0.4736211 , 0.4736211 ,\n",
       "        0.47721823, 0.47122302, 0.47122302, 0.48081535, 0.47482014,\n",
       "        0.47242206, 0.47601918, 0.48201439, 0.47841727, 0.47601918,\n",
       "        0.47841727, 0.48321343, 0.48441247, 0.48920863, 0.48561151,\n",
       "        0.49040767, 0.48561151, 0.49040767, 0.48681055, 0.48561151,\n",
       "        0.48081535, 0.48321343, 0.48081535, 0.48081535, 0.48201439,\n",
       "        0.48081535, 0.47841727, 0.47721823, 0.47721823]),\n",
       " 'split4_test_score': array([0.43764988, 0.41007194, 0.45083933, 0.46522782, 0.49880096,\n",
       "        0.47961631, 0.49760192, 0.50719424, 0.5059952 , 0.51318945,\n",
       "        0.51438849, 0.51079137, 0.49640288, 0.49880096, 0.50359712,\n",
       "        0.50479616, 0.4940048 , 0.49880096, 0.49640288, 0.5       ,\n",
       "        0.49280576, 0.49520384, 0.49520384, 0.49640288, 0.49040767,\n",
       "        0.50239808, 0.50239808, 0.50479616, 0.50119904, 0.50119904,\n",
       "        0.49520384, 0.49640288, 0.4940048 , 0.5       , 0.4940048 ,\n",
       "        0.49280576, 0.4940048 , 0.49040767, 0.49160671, 0.48920863,\n",
       "        0.48321343, 0.48561151, 0.48920863, 0.48800959, 0.49040767,\n",
       "        0.48561151, 0.48441247, 0.49040767, 0.48081535, 0.48321343,\n",
       "        0.49160671, 0.48920863, 0.48800959, 0.49160671, 0.48321343,\n",
       "        0.48561151, 0.47961631, 0.48441247, 0.47961631, 0.48081535,\n",
       "        0.48321343, 0.48201439, 0.48201439, 0.48800959, 0.48561151,\n",
       "        0.49040767, 0.48321343, 0.48561151, 0.48441247, 0.48800959,\n",
       "        0.48561151, 0.48681055, 0.48920863, 0.48321343, 0.48920863,\n",
       "        0.49160671, 0.49520384, 0.4940048 , 0.49520384, 0.49160671,\n",
       "        0.49160671, 0.4940048 , 0.48800959, 0.49280576, 0.4940048 ,\n",
       "        0.49520384, 0.49160671, 0.49640288, 0.49160671, 0.49760192,\n",
       "        0.4940048 , 0.49040767, 0.49280576, 0.48920863, 0.48321343,\n",
       "        0.48321343, 0.48441247, 0.48681055, 0.48321343]),\n",
       " 'mean_test_score': array([0.4534956 , 0.43408349, 0.46428668, 0.47219891, 0.48993811,\n",
       "        0.48778012, 0.50072431, 0.49808785, 0.50503712, 0.50503798,\n",
       "        0.50528037, 0.50959347, 0.51271069, 0.51319117, 0.5175037 ,\n",
       "        0.51894255, 0.51630207, 0.5143816 , 0.51510016, 0.51366275,\n",
       "        0.51030716, 0.5119838 , 0.51366102, 0.51414035, 0.51270179,\n",
       "        0.51677594, 0.51533911, 0.51342179, 0.51294275, 0.51222246,\n",
       "        0.51342179, 0.51198294, 0.50551358, 0.5115062 , 0.50958716,\n",
       "        0.50575367, 0.50839099, 0.50743204, 0.50623157, 0.50790994,\n",
       "        0.50766927, 0.50623157, 0.50791137, 0.50671348, 0.50886831,\n",
       "        0.50814974, 0.50575252, 0.50647109, 0.50359195, 0.50239492,\n",
       "        0.50479157, 0.50431138, 0.50598946, 0.50431138, 0.50550898,\n",
       "        0.50407128, 0.5038309 , 0.50263272, 0.5007154 , 0.49951694,\n",
       "        0.50215397, 0.50167492, 0.50119559, 0.50191502, 0.4995178 ,\n",
       "        0.49856029, 0.49544221, 0.49807924, 0.49711972, 0.49544336,\n",
       "        0.49640173, 0.49568259, 0.49664039, 0.49592211, 0.4954425 ,\n",
       "        0.49568259, 0.49688106, 0.49807952, 0.49688163, 0.49424547,\n",
       "        0.49496518, 0.49664412, 0.49544422, 0.49688336, 0.49640288,\n",
       "        0.49736297, 0.4935269 , 0.49472709, 0.49328824, 0.49424748,\n",
       "        0.49496432, 0.49328595, 0.49352547, 0.49304528, 0.49112825,\n",
       "        0.48969112, 0.49016873, 0.48873131, 0.48705266]),\n",
       " 'std_test_score': array([0.00910504, 0.01574254, 0.01106795, 0.02480515, 0.01514706,\n",
       "        0.01602027, 0.01559961, 0.02249892, 0.01743334, 0.02030053,\n",
       "        0.01859832, 0.02102981, 0.02779952, 0.02890673, 0.02825849,\n",
       "        0.02698947, 0.023596  , 0.02298951, 0.02326302, 0.02096761,\n",
       "        0.01695099, 0.02017311, 0.02100888, 0.01739002, 0.01721952,\n",
       "        0.01387059, 0.01753263, 0.01733564, 0.01787405, 0.01668386,\n",
       "        0.01689832, 0.01497846, 0.01699696, 0.01620908, 0.01561928,\n",
       "        0.01622235, 0.01783641, 0.01865532, 0.01622226, 0.01826818,\n",
       "        0.01874211, 0.01821001, 0.01913775, 0.02199012, 0.01980159,\n",
       "        0.02114062, 0.02143056, 0.02284266, 0.0244689 , 0.02238943,\n",
       "        0.02064502, 0.01979958, 0.02153073, 0.01604539, 0.02071357,\n",
       "        0.01689063, 0.01990158, 0.01908306, 0.02004383, 0.02319649,\n",
       "        0.02295138, 0.02452755, 0.02267479, 0.02045442, 0.02003442,\n",
       "        0.01849472, 0.01877015, 0.01586041, 0.01816744, 0.01735382,\n",
       "        0.01875252, 0.02013018, 0.02097019, 0.01889642, 0.01792779,\n",
       "        0.01686966, 0.01759845, 0.01766053, 0.01751537, 0.01836067,\n",
       "        0.01917797, 0.01837463, 0.02029491, 0.01904891, 0.01808984,\n",
       "        0.01658143, 0.01542913, 0.01577706, 0.01756741, 0.01700003,\n",
       "        0.0189568 , 0.01661189, 0.01801273, 0.01826299, 0.01773234,\n",
       "        0.01890642, 0.01977211, 0.01828983, 0.01845905]),\n",
       " 'rank_test_score': array([98, 99, 97, 96, 91, 94, 55, 60, 42, 41, 40, 22, 15, 13,  2,  1,  4,\n",
       "         7,  6,  9, 21, 18, 10,  8, 16,  3,  5, 12, 14, 17, 11, 19, 38, 20,\n",
       "        23, 36, 25, 30, 33, 28, 29, 33, 27, 31, 24, 26, 37, 32, 48, 50, 43,\n",
       "        44, 35, 44, 39, 46, 47, 49, 56, 58, 51, 53, 54, 52, 57, 59, 78, 62,\n",
       "        64, 76, 71, 73, 69, 72, 77, 73, 67, 61, 66, 83, 79, 68, 75, 65, 70,\n",
       "        63, 84, 81, 86, 82, 80, 87, 85, 88, 89, 92, 90, 93, 95])}"
      ]
     },
     "execution_count": 92,
     "metadata": {},
     "output_type": "execute_result"
    }
   ],
   "source": [
    "# Check results for each value of n_neighbors\n",
    "knn_gscv.cv_results_"
   ]
  },
  {
   "cell_type": "code",
   "execution_count": 93,
   "id": "3bb37e28",
   "metadata": {},
   "outputs": [],
   "source": [
    "# Function used to plot the grid search scores for all values of n_neighbors - KNN Classifier Model\n",
    "def plot_grid_search_knn(cv_results, grid_param_1, name_param_1):\n",
    "    # Get Test Scores Mean and std for each grid search\n",
    "    scores_mean = cv_results['mean_test_score']\n",
    "    scores_mean = np.array(scores_mean).reshape(len(grid_param_1))\n",
    "\n",
    "    scores_sd = cv_results['std_test_score']\n",
    "    scores_sd = np.array(scores_sd).reshape(len(grid_param_1))\n",
    "\n",
    "    # Plot Grid search scores\n",
    "    _, ax = plt.subplots(1,1, figsize=(7, 7))\n",
    "\n",
    "    for idx, val in enumerate(grid_param_1):\n",
    "        ax.plot(grid_param_1, scores_mean[:], '-o')\n",
    "\n",
    "    ax.set_xlabel(name_param_1, fontsize=22)\n",
    "    ax.set_ylabel('CV Average Score', fontsize=22)\n",
    "    ax.legend(loc=\"best\", fontsize=22)\n",
    "    ax.grid('on')"
   ]
  },
  {
   "cell_type": "code",
   "execution_count": 94,
   "id": "4345023c",
   "metadata": {},
   "outputs": [],
   "source": [
    "# Function used to plot the grid search scores for all values of n_neighbors - Naive Bayes Classifier Model\n",
    "def plot_grid_search_nb(cv_results, grid_param_1, grid_param_2, name_param_1, name_param_2):\n",
    "    # Get Test Scores Mean and std for each grid search\n",
    "    scores_mean = cv_results['mean_test_score']\n",
    "    scores_mean = np.array(scores_mean).reshape(len(grid_param_2),len(grid_param_1))\n",
    "\n",
    "    scores_sd = cv_results['std_test_score']\n",
    "    scores_sd = np.array(scores_sd).reshape(len(grid_param_2),len(grid_param_1))\n",
    "\n",
    "    # Plot Grid search scores\n",
    "    _, ax = plt.subplots(1,1, figsize=(7, 7))\n",
    "\n",
    "    # Param1 is the X-axis, Param 2 is represented as a different curve (color line)\n",
    "    for idx, val in enumerate(grid_param_2):\n",
    "        ax.plot(grid_param_1, scores_mean[idx,:], '-o', label= name_param_2 + ': ' + str(val))\n",
    "\n",
    "    ax.set_xlabel(name_param_1, fontsize=22)\n",
    "    ax.set_ylabel('CV Average Score', fontsize=22)\n",
    "    ax.legend(loc=\"best\", fontsize=14)\n",
    "    ax.grid('on')"
   ]
  },
  {
   "cell_type": "code",
   "execution_count": 95,
   "id": "6b580a57",
   "metadata": {},
   "outputs": [
    {
     "name": "stderr",
     "output_type": "stream",
     "text": [
      "No artists with labels found to put in legend.  Note that artists whose label start with an underscore are ignored when legend() is called with no argument.\n"
     ]
    },
    {
     "data": {
      "image/png": "[encoded data removed]",
      "text/plain": [
       "<Figure size 504x504 with 1 Axes>"
      ]
     },
     "metadata": {},
     "output_type": "display_data"
    }
   ],
   "source": [
    "# Plot the graph of n_neighbor values and cv results (KNN Model)\n",
    "plot_grid_search_knn(knn_gscv.cv_results_, np.arange(1, 100), 'k')"
   ]
  },
  {
   "cell_type": "code",
   "execution_count": 96,
   "id": "739ef071",
   "metadata": {},
   "outputs": [],
   "source": [
    "# KNN implementation example with the top performing n_neighbors value\n",
    "knn = KNeighborsClassifier(n_neighbors=knn_gscv.best_params_.get('n_neighbors'))\n",
    "\n",
    "# Training the classifier ; train_data.target will be having numbers assigned for each category in train data\n",
    "clf = knn.fit(X_train_tfidf, train_data.target)\n",
    "\n",
    "# Input Data to predict their classes of the given categories\n",
    "# building up feature vector of the input\n",
    "X_new_counts = count_vect.transform(test_data.data)\n",
    "\n",
    "# I call transform instead of fit_transform because it's already been fit\n",
    "X_new_tfidf = tfidf_transformer.transform(X_new_counts)"
   ]
  },
  {
   "cell_type": "code",
   "execution_count": 97,
   "id": "861ee68e",
   "metadata": {},
   "outputs": [
    {
     "name": "stderr",
     "output_type": "stream",
     "text": [
      "C:\\Python39\\lib\\site-packages\\sklearn\\model_selection\\_split.py:676: UserWarning: The least populated class in y has only 1 members, which is less than n_splits=5.\n",
      "  warnings.warn(\n",
      "C:\\Python39\\lib\\site-packages\\sklearn\\naive_bayes.py:555: UserWarning: alpha too small will result in numeric errors, setting alpha = 1.0e-10\n",
      "  warnings.warn(\n",
      "C:\\Python39\\lib\\site-packages\\sklearn\\naive_bayes.py:555: UserWarning: alpha too small will result in numeric errors, setting alpha = 1.0e-10\n",
      "  warnings.warn(\n",
      "C:\\Python39\\lib\\site-packages\\sklearn\\naive_bayes.py:555: UserWarning: alpha too small will result in numeric errors, setting alpha = 1.0e-10\n",
      "  warnings.warn(\n",
      "C:\\Python39\\lib\\site-packages\\sklearn\\naive_bayes.py:555: UserWarning: alpha too small will result in numeric errors, setting alpha = 1.0e-10\n",
      "  warnings.warn(\n",
      "C:\\Python39\\lib\\site-packages\\sklearn\\naive_bayes.py:555: UserWarning: alpha too small will result in numeric errors, setting alpha = 1.0e-10\n",
      "  warnings.warn(\n",
      "C:\\Python39\\lib\\site-packages\\sklearn\\naive_bayes.py:555: UserWarning: alpha too small will result in numeric errors, setting alpha = 1.0e-10\n",
      "  warnings.warn(\n",
      "C:\\Python39\\lib\\site-packages\\sklearn\\naive_bayes.py:555: UserWarning: alpha too small will result in numeric errors, setting alpha = 1.0e-10\n",
      "  warnings.warn(\n",
      "C:\\Python39\\lib\\site-packages\\sklearn\\naive_bayes.py:555: UserWarning: alpha too small will result in numeric errors, setting alpha = 1.0e-10\n",
      "  warnings.warn(\n",
      "C:\\Python39\\lib\\site-packages\\sklearn\\naive_bayes.py:555: UserWarning: alpha too small will result in numeric errors, setting alpha = 1.0e-10\n",
      "  warnings.warn(\n",
      "C:\\Python39\\lib\\site-packages\\sklearn\\naive_bayes.py:555: UserWarning: alpha too small will result in numeric errors, setting alpha = 1.0e-10\n",
      "  warnings.warn(\n"
     ]
    },
    {
     "data": {
      "text/plain": [
       "GridSearchCV(cv=5, estimator=MultinomialNB(),\n",
       "             param_grid={'alpha': [0.0, 1.0, 2.0, 3.0],\n",
       "                         'fit_prior': [True, False]})"
      ]
     },
     "execution_count": 97,
     "metadata": {},
     "output_type": "execute_result"
    }
   ],
   "source": [
    "# Create new a Naive Bayes model\n",
    "naive_bayes_classifier2 = MultinomialNB()\n",
    "\n",
    "# Create a dictionary of all values I want to test for fit_prior and alpha\n",
    "param_grid = {'fit_prior': [True, False], 'alpha': [0.0, 1.0, 2.0, 3.0]}\n",
    "\n",
    "# Use gridsearch to test all values for fit_prior and alpha\n",
    "nbc_gscv = GridSearchCV(naive_bayes_classifier2, param_grid, cv=5)\n",
    "\n",
    "# Fit model to data\n",
    "nbc_gscv.fit(X_train_tfidf, train_data.target)"
   ]
  },
  {
   "cell_type": "code",
   "execution_count": 98,
   "id": "3457b59f",
   "metadata": {},
   "outputs": [
    {
     "data": {
      "text/plain": [
       "{'alpha': 3.0, 'fit_prior': False}"
      ]
     },
     "execution_count": 98,
     "metadata": {},
     "output_type": "execute_result"
    }
   ],
   "source": [
    "# Check top performing fit_prior and alpha values\n",
    "nbc_gscv.best_params_"
   ]
  },
  {
   "cell_type": "code",
   "execution_count": 99,
   "id": "6dd49e6e",
   "metadata": {},
   "outputs": [
    {
     "data": {
      "text/plain": [
       "0.5004839242378553"
      ]
     },
     "execution_count": 99,
     "metadata": {},
     "output_type": "execute_result"
    }
   ],
   "source": [
    "# Check mean score for the top performing values of fit_prior and alpha\n",
    "nbc_gscv.best_score_"
   ]
  },
  {
   "cell_type": "code",
   "execution_count": 100,
   "id": "e7a08363",
   "metadata": {},
   "outputs": [
    {
     "data": {
      "text/plain": [
       "{'mean_fit_time': array([0.02255096, 0.02054458, 0.02475581, 0.02049365, 0.01882129,\n",
       "        0.02632189, 0.02301111, 0.01914907]),\n",
       " 'std_fit_time': array([0.00668855, 0.00173976, 0.00337967, 0.0018194 , 0.00043631,\n",
       "        0.00559887, 0.00064786, 0.00097723]),\n",
       " 'mean_score_time': array([0.00259352, 0.00299282, 0.00309591, 0.00260453, 0.00220976,\n",
       "        0.00339122, 0.00319233, 0.0028326 ]),\n",
       " 'std_score_time': array([4.87740994e-04, 3.16297988e-07, 4.81820800e-04, 7.90313269e-04,\n",
       "        4.04287014e-04, 7.99859907e-04, 3.98802996e-04, 4.19709060e-04]),\n",
       " 'param_alpha': masked_array(data=[0.0, 0.0, 1.0, 1.0, 2.0, 2.0, 3.0, 3.0],\n",
       "              mask=[False, False, False, False, False, False, False, False],\n",
       "        fill_value='?',\n",
       "             dtype=object),\n",
       " 'param_fit_prior': masked_array(data=[True, False, True, False, True, False, True, False],\n",
       "              mask=[False, False, False, False, False, False, False, False],\n",
       "        fill_value='?',\n",
       "             dtype=object),\n",
       " 'params': [{'alpha': 0.0, 'fit_prior': True},\n",
       "  {'alpha': 0.0, 'fit_prior': False},\n",
       "  {'alpha': 1.0, 'fit_prior': True},\n",
       "  {'alpha': 1.0, 'fit_prior': False},\n",
       "  {'alpha': 2.0, 'fit_prior': True},\n",
       "  {'alpha': 2.0, 'fit_prior': False},\n",
       "  {'alpha': 3.0, 'fit_prior': True},\n",
       "  {'alpha': 3.0, 'fit_prior': False}],\n",
       " 'split0_test_score': array([0.45988024, 0.44071856, 0.4502994 , 0.50299401, 0.40958084,\n",
       "        0.50538922, 0.3988024 , 0.51257485]),\n",
       " 'split1_test_score': array([0.43113772, 0.41676647, 0.42634731, 0.4742515 , 0.39281437,\n",
       "        0.47065868, 0.39281437, 0.46946108]),\n",
       " 'split2_test_score': array([0.48800959, 0.46402878, 0.46043165, 0.52038369, 0.42805755,\n",
       "        0.52757794, 0.40647482, 0.5263789 ]),\n",
       " 'split3_test_score': array([0.42925659, 0.41007194, 0.45083933, 0.48081535, 0.41007194,\n",
       "        0.49160671, 0.39928058, 0.49760192]),\n",
       " 'split4_test_score': array([0.46882494, 0.45803357, 0.44964029, 0.4940048 , 0.41606715,\n",
       "        0.49520384, 0.40647482, 0.49640288]),\n",
       " 'mean_test_score': array([0.45542182, 0.43792386, 0.4475116 , 0.49448987, 0.41131837,\n",
       "        0.49808728, 0.4007694 , 0.50048392]),\n",
       " 'std_test_score': array([0.0225203 , 0.02152692, 0.01129807, 0.01636845, 0.01139931,\n",
       "        0.01857771, 0.00518598, 0.01899536]),\n",
       " 'rank_test_score': array([4, 6, 5, 3, 7, 2, 8, 1])}"
      ]
     },
     "execution_count": 100,
     "metadata": {},
     "output_type": "execute_result"
    }
   ],
   "source": [
    "# Check results for each value of fit_prior and alpha\n",
    "nbc_gscv.cv_results_"
   ]
  },
  {
   "cell_type": "code",
   "execution_count": 101,
   "id": "cc2695cc",
   "metadata": {},
   "outputs": [
    {
     "data": {
      "image/png": "[encoded data removed]",
      "text/plain": [
       "<Figure size 504x504 with 1 Axes>"
      ]
     },
     "metadata": {},
     "output_type": "display_data"
    }
   ],
   "source": [
    "# Plot the graph of fit_prior and alpha values and cv results (Naive Bayes Model)\n",
    "plot_grid_search_nb(nbc_gscv.cv_results_, [0.0, 1.0, 2.0, 3.0], [True, False], 'alpha', 'fit_prior')"
   ]
  },
  {
   "cell_type": "code",
   "execution_count": 102,
   "id": "8f9eb936",
   "metadata": {},
   "outputs": [
    {
     "data": {
      "text/plain": [
       "MultinomialNB(alpha=3.0, fit_prior=False)"
      ]
     },
     "execution_count": 102,
     "metadata": {},
     "output_type": "execute_result"
    }
   ],
   "source": [
    "# Naive bayes implementation\n",
    "naive_bayes_classifier = MultinomialNB(fit_prior=nbc_gscv.best_params_.get('fit_prior'), alpha=nbc_gscv.best_params_.get('alpha'))\n",
    "naive_bayes_classifier.fit(X_train_tfidf, train_data.target)"
   ]
  },
  {
   "cell_type": "code",
   "execution_count": 103,
   "id": "1e8b28e8",
   "metadata": {},
   "outputs": [
    {
     "name": "stdout",
     "output_type": "stream",
     "text": [
      "Naive Bayes cv scores\n",
      "[0.51257485 0.46946108 0.5263789  0.49760192 0.49640288]\n",
      "cv_scores mean:0.5004839242378553\n"
     ]
    },
    {
     "name": "stderr",
     "output_type": "stream",
     "text": [
      "C:\\Python39\\lib\\site-packages\\sklearn\\model_selection\\_split.py:676: UserWarning: The least populated class in y has only 1 members, which is less than n_splits=5.\n",
      "  warnings.warn(\n"
     ]
    }
   ],
   "source": [
    "# Naive Bayes 5-fold cross validation\n",
    "# Train model with cv of 5 \n",
    "cv_scores = cross_val_score(naive_bayes_classifier, X_train_tfidf, train_data.target, cv=5)\n",
    "\n",
    "# Print each cv score (accuracy) and average them\n",
    "print('Naive Bayes cv scores')\n",
    "print(cv_scores)\n",
    "print('cv_scores mean:{}'.format(np.mean(cv_scores)))"
   ]
  },
  {
   "cell_type": "code",
   "execution_count": 104,
   "id": "d03952ce",
   "metadata": {},
   "outputs": [
    {
     "name": "stdout",
     "output_type": "stream",
     "text": [
      "KNN classification report over the movie test data by using multiple feature similarity:\n",
      "accuracy:   0.479\n",
      "              precision    recall  f1-score   support\n",
      "\n",
      "           G       0.33      0.14      0.20         7\n",
      "          PG       0.58      0.44      0.50        72\n",
      "       PG-13       0.32      0.33      0.33        91\n",
      "           R       0.43      0.53      0.48       165\n",
      "       TV-14       0.48      0.60      0.53       221\n",
      "        TV-G       0.00      0.00      0.00        18\n",
      "       TV-MA       0.53      0.58      0.56       342\n",
      "       TV-PG       0.43      0.13      0.20        90\n",
      "        TV-Y       0.50      0.20      0.29        15\n",
      "       TV-Y7       0.50      0.19      0.28        21\n",
      "    TV-Y7-FV       0.00      0.00      0.00         2\n",
      "\n",
      "    accuracy                           0.48      1044\n",
      "   macro avg       0.37      0.29      0.31      1044\n",
      "weighted avg       0.47      0.48      0.46      1044\n",
      "\n",
      "Naive Bayes classification report over the movie test data by using multiple feature similarity:\n",
      "accuracy:   0.463\n",
      "              precision    recall  f1-score   support\n",
      "\n",
      "           G       0.00      0.00      0.00         7\n",
      "          PG       0.44      0.11      0.18        72\n",
      "       PG-13       0.44      0.04      0.08        91\n",
      "           R       0.37      0.75      0.49       165\n",
      "       TV-14       0.51      0.56      0.53       221\n",
      "        TV-G       0.00      0.00      0.00        18\n",
      "       TV-MA       0.50      0.62      0.56       342\n",
      "       TV-PG       0.71      0.06      0.10        90\n",
      "        TV-Y       0.80      0.27      0.40        15\n",
      "       TV-Y7       1.00      0.14      0.25        21\n",
      "    TV-Y7-FV       0.00      0.00      0.00         2\n",
      "\n",
      "    accuracy                           0.46      1044\n",
      "   macro avg       0.43      0.23      0.24      1044\n",
      "weighted avg       0.49      0.46      0.41      1044\n",
      "\n"
     ]
    },
    {
     "name": "stderr",
     "output_type": "stream",
     "text": [
      "C:\\Python39\\lib\\site-packages\\sklearn\\metrics\\_classification.py:1318: UndefinedMetricWarning: Precision and F-score are ill-defined and being set to 0.0 in labels with no predicted samples. Use `zero_division` parameter to control this behavior.\n",
      "  _warn_prf(average, modifier, msg_start, len(result))\n",
      "C:\\Python39\\lib\\site-packages\\sklearn\\metrics\\_classification.py:1318: UndefinedMetricWarning: Precision and F-score are ill-defined and being set to 0.0 in labels with no predicted samples. Use `zero_division` parameter to control this behavior.\n",
      "  _warn_prf(average, modifier, msg_start, len(result))\n",
      "C:\\Python39\\lib\\site-packages\\sklearn\\metrics\\_classification.py:1318: UndefinedMetricWarning: Precision and F-score are ill-defined and being set to 0.0 in labels with no predicted samples. Use `zero_division` parameter to control this behavior.\n",
      "  _warn_prf(average, modifier, msg_start, len(result))\n",
      "C:\\Python39\\lib\\site-packages\\sklearn\\metrics\\_classification.py:1318: UndefinedMetricWarning: Precision and F-score are ill-defined and being set to 0.0 in labels with no predicted samples. Use `zero_division` parameter to control this behavior.\n",
      "  _warn_prf(average, modifier, msg_start, len(result))\n",
      "C:\\Python39\\lib\\site-packages\\sklearn\\metrics\\_classification.py:1318: UndefinedMetricWarning: Precision and F-score are ill-defined and being set to 0.0 in labels with no predicted samples. Use `zero_division` parameter to control this behavior.\n",
      "  _warn_prf(average, modifier, msg_start, len(result))\n",
      "C:\\Python39\\lib\\site-packages\\sklearn\\metrics\\_classification.py:1318: UndefinedMetricWarning: Precision and F-score are ill-defined and being set to 0.0 in labels with no predicted samples. Use `zero_division` parameter to control this behavior.\n",
      "  _warn_prf(average, modifier, msg_start, len(result))\n"
     ]
    }
   ],
   "source": [
    "# Calculating predictions\n",
    "knn_predicted = clf.predict(X_new_tfidf)\n",
    "naive_bayes_predicted = naive_bayes_classifier.predict(X_new_tfidf)\n",
    "\n",
    "# Compute the performance measures\n",
    "knn_accuracy_score = metrics.accuracy_score(test_data.target, knn_predicted)\n",
    "naive_bayes_accuracy_score = metrics.accuracy_score(test_data.target, naive_bayes_predicted)\n",
    "    \n",
    "print('KNN classification report over the movie test data by using multiple feature similarity:')\n",
    "print(\"accuracy:   %0.3f\" % knn_accuracy_score)\n",
    "print(metrics.classification_report(test_data.target, knn_predicted))\n",
    "print('Naive Bayes classification report over the movie test data by using multiple feature similarity:')\n",
    "print(\"accuracy:   %0.3f\" % naive_bayes_accuracy_score)\n",
    "print(metrics.classification_report(test_data.target, naive_bayes_predicted))"
   ]
  },
  {
   "cell_type": "code",
   "execution_count": 105,
   "id": "4a225364",
   "metadata": {},
   "outputs": [],
   "source": [
    "# Example of predicting movie ratings by using movie description similarities\n",
    "\n",
    "# Splitting movie dataset into 80% train data and 20% test data\n",
    "\n",
    "X = movies['description']\n",
    "y = movies['rating']\n",
    "\n",
    "X_train, X_test, y_train, y_test = train_test_split(X, y, test_size = 0.20)\n",
    "\n",
    "train_data.data = X_train\n",
    "train_data.target = y_train\n",
    "train_data.target_names = movie_rating_list\n",
    "\n",
    "test_data.data = X_test\n",
    "test_data.target = y_test"
   ]
  },
  {
   "cell_type": "code",
   "execution_count": 106,
   "id": "bd69ff65",
   "metadata": {},
   "outputs": [],
   "source": [
    "count_vect = CountVectorizer()\n",
    "X_train_counts = count_vect.fit_transform(train_data.data)\n",
    "\n",
    "tfidf_transformer = TfidfTransformer()\n",
    "X_train_tfidf = tfidf_transformer.fit_transform(X_train_counts)"
   ]
  },
  {
   "cell_type": "code",
   "execution_count": 107,
   "id": "c3c7ab26",
   "metadata": {},
   "outputs": [
    {
     "name": "stderr",
     "output_type": "stream",
     "text": [
      "C:\\Python39\\lib\\site-packages\\sklearn\\model_selection\\_split.py:676: UserWarning: The least populated class in y has only 2 members, which is less than n_splits=5.\n",
      "  warnings.warn(\n"
     ]
    },
    {
     "data": {
      "text/plain": [
       "GridSearchCV(cv=5, estimator=KNeighborsClassifier(),\n",
       "             param_grid={'n_neighbors': array([ 1,  2,  3,  4,  5,  6,  7,  8,  9, 10, 11, 12, 13, 14, 15, 16, 17,\n",
       "       18, 19, 20, 21, 22, 23, 24, 25, 26, 27, 28, 29, 30, 31, 32, 33, 34,\n",
       "       35, 36, 37, 38, 39, 40, 41, 42, 43, 44, 45, 46, 47, 48, 49, 50, 51,\n",
       "       52, 53, 54, 55, 56, 57, 58, 59, 60, 61, 62, 63, 64, 65, 66, 67, 68,\n",
       "       69, 70, 71, 72, 73, 74, 75, 76, 77, 78, 79, 80, 81, 82, 83, 84, 85,\n",
       "       86, 87, 88, 89, 90, 91, 92, 93, 94, 95, 96, 97, 98, 99])})"
      ]
     },
     "execution_count": 107,
     "metadata": {},
     "output_type": "execute_result"
    }
   ],
   "source": [
    "# Create new a knn model\n",
    "knn2 = KNeighborsClassifier()\n",
    "\n",
    "# Create a dictionary of all values I want to test for n_neighbors\n",
    "param_grid = {'n_neighbors': np.arange(1, 100)}\n",
    "\n",
    "# Use gridsearch to test all values for n_neighbors\n",
    "knn_gscv = GridSearchCV(knn2, param_grid, cv=5)\n",
    "\n",
    "# Fit model to data\n",
    "knn_gscv.fit(X_train_tfidf, train_data.target)"
   ]
  },
  {
   "cell_type": "code",
   "execution_count": 108,
   "id": "a3809060",
   "metadata": {},
   "outputs": [
    {
     "data": {
      "text/plain": [
       "{'n_neighbors': 69}"
      ]
     },
     "execution_count": 108,
     "metadata": {},
     "output_type": "execute_result"
    }
   ],
   "source": [
    "# Check top performing n_neighbors value\n",
    "knn_gscv.best_params_"
   ]
  },
  {
   "cell_type": "code",
   "execution_count": 109,
   "id": "2d09eb61",
   "metadata": {},
   "outputs": [
    {
     "data": {
      "text/plain": [
       "0.36145464466749955"
      ]
     },
     "execution_count": 109,
     "metadata": {},
     "output_type": "execute_result"
    }
   ],
   "source": [
    "# Check mean score for the top performing value of n_neighbors\n",
    "knn_gscv.best_score_"
   ]
  },
  {
   "cell_type": "code",
   "execution_count": 110,
   "id": "c3a5c873",
   "metadata": {},
   "outputs": [
    {
     "data": {
      "text/plain": [
       "{'mean_fit_time': array([0.00426836, 0.00437317, 0.00398846, 0.00400066, 0.00378551,\n",
       "        0.00401888, 0.00398865, 0.0044435 , 0.00418825, 0.00517383,\n",
       "        0.00367374, 0.00461383, 0.00463486, 0.00439377, 0.00397787,\n",
       "        0.0033947 , 0.00519176, 0.004987  , 0.0034112 , 0.00379262,\n",
       "        0.00401473, 0.00400205, 0.00478678, 0.00359492, 0.00378957,\n",
       "        0.00378962, 0.00557795, 0.00400195, 0.00569429, 0.0041461 ,\n",
       "        0.00438752, 0.00439277, 0.00465565, 0.00489573, 0.00405922,\n",
       "        0.0037931 , 0.00369291, 0.00359035, 0.00400534, 0.00477257,\n",
       "        0.0038229 , 0.00399799, 0.00419884, 0.00358768, 0.0037806 ,\n",
       "        0.00359974, 0.00381145, 0.00379844, 0.00360355, 0.00398817,\n",
       "        0.00514569, 0.00438113, 0.00364466, 0.00398359, 0.00358047,\n",
       "        0.00439768, 0.00399423, 0.00358434, 0.0041111 , 0.00657606,\n",
       "        0.00366879, 0.00438766, 0.00398927, 0.00339041, 0.00422401,\n",
       "        0.0039959 , 0.00448847, 0.00379977, 0.00485787, 0.00378962,\n",
       "        0.00380211, 0.00394859, 0.00378923, 0.00385532, 0.00339909,\n",
       "        0.00398874, 0.00378113, 0.00378938, 0.00422158, 0.00438504,\n",
       "        0.00366373, 0.00339203, 0.00458846, 0.00379038, 0.00398302,\n",
       "        0.00408287, 0.00438771, 0.00379629, 0.00411501, 0.00400128,\n",
       "        0.00409608, 0.00360165, 0.00459447, 0.00459557, 0.0039629 ,\n",
       "        0.00419679, 0.00380054, 0.00399871, 0.00379925]),\n",
       " 'std_fit_time': array([3.83686550e-04, 4.71857019e-04, 6.30977576e-04, 2.17350934e-05,\n",
       "        3.97015792e-04, 4.04970923e-05, 8.60951905e-07, 7.77462034e-04,\n",
       "        3.98898135e-04, 1.15671103e-03, 5.72781459e-04, 1.26574201e-03,\n",
       "        1.08539971e-03, 7.94498117e-04, 6.32076703e-04, 4.85101550e-04,\n",
       "        1.18506863e-03, 1.26093728e-03, 4.94085000e-04, 4.00513114e-04,\n",
       "        5.18567809e-05, 6.30697305e-04, 1.46572670e-03, 4.93024589e-04,\n",
       "        7.45435743e-04, 7.46722505e-04, 1.01997018e-03, 1.68362011e-05,\n",
       "        1.59649210e-03, 9.78638958e-04, 4.88110802e-04, 1.35136117e-03,\n",
       "        1.33380892e-03, 1.09393785e-03, 1.42981878e-04, 4.00763820e-04,\n",
       "        3.98103242e-04, 4.89103869e-04, 6.39333805e-04, 7.54681700e-04,\n",
       "        3.68198006e-04, 2.87249965e-05, 3.94359390e-04, 4.92981259e-04,\n",
       "        3.94857648e-04, 4.96760443e-04, 4.09290185e-04, 4.03798826e-04,\n",
       "        5.00099678e-04, 1.54387930e-03, 1.26995140e-03, 1.35466132e-03,\n",
       "        5.40985834e-04, 1.29490923e-05, 5.01742269e-04, 7.92192267e-04,\n",
       "        6.30735475e-04, 4.84226747e-04, 4.79818949e-04, 1.85537815e-03,\n",
       "        3.74048647e-04, 1.35281023e-03, 1.79938910e-06, 4.88636062e-04,\n",
       "        9.73307918e-04, 1.10538771e-03, 4.44319054e-04, 7.49013034e-04,\n",
       "        1.12232110e-03, 7.46404681e-04, 1.17668032e-03, 8.11344555e-05,\n",
       "        3.98660629e-04, 1.84732623e-04, 4.99463955e-04, 1.06624030e-06,\n",
       "        4.18556032e-04, 3.98850480e-04, 9.85515251e-04, 8.03203771e-04,\n",
       "        4.69202128e-04, 4.94951030e-04, 1.62213783e-03, 3.98160369e-04,\n",
       "        1.09320508e-03, 7.89421268e-04, 4.88928151e-04, 4.02377543e-04,\n",
       "        2.33601769e-04, 6.31754038e-04, 5.36838330e-04, 4.93737848e-04,\n",
       "        7.95865210e-04, 1.19345388e-03, 5.88843224e-04, 4.04668483e-04,\n",
       "        7.36347459e-04, 1.78182760e-05, 4.04255653e-04]),\n",
       " 'mean_score_time': array([0.0845561 , 0.08976049, 0.09656157, 0.11274376, 0.10737405,\n",
       "        0.10356979, 0.10469785, 0.11265464, 0.10462227, 0.13505955,\n",
       "        0.10540981, 0.11188602, 0.11699386, 0.10972505, 0.1112968 ,\n",
       "        0.10398355, 0.11058998, 0.13896065, 0.11647081, 0.1064394 ,\n",
       "        0.10802708, 0.11327538, 0.11883759, 0.10263724, 0.10462322,\n",
       "        0.11373158, 0.12547712, 0.11736503, 0.13440552, 0.11124315,\n",
       "        0.10864024, 0.12785501, 0.1138319 , 0.14741268, 0.11528878,\n",
       "        0.10739288, 0.1152957 , 0.10986376, 0.11135268, 0.1087615 ,\n",
       "        0.11014566, 0.11145759, 0.10989552, 0.10847726, 0.10507078,\n",
       "        0.10581284, 0.10217748, 0.1065629 , 0.1087955 , 0.13084297,\n",
       "        0.1359448 , 0.11380467, 0.10649767, 0.11568346, 0.10559039,\n",
       "        0.11271272, 0.10573764, 0.10578241, 0.10937605, 0.16273861,\n",
       "        0.11378789, 0.11514072, 0.10976148, 0.11779838, 0.12327819,\n",
       "        0.12089891, 0.11756129, 0.11962767, 0.11422014, 0.12472444,\n",
       "        0.11098871, 0.10541472, 0.10875068, 0.1147058 , 0.10955949,\n",
       "        0.11250911, 0.11538873, 0.10979514, 0.11040468, 0.1199162 ,\n",
       "        0.11022801, 0.11746888, 0.11902065, 0.12293749, 0.11645026,\n",
       "        0.11757493, 0.11554909, 0.11492062, 0.12542496, 0.11764846,\n",
       "        0.11040463, 0.11856055, 0.13607159, 0.12601361, 0.11759868,\n",
       "        0.11843996, 0.11506519, 0.11824679, 0.11281214]),\n",
       " 'std_score_time': array([0.00922453, 0.00516187, 0.00854866, 0.01377521, 0.01104273,\n",
       "        0.005138  , 0.00380937, 0.00435813, 0.00472972, 0.02625865,\n",
       "        0.00259745, 0.00550901, 0.01582555, 0.00306403, 0.01131932,\n",
       "        0.00695889, 0.01167623, 0.03000567, 0.01673688, 0.00389547,\n",
       "        0.00444179, 0.00989946, 0.01024614, 0.00267215, 0.00490866,\n",
       "        0.00996263, 0.02497368, 0.01863954, 0.02718824, 0.00950769,\n",
       "        0.00490386, 0.01945819, 0.00482087, 0.02023203, 0.00755001,\n",
       "        0.00494902, 0.01661093, 0.0062438 , 0.00949826, 0.00593359,\n",
       "        0.00941344, 0.00286996, 0.00574095, 0.00880984, 0.00332503,\n",
       "        0.00495094, 0.00085109, 0.00387899, 0.00425019, 0.02530892,\n",
       "        0.02577053, 0.0078061 , 0.00388258, 0.01097206, 0.00319471,\n",
       "        0.01121124, 0.00182888, 0.0062328 , 0.00261344, 0.03152846,\n",
       "        0.0067149 , 0.00773667, 0.00354107, 0.01007565, 0.00785122,\n",
       "        0.01788994, 0.00774531, 0.01138169, 0.00891263, 0.02198722,\n",
       "        0.00535339, 0.00319038, 0.00373975, 0.00767618, 0.00558029,\n",
       "        0.00275174, 0.0056901 , 0.004059  , 0.0034233 , 0.01075733,\n",
       "        0.00593064, 0.01248468, 0.00801106, 0.01775974, 0.0073254 ,\n",
       "        0.00564697, 0.0022913 , 0.00503201, 0.00918871, 0.01312176,\n",
       "        0.0059116 , 0.00971801, 0.01926371, 0.02097149, 0.01069795,\n",
       "        0.01029309, 0.00862251, 0.01206028, 0.00409328]),\n",
       " 'param_n_neighbors': masked_array(data=[1, 2, 3, 4, 5, 6, 7, 8, 9, 10, 11, 12, 13, 14, 15, 16,\n",
       "                    17, 18, 19, 20, 21, 22, 23, 24, 25, 26, 27, 28, 29, 30,\n",
       "                    31, 32, 33, 34, 35, 36, 37, 38, 39, 40, 41, 42, 43, 44,\n",
       "                    45, 46, 47, 48, 49, 50, 51, 52, 53, 54, 55, 56, 57, 58,\n",
       "                    59, 60, 61, 62, 63, 64, 65, 66, 67, 68, 69, 70, 71, 72,\n",
       "                    73, 74, 75, 76, 77, 78, 79, 80, 81, 82, 83, 84, 85, 86,\n",
       "                    87, 88, 89, 90, 91, 92, 93, 94, 95, 96, 97, 98, 99],\n",
       "              mask=[False, False, False, False, False, False, False, False,\n",
       "                    False, False, False, False, False, False, False, False,\n",
       "                    False, False, False, False, False, False, False, False,\n",
       "                    False, False, False, False, False, False, False, False,\n",
       "                    False, False, False, False, False, False, False, False,\n",
       "                    False, False, False, False, False, False, False, False,\n",
       "                    False, False, False, False, False, False, False, False,\n",
       "                    False, False, False, False, False, False, False, False,\n",
       "                    False, False, False, False, False, False, False, False,\n",
       "                    False, False, False, False, False, False, False, False,\n",
       "                    False, False, False, False, False, False, False, False,\n",
       "                    False, False, False, False, False, False, False, False,\n",
       "                    False, False, False],\n",
       "        fill_value='?',\n",
       "             dtype=object),\n",
       " 'params': [{'n_neighbors': 1},\n",
       "  {'n_neighbors': 2},\n",
       "  {'n_neighbors': 3},\n",
       "  {'n_neighbors': 4},\n",
       "  {'n_neighbors': 5},\n",
       "  {'n_neighbors': 6},\n",
       "  {'n_neighbors': 7},\n",
       "  {'n_neighbors': 8},\n",
       "  {'n_neighbors': 9},\n",
       "  {'n_neighbors': 10},\n",
       "  {'n_neighbors': 11},\n",
       "  {'n_neighbors': 12},\n",
       "  {'n_neighbors': 13},\n",
       "  {'n_neighbors': 14},\n",
       "  {'n_neighbors': 15},\n",
       "  {'n_neighbors': 16},\n",
       "  {'n_neighbors': 17},\n",
       "  {'n_neighbors': 18},\n",
       "  {'n_neighbors': 19},\n",
       "  {'n_neighbors': 20},\n",
       "  {'n_neighbors': 21},\n",
       "  {'n_neighbors': 22},\n",
       "  {'n_neighbors': 23},\n",
       "  {'n_neighbors': 24},\n",
       "  {'n_neighbors': 25},\n",
       "  {'n_neighbors': 26},\n",
       "  {'n_neighbors': 27},\n",
       "  {'n_neighbors': 28},\n",
       "  {'n_neighbors': 29},\n",
       "  {'n_neighbors': 30},\n",
       "  {'n_neighbors': 31},\n",
       "  {'n_neighbors': 32},\n",
       "  {'n_neighbors': 33},\n",
       "  {'n_neighbors': 34},\n",
       "  {'n_neighbors': 35},\n",
       "  {'n_neighbors': 36},\n",
       "  {'n_neighbors': 37},\n",
       "  {'n_neighbors': 38},\n",
       "  {'n_neighbors': 39},\n",
       "  {'n_neighbors': 40},\n",
       "  {'n_neighbors': 41},\n",
       "  {'n_neighbors': 42},\n",
       "  {'n_neighbors': 43},\n",
       "  {'n_neighbors': 44},\n",
       "  {'n_neighbors': 45},\n",
       "  {'n_neighbors': 46},\n",
       "  {'n_neighbors': 47},\n",
       "  {'n_neighbors': 48},\n",
       "  {'n_neighbors': 49},\n",
       "  {'n_neighbors': 50},\n",
       "  {'n_neighbors': 51},\n",
       "  {'n_neighbors': 52},\n",
       "  {'n_neighbors': 53},\n",
       "  {'n_neighbors': 54},\n",
       "  {'n_neighbors': 55},\n",
       "  {'n_neighbors': 56},\n",
       "  {'n_neighbors': 57},\n",
       "  {'n_neighbors': 58},\n",
       "  {'n_neighbors': 59},\n",
       "  {'n_neighbors': 60},\n",
       "  {'n_neighbors': 61},\n",
       "  {'n_neighbors': 62},\n",
       "  {'n_neighbors': 63},\n",
       "  {'n_neighbors': 64},\n",
       "  {'n_neighbors': 65},\n",
       "  {'n_neighbors': 66},\n",
       "  {'n_neighbors': 67},\n",
       "  {'n_neighbors': 68},\n",
       "  {'n_neighbors': 69},\n",
       "  {'n_neighbors': 70},\n",
       "  {'n_neighbors': 71},\n",
       "  {'n_neighbors': 72},\n",
       "  {'n_neighbors': 73},\n",
       "  {'n_neighbors': 74},\n",
       "  {'n_neighbors': 75},\n",
       "  {'n_neighbors': 76},\n",
       "  {'n_neighbors': 77},\n",
       "  {'n_neighbors': 78},\n",
       "  {'n_neighbors': 79},\n",
       "  {'n_neighbors': 80},\n",
       "  {'n_neighbors': 81},\n",
       "  {'n_neighbors': 82},\n",
       "  {'n_neighbors': 83},\n",
       "  {'n_neighbors': 84},\n",
       "  {'n_neighbors': 85},\n",
       "  {'n_neighbors': 86},\n",
       "  {'n_neighbors': 87},\n",
       "  {'n_neighbors': 88},\n",
       "  {'n_neighbors': 89},\n",
       "  {'n_neighbors': 90},\n",
       "  {'n_neighbors': 91},\n",
       "  {'n_neighbors': 92},\n",
       "  {'n_neighbors': 93},\n",
       "  {'n_neighbors': 94},\n",
       "  {'n_neighbors': 95},\n",
       "  {'n_neighbors': 96},\n",
       "  {'n_neighbors': 97},\n",
       "  {'n_neighbors': 98},\n",
       "  {'n_neighbors': 99}],\n",
       " 'split0_test_score': array([0.31616766, 0.28143713, 0.30778443, 0.30778443, 0.31856287,\n",
       "        0.32095808, 0.33652695, 0.34610778, 0.34011976, 0.34850299,\n",
       "        0.33173653, 0.34610778, 0.34730539, 0.3497006 , 0.34491018,\n",
       "        0.34371257, 0.33772455, 0.34011976, 0.34491018, 0.33173653,\n",
       "        0.33772455, 0.33413174, 0.34730539, 0.34610778, 0.33892216,\n",
       "        0.34491018, 0.34491018, 0.3508982 , 0.35209581, 0.3497006 ,\n",
       "        0.35329341, 0.34610778, 0.34610778, 0.34371257, 0.35329341,\n",
       "        0.35688623, 0.36287425, 0.36167665, 0.36766467, 0.36287425,\n",
       "        0.36646707, 0.35928144, 0.37005988, 0.36167665, 0.37005988,\n",
       "        0.37724551, 0.37724551, 0.36886228, 0.37245509, 0.37245509,\n",
       "        0.36886228, 0.36766467, 0.36526946, 0.36886228, 0.3748503 ,\n",
       "        0.37365269, 0.37125749, 0.37245509, 0.36886228, 0.37245509,\n",
       "        0.36287425, 0.37005988, 0.36407186, 0.35808383, 0.35928144,\n",
       "        0.35928144, 0.36287425, 0.36287425, 0.37005988, 0.37125749,\n",
       "        0.37245509, 0.36646707, 0.37365269, 0.37365269, 0.36766467,\n",
       "        0.36766467, 0.36407186, 0.36526946, 0.36646707, 0.36167665,\n",
       "        0.36526946, 0.36407186, 0.35928144, 0.36287425, 0.36407186,\n",
       "        0.36167665, 0.36407186, 0.36526946, 0.36526946, 0.36646707,\n",
       "        0.36407186, 0.36047904, 0.36047904, 0.35688623, 0.35808383,\n",
       "        0.35808383, 0.35928144, 0.36287425, 0.36646707]),\n",
       " 'split1_test_score': array([0.28023952, 0.2491018 , 0.28502994, 0.30658683, 0.31377246,\n",
       "        0.31976048, 0.31377246, 0.3245509 , 0.31017964, 0.3257485 ,\n",
       "        0.3257485 , 0.33892216, 0.34011976, 0.3508982 , 0.36526946,\n",
       "        0.36407186, 0.36646707, 0.36167665, 0.36766467, 0.36167665,\n",
       "        0.35568862, 0.35928144, 0.36047904, 0.35209581, 0.34850299,\n",
       "        0.36047904, 0.36287425, 0.35928144, 0.35808383, 0.36167665,\n",
       "        0.35449102, 0.35928144, 0.35329341, 0.35209581, 0.3497006 ,\n",
       "        0.35209581, 0.35209581, 0.3497006 , 0.34850299, 0.35329341,\n",
       "        0.36167665, 0.35449102, 0.34371257, 0.34371257, 0.3508982 ,\n",
       "        0.35449102, 0.36047904, 0.36526946, 0.35928144, 0.35688623,\n",
       "        0.36526946, 0.35568862, 0.35928144, 0.35928144, 0.36047904,\n",
       "        0.35808383, 0.36287425, 0.36766467, 0.35688623, 0.36167665,\n",
       "        0.35928144, 0.36167665, 0.37125749, 0.36886228, 0.36766467,\n",
       "        0.36407186, 0.35688623, 0.36167665, 0.36407186, 0.36287425,\n",
       "        0.35688623, 0.36646707, 0.35928144, 0.36287425, 0.36407186,\n",
       "        0.36287425, 0.35568862, 0.36407186, 0.36047904, 0.36047904,\n",
       "        0.35449102, 0.35449102, 0.35329341, 0.35568862, 0.3508982 ,\n",
       "        0.34730539, 0.35209581, 0.3508982 , 0.35568862, 0.35209581,\n",
       "        0.34371257, 0.34850299, 0.34850299, 0.35209581, 0.35329341,\n",
       "        0.35808383, 0.35688623, 0.36047904, 0.36167665]),\n",
       " 'split2_test_score': array([0.28657074, 0.24100719, 0.26858513, 0.31055156, 0.31894484,\n",
       "        0.34172662, 0.34172662, 0.32374101, 0.35131894, 0.3501199 ,\n",
       "        0.34292566, 0.34052758, 0.34772182, 0.33693046, 0.34052758,\n",
       "        0.35731415, 0.3501199 , 0.35491607, 0.36091127, 0.3705036 ,\n",
       "        0.35731415, 0.35731415, 0.35371703, 0.35851319, 0.35371703,\n",
       "        0.36211031, 0.35731415, 0.36091127, 0.34652278, 0.34892086,\n",
       "        0.35491607, 0.34652278, 0.35491607, 0.35731415, 0.34892086,\n",
       "        0.34892086, 0.35731415, 0.35731415, 0.36690647, 0.36211031,\n",
       "        0.36091127, 0.35731415, 0.36091127, 0.36091127, 0.35851319,\n",
       "        0.36211031, 0.35851319, 0.36091127, 0.35491607, 0.35971223,\n",
       "        0.36570743, 0.35971223, 0.36450839, 0.35851319, 0.36930456,\n",
       "        0.36211031, 0.36450839, 0.36091127, 0.36330935, 0.35851319,\n",
       "        0.36330935, 0.37170264, 0.37290168, 0.36930456, 0.36810552,\n",
       "        0.37170264, 0.37410072, 0.37170264, 0.37170264, 0.36930456,\n",
       "        0.37529976, 0.36930456, 0.36211031, 0.36450839, 0.35731415,\n",
       "        0.35611511, 0.35731415, 0.36091127, 0.35851319, 0.35371703,\n",
       "        0.35851319, 0.35731415, 0.35971223, 0.35971223, 0.35971223,\n",
       "        0.36570743, 0.36091127, 0.36450839, 0.35971223, 0.36091127,\n",
       "        0.36091127, 0.36330935, 0.36570743, 0.36211031, 0.36091127,\n",
       "        0.35611511, 0.36330935, 0.36570743, 0.36690647]),\n",
       " 'split3_test_score': array([0.3117506 , 0.25419664, 0.27697842, 0.29376499, 0.29736211,\n",
       "        0.31294964, 0.31414868, 0.31534772, 0.34172662, 0.33093525,\n",
       "        0.33333333, 0.33693046, 0.33573141, 0.32733813, 0.33932854,\n",
       "        0.34052758, 0.34052758, 0.33453237, 0.3381295 , 0.33093525,\n",
       "        0.34292566, 0.3381295 , 0.33573141, 0.3381295 , 0.34772182,\n",
       "        0.34652278, 0.34172662, 0.3381295 , 0.33573141, 0.33453237,\n",
       "        0.32733813, 0.32733813, 0.32254197, 0.31654676, 0.32853717,\n",
       "        0.32733813, 0.32254197, 0.32014388, 0.31894484, 0.32014388,\n",
       "        0.32374101, 0.32134293, 0.31894484, 0.32733813, 0.31654676,\n",
       "        0.32613909, 0.32374101, 0.3177458 , 0.31294964, 0.31534772,\n",
       "        0.31534772, 0.31414868, 0.3177458 , 0.31894484, 0.32014388,\n",
       "        0.32014388, 0.31534772, 0.32853717, 0.32853717, 0.32733813,\n",
       "        0.32494005, 0.32613909, 0.32254197, 0.32853717, 0.33213429,\n",
       "        0.33213429, 0.33333333, 0.33573141, 0.33573141, 0.33093525,\n",
       "        0.33453237, 0.33213429, 0.33693046, 0.33573141, 0.33333333,\n",
       "        0.33453237, 0.33573141, 0.33213429, 0.33093525, 0.33333333,\n",
       "        0.33453237, 0.33453237, 0.33573141, 0.33693046, 0.33333333,\n",
       "        0.3381295 , 0.33693046, 0.33693046, 0.33932854, 0.3381295 ,\n",
       "        0.34172662, 0.34172662, 0.33693046, 0.34172662, 0.34052758,\n",
       "        0.3381295 , 0.33333333, 0.33932854, 0.34172662]),\n",
       " 'split4_test_score': array([0.30815348, 0.27458034, 0.2793765 , 0.28657074, 0.3117506 ,\n",
       "        0.3057554 , 0.31414868, 0.33213429, 0.33333333, 0.32374101,\n",
       "        0.34532374, 0.33093525, 0.33932854, 0.34652278, 0.32853717,\n",
       "        0.34652278, 0.35971223, 0.36091127, 0.36330935, 0.35971223,\n",
       "        0.34292566, 0.35851319, 0.36570743, 0.36211031, 0.36810552,\n",
       "        0.37170264, 0.36810552, 0.37889688, 0.37769784, 0.37410072,\n",
       "        0.37769784, 0.3764988 , 0.37889688, 0.38489209, 0.3764988 ,\n",
       "        0.37170264, 0.36690647, 0.36810552, 0.37290168, 0.37290168,\n",
       "        0.36690647, 0.36211031, 0.36690647, 0.36330935, 0.35971223,\n",
       "        0.36211031, 0.36091127, 0.35251799, 0.35611511, 0.35251799,\n",
       "        0.35371703, 0.35491607, 0.35251799, 0.35611511, 0.35611511,\n",
       "        0.35491607, 0.3501199 , 0.35491607, 0.35731415, 0.35731415,\n",
       "        0.35371703, 0.35491607, 0.35731415, 0.36211031, 0.35971223,\n",
       "        0.36690647, 0.36330935, 0.36570743, 0.36570743, 0.36810552,\n",
       "        0.36570743, 0.36690647, 0.36690647, 0.36450839, 0.36211031,\n",
       "        0.36450839, 0.36091127, 0.36211031, 0.3501199 , 0.35251799,\n",
       "        0.34652278, 0.34892086, 0.34892086, 0.35251799, 0.3501199 ,\n",
       "        0.34772182, 0.35251799, 0.35131894, 0.35251799, 0.35491607,\n",
       "        0.35131894, 0.35371703, 0.35371703, 0.35611511, 0.35611511,\n",
       "        0.35851319, 0.35851319, 0.36091127, 0.35731415]),\n",
       " 'mean_test_score': array([0.3005764 , 0.26006462, 0.28355088, 0.30105171, 0.31207858,\n",
       "        0.32023004, 0.32406468, 0.32837634, 0.33533566, 0.33580953,\n",
       "        0.33581355, 0.33868465, 0.34204138, 0.34227803, 0.34371459,\n",
       "        0.35042979, 0.35091027, 0.35043122, 0.35498499, 0.35091285,\n",
       "        0.34731573, 0.349474  , 0.35258806, 0.35139132, 0.3513939 ,\n",
       "        0.35714499, 0.35498614, 0.35762346, 0.35402634, 0.35378624,\n",
       "        0.35354729, 0.35114979, 0.35115122, 0.35091228, 0.35139017,\n",
       "        0.35138873, 0.35234653, 0.35138816, 0.35498413, 0.35426471,\n",
       "        0.35594049, 0.35090797, 0.35210701, 0.35138959, 0.35114605,\n",
       "        0.35641925, 0.356178  , 0.35306136, 0.35114347, 0.35138385,\n",
       "        0.35378078, 0.35042605, 0.35186462, 0.35234337, 0.35617858,\n",
       "        0.35378136, 0.35282155, 0.35689685, 0.35498183, 0.35545944,\n",
       "        0.35282442, 0.35689886, 0.35761743, 0.35737963, 0.35737963,\n",
       "        0.35881934, 0.35810078, 0.35953848, 0.36145464, 0.36049541,\n",
       "        0.36097618, 0.36025589, 0.35977627, 0.36025503, 0.35689886,\n",
       "        0.35713896, 0.35474346, 0.35689944, 0.35330289, 0.35234481,\n",
       "        0.35186576, 0.35186605, 0.35138787, 0.35354471, 0.35162711,\n",
       "        0.35210816, 0.35330548, 0.35378509, 0.35450337, 0.35450394,\n",
       "        0.35234825, 0.35354701, 0.35306739, 0.35378681, 0.35378624,\n",
       "        0.35378509, 0.35426471, 0.35786011, 0.35881819]),\n",
       " 'std_test_score': array([0.01438826, 0.0153967 , 0.01322157, 0.00926292, 0.00785803,\n",
       "        0.01204469, 0.01240835, 0.0103382 , 0.01382774, 0.01128311,\n",
       "        0.00728155, 0.00493328, 0.0047084 , 0.00893551, 0.01204816,\n",
       "        0.0088537 , 0.01097066, 0.01109508, 0.01140876, 0.01639464,\n",
       "        0.00775384, 0.01098584, 0.01046626, 0.00860123, 0.00961313,\n",
       "        0.01010166, 0.01016956, 0.01335186, 0.01393943, 0.01331174,\n",
       "        0.01595618, 0.01626359, 0.01806937, 0.02204467, 0.01526615,\n",
       "        0.01433805, 0.01572181, 0.01673017, 0.01982328, 0.01815593,\n",
       "        0.01628177, 0.01499051, 0.01891582, 0.01397123, 0.01834426,\n",
       "        0.01684705, 0.01756334, 0.0184814 , 0.02009045, 0.01920169,\n",
       "        0.01989367, 0.01869388, 0.01765834, 0.01725552, 0.01917249,\n",
       "        0.01797509, 0.01994547, 0.01537736, 0.01393127, 0.01504047,\n",
       "        0.01435939, 0.01652445, 0.01839402, 0.01502543, 0.01316975,\n",
       "        0.01393754, 0.01357067, 0.01239757, 0.01315821, 0.01503861,\n",
       "        0.01466504, 0.01410029, 0.01241788, 0.01283704, 0.01224761,\n",
       "        0.0119172 , 0.00994003, 0.01247446, 0.01234814, 0.01016463,\n",
       "        0.01058048, 0.0099467 , 0.00879142, 0.00901956, 0.01056131,\n",
       "        0.01014106, 0.00942325, 0.01044389, 0.00870245, 0.00957352,\n",
       "        0.00893557, 0.00785556, 0.00996353, 0.00682079, 0.00708088,\n",
       "        0.00787197, 0.01067724, 0.00944785, 0.00923559]),\n",
       " 'rank_test_score': array([97, 99, 98, 96, 95, 94, 93, 92, 91, 90, 89, 88, 87, 86, 85, 81, 78,\n",
       "        80, 28, 76, 84, 83, 53, 65, 64, 16, 27, 12, 36, 39, 44, 73, 72, 77,\n",
       "        66, 68, 55, 69, 29, 34, 25, 79, 59, 67, 74, 22, 24, 50, 75, 71, 43,\n",
       "        82, 62, 57, 23, 42, 52, 21, 30, 26, 51, 19, 13, 14, 14,  8, 10,  7,\n",
       "         1,  3,  2,  4,  6,  5, 19, 17, 31, 18, 48, 56, 61, 60, 70, 46, 63,\n",
       "        58, 47, 40, 33, 32, 54, 45, 49, 37, 38, 40, 34, 11,  9])}"
      ]
     },
     "execution_count": 110,
     "metadata": {},
     "output_type": "execute_result"
    }
   ],
   "source": [
    "# Check results for each value of n_neighbors\n",
    "knn_gscv.cv_results_"
   ]
  },
  {
   "cell_type": "code",
   "execution_count": 111,
   "id": "ee9b02ab",
   "metadata": {},
   "outputs": [
    {
     "name": "stderr",
     "output_type": "stream",
     "text": [
      "No artists with labels found to put in legend.  Note that artists whose label start with an underscore are ignored when legend() is called with no argument.\n"
     ]
    },
    {
     "data": {
      "image/png": "[encoded data removed]",
      "text/plain": [
       "<Figure size 504x504 with 1 Axes>"
      ]
     },
     "metadata": {},
     "output_type": "display_data"
    }
   ],
   "source": [
    "# Plot the graph of n_neighbor values and cv results (KNN Model)\n",
    "plot_grid_search_knn(knn_gscv.cv_results_, np.arange(1, 100), 'k')"
   ]
  },
  {
   "cell_type": "code",
   "execution_count": 112,
   "id": "14107e0a",
   "metadata": {},
   "outputs": [],
   "source": [
    "# KNN implementation example with the top performing n_neighbors value\n",
    "knn = KNeighborsClassifier(n_neighbors=knn_gscv.best_params_.get('n_neighbors'))\n",
    "\n",
    "# Training the classifier ; train_data.target will be having numbers assigned for each category in train data\n",
    "clf = knn.fit(X_train_tfidf, train_data.target)\n",
    "\n",
    "# Input Data to predict their classes of the given categories\n",
    "# building up feature vector of the input\n",
    "X_new_counts = count_vect.transform(test_data.data)\n",
    "\n",
    "# I call transform instead of fit_transform because it's already been fit\n",
    "X_new_tfidf = tfidf_transformer.transform(X_new_counts)"
   ]
  },
  {
   "cell_type": "code",
   "execution_count": 113,
   "id": "c69c4ec5",
   "metadata": {},
   "outputs": [
    {
     "name": "stderr",
     "output_type": "stream",
     "text": [
      "C:\\Python39\\lib\\site-packages\\sklearn\\model_selection\\_split.py:676: UserWarning: The least populated class in y has only 2 members, which is less than n_splits=5.\n",
      "  warnings.warn(\n",
      "C:\\Python39\\lib\\site-packages\\sklearn\\naive_bayes.py:555: UserWarning: alpha too small will result in numeric errors, setting alpha = 1.0e-10\n",
      "  warnings.warn(\n",
      "C:\\Python39\\lib\\site-packages\\sklearn\\naive_bayes.py:555: UserWarning: alpha too small will result in numeric errors, setting alpha = 1.0e-10\n",
      "  warnings.warn(\n",
      "C:\\Python39\\lib\\site-packages\\sklearn\\naive_bayes.py:555: UserWarning: alpha too small will result in numeric errors, setting alpha = 1.0e-10\n",
      "  warnings.warn(\n",
      "C:\\Python39\\lib\\site-packages\\sklearn\\naive_bayes.py:555: UserWarning: alpha too small will result in numeric errors, setting alpha = 1.0e-10\n",
      "  warnings.warn(\n",
      "C:\\Python39\\lib\\site-packages\\sklearn\\naive_bayes.py:555: UserWarning: alpha too small will result in numeric errors, setting alpha = 1.0e-10\n",
      "  warnings.warn(\n",
      "C:\\Python39\\lib\\site-packages\\sklearn\\naive_bayes.py:555: UserWarning: alpha too small will result in numeric errors, setting alpha = 1.0e-10\n",
      "  warnings.warn(\n",
      "C:\\Python39\\lib\\site-packages\\sklearn\\naive_bayes.py:555: UserWarning: alpha too small will result in numeric errors, setting alpha = 1.0e-10\n",
      "  warnings.warn(\n",
      "C:\\Python39\\lib\\site-packages\\sklearn\\naive_bayes.py:555: UserWarning: alpha too small will result in numeric errors, setting alpha = 1.0e-10\n",
      "  warnings.warn(\n",
      "C:\\Python39\\lib\\site-packages\\sklearn\\naive_bayes.py:555: UserWarning: alpha too small will result in numeric errors, setting alpha = 1.0e-10\n",
      "  warnings.warn(\n",
      "C:\\Python39\\lib\\site-packages\\sklearn\\naive_bayes.py:555: UserWarning: alpha too small will result in numeric errors, setting alpha = 1.0e-10\n",
      "  warnings.warn(\n"
     ]
    },
    {
     "data": {
      "text/plain": [
       "GridSearchCV(cv=5, estimator=MultinomialNB(),\n",
       "             param_grid={'alpha': [0.0, 1.0, 2.0, 3.0],\n",
       "                         'fit_prior': [True, False]})"
      ]
     },
     "execution_count": 113,
     "metadata": {},
     "output_type": "execute_result"
    }
   ],
   "source": [
    "# Create new a Naive Bayes model\n",
    "naive_bayes_classifier2 = MultinomialNB()\n",
    "\n",
    "# Create a dictionary of all values I want to test for fit_prior and alpha\n",
    "param_grid = {'fit_prior': [True, False], 'alpha': [0.0, 1.0, 2.0, 3.0]}\n",
    "\n",
    "# Use gridsearch to test all values for fit_prior and alpha\n",
    "nbc_gscv = GridSearchCV(naive_bayes_classifier2, param_grid, cv=5)\n",
    "\n",
    "# Fit model to data\n",
    "nbc_gscv.fit(X_train_tfidf, train_data.target)"
   ]
  },
  {
   "cell_type": "code",
   "execution_count": 114,
   "id": "231afd30",
   "metadata": {},
   "outputs": [
    {
     "data": {
      "text/plain": [
       "{'alpha': 1.0, 'fit_prior': False}"
      ]
     },
     "execution_count": 114,
     "metadata": {},
     "output_type": "execute_result"
    }
   ],
   "source": [
    "# Check top performing fit_prior and alpha values\n",
    "nbc_gscv.best_params_"
   ]
  },
  {
   "cell_type": "code",
   "execution_count": 115,
   "id": "6e9f7520",
   "metadata": {},
   "outputs": [
    {
     "data": {
      "text/plain": [
       "0.3650483206249372"
      ]
     },
     "execution_count": 115,
     "metadata": {},
     "output_type": "execute_result"
    }
   ],
   "source": [
    "# Check mean score for the top performing values of fit_prior and alpha\n",
    "nbc_gscv.best_score_"
   ]
  },
  {
   "cell_type": "code",
   "execution_count": 116,
   "id": "5fc592fe",
   "metadata": {},
   "outputs": [
    {
     "data": {
      "text/plain": [
       "{'mean_fit_time': array([0.01754541, 0.01477723, 0.01356339, 0.01356306, 0.0137711 ,\n",
       "        0.0149931 , 0.01476965, 0.01337414]),\n",
       " 'std_fit_time': array([0.00276435, 0.00313745, 0.00048891, 0.00048883, 0.00076039,\n",
       "        0.00090634, 0.00074028, 0.00049243]),\n",
       " 'mean_score_time': array([0.0024014 , 0.00139165, 0.00179625, 0.0017961 , 0.00159683,\n",
       "        0.0021853 , 0.00199051, 0.00159612]),\n",
       " 'std_score_time': array([4.96377757e-04, 4.81696451e-04, 3.99112844e-04, 3.98445672e-04,\n",
       "        4.88928151e-04, 4.03011511e-04, 1.06125999e-05, 4.87694877e-04]),\n",
       " 'param_alpha': masked_array(data=[0.0, 0.0, 1.0, 1.0, 2.0, 2.0, 3.0, 3.0],\n",
       "              mask=[False, False, False, False, False, False, False, False],\n",
       "        fill_value='?',\n",
       "             dtype=object),\n",
       " 'param_fit_prior': masked_array(data=[True, False, True, False, True, False, True, False],\n",
       "              mask=[False, False, False, False, False, False, False, False],\n",
       "        fill_value='?',\n",
       "             dtype=object),\n",
       " 'params': [{'alpha': 0.0, 'fit_prior': True},\n",
       "  {'alpha': 0.0, 'fit_prior': False},\n",
       "  {'alpha': 1.0, 'fit_prior': True},\n",
       "  {'alpha': 1.0, 'fit_prior': False},\n",
       "  {'alpha': 2.0, 'fit_prior': True},\n",
       "  {'alpha': 2.0, 'fit_prior': False},\n",
       "  {'alpha': 3.0, 'fit_prior': True},\n",
       "  {'alpha': 3.0, 'fit_prior': False}],\n",
       " 'split0_test_score': array([0.36646707, 0.36287425, 0.3508982 , 0.3748503 , 0.34251497,\n",
       "        0.36766467, 0.34131737, 0.36167665]),\n",
       " 'split1_test_score': array([0.33772455, 0.32215569, 0.34610778, 0.37365269, 0.34011976,\n",
       "        0.36766467, 0.33892216, 0.35808383]),\n",
       " 'split2_test_score': array([0.35731415, 0.34892086, 0.35611511, 0.36810552, 0.34292566,\n",
       "        0.35611511, 0.34052758, 0.35371703]),\n",
       " 'split3_test_score': array([0.3381295 , 0.33693046, 0.33693046, 0.34652278, 0.34052758,\n",
       "        0.35131894, 0.34052758, 0.3501199 ]),\n",
       " 'split4_test_score': array([0.35851319, 0.34772182, 0.34892086, 0.36211031, 0.34172662,\n",
       "        0.36690647, 0.34052758, 0.36570743]),\n",
       " 'mean_test_score': array([0.35162969, 0.34372062, 0.34779448, 0.36504832, 0.34156292,\n",
       "        0.36193397, 0.34036445, 0.35786097]),\n",
       " 'std_test_score': array([0.01162284, 0.01357252, 0.00634045, 0.01030813, 0.0010904 ,\n",
       "        0.00688398, 0.00078334, 0.00553665]),\n",
       " 'rank_test_score': array([4, 6, 5, 1, 7, 2, 8, 3])}"
      ]
     },
     "execution_count": 116,
     "metadata": {},
     "output_type": "execute_result"
    }
   ],
   "source": [
    "# Check results for each value of fit_prior and alpha\n",
    "nbc_gscv.cv_results_"
   ]
  },
  {
   "cell_type": "code",
   "execution_count": 117,
   "id": "77ce1eed",
   "metadata": {},
   "outputs": [
    {
     "data": {
      "image/png": "[encoded data removed]",
      "text/plain": [
       "<Figure size 504x504 with 1 Axes>"
      ]
     },
     "metadata": {},
     "output_type": "display_data"
    }
   ],
   "source": [
    "# Plot the graph of fit_prior and alpha values and cv results (Naive Bayes Model)\n",
    "plot_grid_search_nb(nbc_gscv.cv_results_, [0.0, 1.0, 2.0, 3.0], [True, False], 'alpha', 'fit_prior')"
   ]
  },
  {
   "cell_type": "code",
   "execution_count": 118,
   "id": "e2a6fc00",
   "metadata": {},
   "outputs": [
    {
     "data": {
      "text/plain": [
       "MultinomialNB(fit_prior=False)"
      ]
     },
     "execution_count": 118,
     "metadata": {},
     "output_type": "execute_result"
    }
   ],
   "source": [
    "# Naive bayes implementation\n",
    "naive_bayes_classifier = MultinomialNB(fit_prior=nbc_gscv.best_params_.get('fit_prior'), alpha=nbc_gscv.best_params_.get('alpha'))\n",
    "naive_bayes_classifier.fit(X_train_tfidf, train_data.target)"
   ]
  },
  {
   "cell_type": "code",
   "execution_count": 119,
   "id": "232837ab",
   "metadata": {},
   "outputs": [
    {
     "name": "stdout",
     "output_type": "stream",
     "text": [
      "Naive Bayes cv scores\n",
      "[0.3748503  0.37365269 0.36810552 0.34652278 0.36211031]\n",
      "cv_scores mean:0.3650483206249372\n"
     ]
    },
    {
     "name": "stderr",
     "output_type": "stream",
     "text": [
      "C:\\Python39\\lib\\site-packages\\sklearn\\model_selection\\_split.py:676: UserWarning: The least populated class in y has only 2 members, which is less than n_splits=5.\n",
      "  warnings.warn(\n"
     ]
    }
   ],
   "source": [
    "#Naive Bayes 5-fold cross validation\n",
    "# Train model with cv of 5 \n",
    "cv_scores = cross_val_score(naive_bayes_classifier, X_train_tfidf, train_data.target, cv=5)\n",
    "\n",
    "# Print each cv score (accuracy) and average them\n",
    "print('Naive Bayes cv scores')\n",
    "print(cv_scores)\n",
    "print('cv_scores mean:{}'.format(np.mean(cv_scores)))"
   ]
  },
  {
   "cell_type": "code",
   "execution_count": 120,
   "id": "08adf4e8",
   "metadata": {},
   "outputs": [
    {
     "name": "stdout",
     "output_type": "stream",
     "text": [
      "KNN classification report over the movie test data by using description similarity:\n",
      "accuracy:   0.368\n",
      "              precision    recall  f1-score   support\n",
      "\n",
      "           G       0.00      0.00      0.00         8\n",
      "       NC-17       0.00      0.00      0.00         1\n",
      "          PG       0.00      0.00      0.00        58\n",
      "       PG-13       0.00      0.00      0.00        86\n",
      "           R       0.38      0.06      0.10       161\n",
      "       TV-14       0.33      0.35      0.34       238\n",
      "        TV-G       0.00      0.00      0.00        14\n",
      "       TV-MA       0.38      0.81      0.52       360\n",
      "       TV-PG       0.00      0.00      0.00        92\n",
      "        TV-Y       1.00      0.08      0.15        12\n",
      "       TV-Y7       0.00      0.00      0.00        14\n",
      "\n",
      "    accuracy                           0.37      1044\n",
      "   macro avg       0.19      0.12      0.10      1044\n",
      "weighted avg       0.28      0.37      0.27      1044\n",
      "\n",
      "Naive Bayes classification report over the movie test data by using description similarity:\n",
      "accuracy:   0.387\n",
      "              precision    recall  f1-score   support\n",
      "\n",
      "           G       0.00      0.00      0.00         8\n",
      "       NC-17       0.00      0.00      0.00         1\n",
      "          PG       0.57      0.07      0.12        58\n",
      "       PG-13       0.30      0.03      0.06        86\n",
      "           R       0.39      0.11      0.17       161\n",
      "       TV-14       0.35      0.42      0.38       238\n",
      "        TV-G       0.00      0.00      0.00        14\n",
      "       TV-MA       0.40      0.78      0.53       360\n",
      "       TV-PG       0.20      0.01      0.02        92\n",
      "        TV-Y       0.00      0.00      0.00        12\n",
      "       TV-Y7       0.00      0.00      0.00        14\n",
      "\n",
      "    accuracy                           0.39      1044\n",
      "   macro avg       0.20      0.13      0.12      1044\n",
      "weighted avg       0.35      0.39      0.31      1044\n",
      "\n"
     ]
    },
    {
     "name": "stderr",
     "output_type": "stream",
     "text": [
      "C:\\Python39\\lib\\site-packages\\sklearn\\metrics\\_classification.py:1318: UndefinedMetricWarning: Precision and F-score are ill-defined and being set to 0.0 in labels with no predicted samples. Use `zero_division` parameter to control this behavior.\n",
      "  _warn_prf(average, modifier, msg_start, len(result))\n",
      "C:\\Python39\\lib\\site-packages\\sklearn\\metrics\\_classification.py:1318: UndefinedMetricWarning: Precision and F-score are ill-defined and being set to 0.0 in labels with no predicted samples. Use `zero_division` parameter to control this behavior.\n",
      "  _warn_prf(average, modifier, msg_start, len(result))\n",
      "C:\\Python39\\lib\\site-packages\\sklearn\\metrics\\_classification.py:1318: UndefinedMetricWarning: Precision and F-score are ill-defined and being set to 0.0 in labels with no predicted samples. Use `zero_division` parameter to control this behavior.\n",
      "  _warn_prf(average, modifier, msg_start, len(result))\n",
      "C:\\Python39\\lib\\site-packages\\sklearn\\metrics\\_classification.py:1318: UndefinedMetricWarning: Precision and F-score are ill-defined and being set to 0.0 in labels with no predicted samples. Use `zero_division` parameter to control this behavior.\n",
      "  _warn_prf(average, modifier, msg_start, len(result))\n",
      "C:\\Python39\\lib\\site-packages\\sklearn\\metrics\\_classification.py:1318: UndefinedMetricWarning: Precision and F-score are ill-defined and being set to 0.0 in labels with no predicted samples. Use `zero_division` parameter to control this behavior.\n",
      "  _warn_prf(average, modifier, msg_start, len(result))\n",
      "C:\\Python39\\lib\\site-packages\\sklearn\\metrics\\_classification.py:1318: UndefinedMetricWarning: Precision and F-score are ill-defined and being set to 0.0 in labels with no predicted samples. Use `zero_division` parameter to control this behavior.\n",
      "  _warn_prf(average, modifier, msg_start, len(result))\n"
     ]
    }
   ],
   "source": [
    "# Calculating predictions\n",
    "knn_predicted = clf.predict(X_new_tfidf)\n",
    "naive_bayes_predicted = naive_bayes_classifier.predict(X_new_tfidf)\n",
    "\n",
    "# Compute the performance measures\n",
    "knn_accuracy_score = metrics.accuracy_score(test_data.target, knn_predicted)\n",
    "naive_bayes_accuracy_score = metrics.accuracy_score(test_data.target, naive_bayes_predicted)\n",
    "    \n",
    "print('KNN classification report over the movie test data by using description similarity:')\n",
    "print(\"accuracy:   %0.3f\" % knn_accuracy_score)\n",
    "print(metrics.classification_report(test_data.target, knn_predicted))\n",
    "print('Naive Bayes classification report over the movie test data by using description similarity:')\n",
    "print(\"accuracy:   %0.3f\" % naive_bayes_accuracy_score)\n",
    "print(metrics.classification_report(test_data.target, naive_bayes_predicted))"
   ]
  },
  {
   "cell_type": "code",
   "execution_count": 121,
   "id": "65856898",
   "metadata": {},
   "outputs": [],
   "source": [
    "# Example of predicting tv show ratings by using multiple tv show feature similarities\n",
    "\n",
    "# Splitting tv show dataset into 80% train data and 20% test data\n",
    "\n",
    "X = tv_shows['all_content']\n",
    "y = tv_shows['rating']\n",
    "\n",
    "X_train, X_test, y_train, y_test = train_test_split(X, y, test_size = 0.20)\n",
    "\n",
    "train_data.data = X_train\n",
    "train_data.target = y_train\n",
    "train_data.target_names = movie_rating_list\n",
    "\n",
    "test_data.data = X_test\n",
    "test_data.target = y_test"
   ]
  },
  {
   "cell_type": "code",
   "execution_count": 122,
   "id": "1bda9633",
   "metadata": {},
   "outputs": [],
   "source": [
    "count_vect = CountVectorizer()\n",
    "X_train_counts = count_vect.fit_transform(train_data.data)\n",
    "\n",
    "tfidf_transformer = TfidfTransformer()\n",
    "X_train_tfidf = tfidf_transformer.fit_transform(X_train_counts)"
   ]
  },
  {
   "cell_type": "code",
   "execution_count": 123,
   "id": "bad251d7",
   "metadata": {},
   "outputs": [
    {
     "name": "stderr",
     "output_type": "stream",
     "text": [
      "C:\\Python39\\lib\\site-packages\\sklearn\\model_selection\\_split.py:676: UserWarning: The least populated class in y has only 1 members, which is less than n_splits=5.\n",
      "  warnings.warn(\n"
     ]
    },
    {
     "data": {
      "text/plain": [
       "GridSearchCV(cv=5, estimator=KNeighborsClassifier(),\n",
       "             param_grid={'n_neighbors': array([ 1,  2,  3,  4,  5,  6,  7,  8,  9, 10, 11, 12, 13, 14, 15, 16, 17,\n",
       "       18, 19, 20, 21, 22, 23, 24, 25, 26, 27, 28, 29, 30, 31, 32, 33, 34,\n",
       "       35, 36, 37, 38, 39, 40, 41, 42, 43, 44, 45, 46, 47, 48, 49, 50, 51,\n",
       "       52, 53, 54, 55, 56, 57, 58, 59, 60, 61, 62, 63, 64, 65, 66, 67, 68,\n",
       "       69, 70, 71, 72, 73, 74, 75, 76, 77, 78, 79, 80, 81, 82, 83, 84, 85,\n",
       "       86, 87, 88, 89, 90, 91, 92, 93, 94, 95, 96, 97, 98, 99])})"
      ]
     },
     "execution_count": 123,
     "metadata": {},
     "output_type": "execute_result"
    }
   ],
   "source": [
    "# Create new a knn model\n",
    "knn2 = KNeighborsClassifier()\n",
    "\n",
    "# Create a dictionary of all values I want to test for n_neighbors\n",
    "param_grid = {'n_neighbors': np.arange(1, 100)}\n",
    "\n",
    "# Use gridsearch to test all values for n_neighbors\n",
    "knn_gscv = GridSearchCV(knn2, param_grid, cv=5)\n",
    "\n",
    "# Fit model to data\n",
    "knn_gscv.fit(X_train_tfidf, train_data.target)"
   ]
  },
  {
   "cell_type": "code",
   "execution_count": 124,
   "id": "3e7a9c88",
   "metadata": {},
   "outputs": [
    {
     "data": {
      "text/plain": [
       "{'n_neighbors': 30}"
      ]
     },
     "execution_count": 124,
     "metadata": {},
     "output_type": "execute_result"
    }
   ],
   "source": [
    "# Check top performing n_neighbors value\n",
    "knn_gscv.best_params_"
   ]
  },
  {
   "cell_type": "code",
   "execution_count": 125,
   "id": "0ab92411",
   "metadata": {},
   "outputs": [
    {
     "data": {
      "text/plain": [
       "0.5065073168855643"
      ]
     },
     "execution_count": 125,
     "metadata": {},
     "output_type": "execute_result"
    }
   ],
   "source": [
    "# Check mean score for the top performing value of n_neighbors\n",
    "knn_gscv.best_score_"
   ]
  },
  {
   "cell_type": "code",
   "execution_count": 126,
   "id": "7905943d",
   "metadata": {},
   "outputs": [
    {
     "data": {
      "text/plain": [
       "{'mean_fit_time': array([0.00379758, 0.0023921 , 0.00266356, 0.00239329, 0.002001  ,\n",
       "        0.00259438, 0.00190988, 0.00239997, 0.00219469, 0.00260329,\n",
       "        0.00240469, 0.00279388, 0.00199418, 0.00199389, 0.00200233,\n",
       "        0.00201287, 0.0019978 , 0.00221987, 0.00281339, 0.00280237,\n",
       "        0.00221386, 0.00200219, 0.00218825, 0.00220752, 0.00199528,\n",
       "        0.00210571, 0.00200038, 0.00260091, 0.00279341, 0.00200853,\n",
       "        0.00240812, 0.00199566, 0.00219383, 0.00199451, 0.00239325,\n",
       "        0.00239501, 0.00180049, 0.00210834, 0.00220709, 0.00199471,\n",
       "        0.00199494, 0.00219417, 0.00201125, 0.00219393, 0.00259748,\n",
       "        0.0022016 , 0.00220509, 0.00199528, 0.00260725, 0.00200438,\n",
       "        0.00232072, 0.00190883, 0.00220423, 0.00239363, 0.00199575,\n",
       "        0.00218725, 0.00218477, 0.00239425, 0.0022121 , 0.00203729,\n",
       "        0.00222507, 0.00204329, 0.00221477, 0.00200768, 0.00203419,\n",
       "        0.00200219, 0.00199618, 0.00218859, 0.00238752, 0.00214858,\n",
       "        0.00241966, 0.00199413, 0.00200787, 0.00201106, 0.002209  ,\n",
       "        0.00198989, 0.00240536, 0.00200653, 0.00201139, 0.0020021 ,\n",
       "        0.00221262, 0.0022017 , 0.00201693, 0.00200777, 0.00199728,\n",
       "        0.00218573, 0.00200005, 0.0023942 , 0.00199676, 0.00210466,\n",
       "        0.00201459, 0.00200219, 0.0020021 , 0.00199518, 0.00220947,\n",
       "        0.00200276, 0.00200701, 0.00199542, 0.00200553]),\n",
       " 'std_fit_time': array([1.17506753e-03, 4.89555671e-04, 9.06052567e-04, 4.89163473e-04,\n",
       "        1.29339827e-05, 4.85627537e-04, 1.66032932e-04, 7.95807009e-04,\n",
       "        3.98612432e-04, 8.16404692e-04, 4.80399179e-04, 7.46252295e-04,\n",
       "        2.22330918e-06, 2.82100667e-06, 1.24632500e-05, 3.02284672e-05,\n",
       "        4.48480494e-06, 3.86870050e-04, 7.51265597e-04, 7.54360333e-04,\n",
       "        3.96781514e-04, 1.24384140e-05, 4.02143591e-04, 4.22597506e-04,\n",
       "        3.52472660e-06, 2.19586747e-04, 1.62896953e-05, 4.80346379e-04,\n",
       "        7.47080326e-04, 1.54325899e-05, 4.86472054e-04, 3.23406696e-07,\n",
       "        3.98683790e-04, 1.13443158e-06, 4.88618761e-04, 4.89806623e-04,\n",
       "        3.87407006e-04, 4.80521086e-04, 3.94381155e-04, 1.64214853e-06,\n",
       "        1.93457248e-06, 3.99232804e-04, 1.00536906e-05, 3.97449850e-04,\n",
       "        1.19490320e-03, 3.95476832e-04, 3.94461832e-04, 6.10649513e-07,\n",
       "        4.89720318e-04, 1.06549367e-05, 3.97569037e-04, 1.68843412e-04,\n",
       "        3.94280768e-04, 4.88305268e-04, 1.50336101e-06, 4.02388438e-04,\n",
       "        4.04294550e-04, 4.88869850e-04, 3.90419153e-04, 6.34569759e-06,\n",
       "        4.98661851e-04, 1.53304444e-05, 3.88327633e-04, 1.57799242e-05,\n",
       "        5.69016796e-06, 1.42823674e-05, 1.92278339e-06, 3.85693166e-04,\n",
       "        7.86424643e-04, 2.78942581e-04, 7.89034153e-04, 1.20631319e-06,\n",
       "        1.77397522e-05, 2.04290083e-05, 3.91490143e-04, 1.33594421e-05,\n",
       "        8.03222977e-04, 1.91941024e-05, 1.80069016e-05, 1.35589549e-05,\n",
       "        3.90526098e-04, 3.95457893e-04, 2.12498241e-05, 2.62478824e-05,\n",
       "        4.54973619e-06, 3.80683076e-04, 1.38983104e-05, 4.87839161e-04,\n",
       "        4.27295052e-06, 1.78463058e-04, 2.94349535e-05, 1.56286243e-05,\n",
       "        1.36774985e-05, 6.84390073e-07, 3.91487471e-04, 1.43300475e-05,\n",
       "        1.67911690e-05, 2.60127672e-06, 2.81981354e-05]),\n",
       " 'mean_score_time': array([0.03208199, 0.03031206, 0.02646441, 0.02712722, 0.02691607,\n",
       "        0.03165455, 0.02560592, 0.03107343, 0.02721071, 0.03163691,\n",
       "        0.03195319, 0.03170686, 0.02892923, 0.02572432, 0.0265574 ,\n",
       "        0.02599587, 0.02647228, 0.0267364 , 0.0304915 , 0.03277979,\n",
       "        0.0260314 , 0.0271903 , 0.02757325, 0.02671094, 0.02703805,\n",
       "        0.03253188, 0.02983541, 0.03158875, 0.03457227, 0.0288353 ,\n",
       "        0.03454981, 0.02712607, 0.0341938 , 0.02666526, 0.03153758,\n",
       "        0.03302217, 0.02818866, 0.02993455, 0.0292552 , 0.02706723,\n",
       "        0.02941861, 0.03092341, 0.02864118, 0.02705231, 0.03523951,\n",
       "        0.02841873, 0.02840595, 0.02806153, 0.03186398, 0.02991524,\n",
       "        0.02714934, 0.02777286, 0.03077426, 0.03077202, 0.02756824,\n",
       "        0.03213243, 0.02898011, 0.03019352, 0.02842665, 0.02794814,\n",
       "        0.02748775, 0.02801642, 0.02958331, 0.02877769, 0.02803502,\n",
       "        0.02783837, 0.02784314, 0.02923412, 0.03024368, 0.02956572,\n",
       "        0.03025723, 0.02845416, 0.02788453, 0.02866354, 0.03248329,\n",
       "        0.02879958, 0.03134136, 0.02824507, 0.02825007, 0.02824454,\n",
       "        0.03168206, 0.02923346, 0.02864676, 0.02863736, 0.03192425,\n",
       "        0.0307261 , 0.03057899, 0.03192921, 0.02844601, 0.02884607,\n",
       "        0.02883615, 0.02897897, 0.0292253 , 0.03022609, 0.03166637,\n",
       "        0.02927132, 0.02904124, 0.02943535, 0.029527  ]),\n",
       " 'std_score_time': array([6.63369784e-03, 5.14873719e-03, 2.88356765e-03, 2.03347622e-03,\n",
       "        1.98581412e-03, 3.06501783e-03, 3.74420449e-04, 5.83341683e-03,\n",
       "        1.13964912e-03, 6.80569751e-03, 6.97856273e-03, 3.74467102e-03,\n",
       "        3.02488674e-03, 7.34129042e-04, 8.08558758e-04, 6.06092884e-04,\n",
       "        4.76928640e-04, 5.74001186e-04, 5.96212752e-03, 7.31473494e-04,\n",
       "        2.74438737e-05, 1.22257244e-03, 1.24192675e-03, 4.33662971e-04,\n",
       "        1.52691828e-03, 4.73296728e-03, 4.69331873e-03, 3.73932818e-03,\n",
       "        3.27671311e-03, 4.64425212e-03, 2.84247507e-03, 3.98994272e-04,\n",
       "        2.68973586e-03, 4.86814342e-04, 3.40121193e-03, 4.65786482e-03,\n",
       "        1.56321327e-03, 2.17164101e-03, 2.76933703e-03, 6.27627142e-04,\n",
       "        2.65901801e-03, 2.09099899e-03, 2.73020842e-03, 2.46237342e-05,\n",
       "        7.98640012e-03, 2.23095827e-03, 1.95612880e-03, 2.53386824e-04,\n",
       "        1.75399154e-03, 2.42936398e-03, 6.74820657e-04, 6.15940257e-04,\n",
       "        2.27986859e-03, 2.21429456e-03, 6.39459939e-04, 4.37205859e-03,\n",
       "        1.06683982e-03, 1.68443216e-03, 1.33191762e-03, 1.33034918e-04,\n",
       "        4.65964505e-04, 3.30505600e-05, 1.92184877e-03, 1.44659306e-03,\n",
       "        2.03440214e-05, 4.05708696e-04, 4.14245392e-04, 2.45727616e-03,\n",
       "        1.82441087e-03, 2.78296573e-03, 3.04268515e-03, 4.92286751e-04,\n",
       "        4.05797902e-04, 8.71014417e-04, 1.13295669e-03, 1.39283080e-03,\n",
       "        3.27934293e-03, 4.07545067e-04, 4.10230481e-04, 3.61669980e-04,\n",
       "        1.46816104e-03, 1.42598397e-03, 4.90415447e-04, 4.47215817e-04,\n",
       "        1.09424419e-03, 7.60676225e-04, 2.03504590e-03, 1.61166938e-03,\n",
       "        5.10297760e-04, 4.09019963e-04, 4.11518883e-04, 6.24722459e-04,\n",
       "        4.36619099e-04, 1.46985323e-03, 2.59993809e-03, 3.96822880e-04,\n",
       "        4.22627851e-05, 4.90762633e-04, 6.33707064e-04]),\n",
       " 'param_n_neighbors': masked_array(data=[1, 2, 3, 4, 5, 6, 7, 8, 9, 10, 11, 12, 13, 14, 15, 16,\n",
       "                    17, 18, 19, 20, 21, 22, 23, 24, 25, 26, 27, 28, 29, 30,\n",
       "                    31, 32, 33, 34, 35, 36, 37, 38, 39, 40, 41, 42, 43, 44,\n",
       "                    45, 46, 47, 48, 49, 50, 51, 52, 53, 54, 55, 56, 57, 58,\n",
       "                    59, 60, 61, 62, 63, 64, 65, 66, 67, 68, 69, 70, 71, 72,\n",
       "                    73, 74, 75, 76, 77, 78, 79, 80, 81, 82, 83, 84, 85, 86,\n",
       "                    87, 88, 89, 90, 91, 92, 93, 94, 95, 96, 97, 98, 99],\n",
       "              mask=[False, False, False, False, False, False, False, False,\n",
       "                    False, False, False, False, False, False, False, False,\n",
       "                    False, False, False, False, False, False, False, False,\n",
       "                    False, False, False, False, False, False, False, False,\n",
       "                    False, False, False, False, False, False, False, False,\n",
       "                    False, False, False, False, False, False, False, False,\n",
       "                    False, False, False, False, False, False, False, False,\n",
       "                    False, False, False, False, False, False, False, False,\n",
       "                    False, False, False, False, False, False, False, False,\n",
       "                    False, False, False, False, False, False, False, False,\n",
       "                    False, False, False, False, False, False, False, False,\n",
       "                    False, False, False, False, False, False, False, False,\n",
       "                    False, False, False],\n",
       "        fill_value='?',\n",
       "             dtype=object),\n",
       " 'params': [{'n_neighbors': 1},\n",
       "  {'n_neighbors': 2},\n",
       "  {'n_neighbors': 3},\n",
       "  {'n_neighbors': 4},\n",
       "  {'n_neighbors': 5},\n",
       "  {'n_neighbors': 6},\n",
       "  {'n_neighbors': 7},\n",
       "  {'n_neighbors': 8},\n",
       "  {'n_neighbors': 9},\n",
       "  {'n_neighbors': 10},\n",
       "  {'n_neighbors': 11},\n",
       "  {'n_neighbors': 12},\n",
       "  {'n_neighbors': 13},\n",
       "  {'n_neighbors': 14},\n",
       "  {'n_neighbors': 15},\n",
       "  {'n_neighbors': 16},\n",
       "  {'n_neighbors': 17},\n",
       "  {'n_neighbors': 18},\n",
       "  {'n_neighbors': 19},\n",
       "  {'n_neighbors': 20},\n",
       "  {'n_neighbors': 21},\n",
       "  {'n_neighbors': 22},\n",
       "  {'n_neighbors': 23},\n",
       "  {'n_neighbors': 24},\n",
       "  {'n_neighbors': 25},\n",
       "  {'n_neighbors': 26},\n",
       "  {'n_neighbors': 27},\n",
       "  {'n_neighbors': 28},\n",
       "  {'n_neighbors': 29},\n",
       "  {'n_neighbors': 30},\n",
       "  {'n_neighbors': 31},\n",
       "  {'n_neighbors': 32},\n",
       "  {'n_neighbors': 33},\n",
       "  {'n_neighbors': 34},\n",
       "  {'n_neighbors': 35},\n",
       "  {'n_neighbors': 36},\n",
       "  {'n_neighbors': 37},\n",
       "  {'n_neighbors': 38},\n",
       "  {'n_neighbors': 39},\n",
       "  {'n_neighbors': 40},\n",
       "  {'n_neighbors': 41},\n",
       "  {'n_neighbors': 42},\n",
       "  {'n_neighbors': 43},\n",
       "  {'n_neighbors': 44},\n",
       "  {'n_neighbors': 45},\n",
       "  {'n_neighbors': 46},\n",
       "  {'n_neighbors': 47},\n",
       "  {'n_neighbors': 48},\n",
       "  {'n_neighbors': 49},\n",
       "  {'n_neighbors': 50},\n",
       "  {'n_neighbors': 51},\n",
       "  {'n_neighbors': 52},\n",
       "  {'n_neighbors': 53},\n",
       "  {'n_neighbors': 54},\n",
       "  {'n_neighbors': 55},\n",
       "  {'n_neighbors': 56},\n",
       "  {'n_neighbors': 57},\n",
       "  {'n_neighbors': 58},\n",
       "  {'n_neighbors': 59},\n",
       "  {'n_neighbors': 60},\n",
       "  {'n_neighbors': 61},\n",
       "  {'n_neighbors': 62},\n",
       "  {'n_neighbors': 63},\n",
       "  {'n_neighbors': 64},\n",
       "  {'n_neighbors': 65},\n",
       "  {'n_neighbors': 66},\n",
       "  {'n_neighbors': 67},\n",
       "  {'n_neighbors': 68},\n",
       "  {'n_neighbors': 69},\n",
       "  {'n_neighbors': 70},\n",
       "  {'n_neighbors': 71},\n",
       "  {'n_neighbors': 72},\n",
       "  {'n_neighbors': 73},\n",
       "  {'n_neighbors': 74},\n",
       "  {'n_neighbors': 75},\n",
       "  {'n_neighbors': 76},\n",
       "  {'n_neighbors': 77},\n",
       "  {'n_neighbors': 78},\n",
       "  {'n_neighbors': 79},\n",
       "  {'n_neighbors': 80},\n",
       "  {'n_neighbors': 81},\n",
       "  {'n_neighbors': 82},\n",
       "  {'n_neighbors': 83},\n",
       "  {'n_neighbors': 84},\n",
       "  {'n_neighbors': 85},\n",
       "  {'n_neighbors': 86},\n",
       "  {'n_neighbors': 87},\n",
       "  {'n_neighbors': 88},\n",
       "  {'n_neighbors': 89},\n",
       "  {'n_neighbors': 90},\n",
       "  {'n_neighbors': 91},\n",
       "  {'n_neighbors': 92},\n",
       "  {'n_neighbors': 93},\n",
       "  {'n_neighbors': 94},\n",
       "  {'n_neighbors': 95},\n",
       "  {'n_neighbors': 96},\n",
       "  {'n_neighbors': 97},\n",
       "  {'n_neighbors': 98},\n",
       "  {'n_neighbors': 99}],\n",
       " 'split0_test_score': array([0.48606811, 0.46749226, 0.49535604, 0.50773994, 0.49226006,\n",
       "        0.48916409, 0.51083591, 0.49535604, 0.49226006, 0.49845201,\n",
       "        0.52321981, 0.50154799, 0.52941176, 0.51393189, 0.50464396,\n",
       "        0.52631579, 0.53250774, 0.54179567, 0.53250774, 0.51083591,\n",
       "        0.48916409, 0.48916409, 0.51083591, 0.51702786, 0.50464396,\n",
       "        0.51083591, 0.52012384, 0.52631579, 0.52012384, 0.52941176,\n",
       "        0.51702786, 0.52321981, 0.51393189, 0.50773994, 0.49535604,\n",
       "        0.48916409, 0.49226006, 0.49226006, 0.47987616, 0.48916409,\n",
       "        0.48916409, 0.48606811, 0.49845201, 0.50464396, 0.50464396,\n",
       "        0.50464396, 0.49226006, 0.49535604, 0.48916409, 0.48916409,\n",
       "        0.51393189, 0.50773994, 0.50464396, 0.49845201, 0.50154799,\n",
       "        0.50154799, 0.49845201, 0.50464396, 0.50154799, 0.49845201,\n",
       "        0.50464396, 0.51083591, 0.50773994, 0.50773994, 0.51083591,\n",
       "        0.50773994, 0.51083591, 0.50464396, 0.52321981, 0.52012384,\n",
       "        0.51702786, 0.52012384, 0.51393189, 0.52012384, 0.52012384,\n",
       "        0.52941176, 0.52631579, 0.51393189, 0.51393189, 0.51702786,\n",
       "        0.51702786, 0.51083591, 0.51702786, 0.51702786, 0.50773994,\n",
       "        0.50464396, 0.51083591, 0.50464396, 0.51393189, 0.51083591,\n",
       "        0.50773994, 0.49845201, 0.50154799, 0.49845201, 0.50154799,\n",
       "        0.50773994, 0.49226006, 0.49226006, 0.49226006]),\n",
       " 'split1_test_score': array([0.45201238, 0.43343653, 0.44891641, 0.43034056, 0.47058824,\n",
       "        0.45510836, 0.47987616, 0.49845201, 0.50464396, 0.50773994,\n",
       "        0.49535604, 0.49226006, 0.49845201, 0.50154799, 0.49845201,\n",
       "        0.49535604, 0.48916409, 0.49845201, 0.49226006, 0.50464396,\n",
       "        0.50154799, 0.50154799, 0.49845201, 0.50154799, 0.49845201,\n",
       "        0.49845201, 0.49845201, 0.49845201, 0.49845201, 0.50464396,\n",
       "        0.49845201, 0.48606811, 0.48606811, 0.48606811, 0.48606811,\n",
       "        0.48606811, 0.48297214, 0.47678019, 0.47368421, 0.48297214,\n",
       "        0.47678019, 0.49226006, 0.48916409, 0.49845201, 0.48916409,\n",
       "        0.49535604, 0.48916409, 0.49226006, 0.49535604, 0.49845201,\n",
       "        0.48606811, 0.48916409, 0.49535604, 0.50464396, 0.49845201,\n",
       "        0.49226006, 0.48916409, 0.47058824, 0.47678019, 0.47678019,\n",
       "        0.47368421, 0.47368421, 0.47987616, 0.48297214, 0.48297214,\n",
       "        0.48297214, 0.48606811, 0.47368421, 0.47987616, 0.48916409,\n",
       "        0.47987616, 0.48916409, 0.48297214, 0.47678019, 0.45820433,\n",
       "        0.48297214, 0.47678019, 0.47368421, 0.48606811, 0.47987616,\n",
       "        0.47987616, 0.47987616, 0.47678019, 0.47058824, 0.47678019,\n",
       "        0.47678019, 0.47678019, 0.47058824, 0.46749226, 0.47058824,\n",
       "        0.46749226, 0.47678019, 0.47058824, 0.46749226, 0.47058824,\n",
       "        0.46439628, 0.46439628, 0.46439628, 0.45820433]),\n",
       " 'split2_test_score': array([0.44582043, 0.44582043, 0.47368421, 0.44582043, 0.43034056,\n",
       "        0.41795666, 0.43343653, 0.45510836, 0.45510836, 0.44272446,\n",
       "        0.43962848, 0.43962848, 0.43962848, 0.44891641, 0.43962848,\n",
       "        0.45820433, 0.45820433, 0.45510836, 0.47678019, 0.44582043,\n",
       "        0.45510836, 0.46439628, 0.46749226, 0.45820433, 0.45201238,\n",
       "        0.46130031, 0.46749226, 0.47368421, 0.47987616, 0.48916409,\n",
       "        0.48916409, 0.49535604, 0.49845201, 0.50154799, 0.49226006,\n",
       "        0.50154799, 0.49535604, 0.48297214, 0.47987616, 0.48606811,\n",
       "        0.47678019, 0.49226006, 0.48606811, 0.49535604, 0.47987616,\n",
       "        0.48297214, 0.48916409, 0.48297214, 0.48297214, 0.48916409,\n",
       "        0.50154799, 0.48916409, 0.48916409, 0.49226006, 0.49535604,\n",
       "        0.48916409, 0.48297214, 0.47987616, 0.47368421, 0.47678019,\n",
       "        0.48297214, 0.47678019, 0.47368421, 0.47678019, 0.47678019,\n",
       "        0.47987616, 0.47987616, 0.47987616, 0.47678019, 0.47368421,\n",
       "        0.49226006, 0.48606811, 0.48606811, 0.49535604, 0.48916409,\n",
       "        0.48606811, 0.48916409, 0.48606811, 0.49226006, 0.49226006,\n",
       "        0.48297214, 0.48916409, 0.48297214, 0.48297214, 0.48606811,\n",
       "        0.47987616, 0.48297214, 0.48606811, 0.47678019, 0.47678019,\n",
       "        0.47678019, 0.47678019, 0.46439628, 0.45820433, 0.45820433,\n",
       "        0.47058824, 0.46439628, 0.45510836, 0.46130031]),\n",
       " 'split3_test_score': array([0.50621118, 0.45341615, 0.48136646, 0.50310559, 0.50621118,\n",
       "        0.50310559, 0.49378882, 0.49689441, 0.50931677, 0.52484472,\n",
       "        0.54658385, 0.52484472, 0.54347826, 0.53416149, 0.53726708,\n",
       "        0.54968944, 0.5621118 , 0.56521739, 0.54658385, 0.55900621,\n",
       "        0.54658385, 0.54658385, 0.53416149, 0.54347826, 0.53416149,\n",
       "        0.54658385, 0.54037267, 0.54968944, 0.53726708, 0.5310559 ,\n",
       "        0.52173913, 0.52795031, 0.52173913, 0.52795031, 0.52484472,\n",
       "        0.51863354, 0.51863354, 0.50621118, 0.51552795, 0.52484472,\n",
       "        0.52173913, 0.53416149, 0.53416149, 0.54347826, 0.5310559 ,\n",
       "        0.53726708, 0.54347826, 0.5310559 , 0.53726708, 0.53726708,\n",
       "        0.52795031, 0.53726708, 0.54658385, 0.54037267, 0.54037267,\n",
       "        0.54658385, 0.5310559 , 0.5310559 , 0.54037267, 0.53416149,\n",
       "        0.53726708, 0.53726708, 0.53416149, 0.5310559 , 0.5310559 ,\n",
       "        0.54037267, 0.53726708, 0.53416149, 0.53416149, 0.53416149,\n",
       "        0.53726708, 0.53416149, 0.53416149, 0.54347826, 0.54347826,\n",
       "        0.54037267, 0.54037267, 0.54037267, 0.5310559 , 0.53726708,\n",
       "        0.5310559 , 0.5310559 , 0.5310559 , 0.5310559 , 0.53416149,\n",
       "        0.53416149, 0.53726708, 0.54037267, 0.54658385, 0.54037267,\n",
       "        0.54347826, 0.53726708, 0.53726708, 0.53726708, 0.5310559 ,\n",
       "        0.53416149, 0.53726708, 0.53416149, 0.53726708]),\n",
       " 'split4_test_score': array([0.43167702, 0.44409938, 0.48447205, 0.50621118, 0.51552795,\n",
       "        0.47204969, 0.50621118, 0.47515528, 0.48136646, 0.47515528,\n",
       "        0.46583851, 0.45962733, 0.47826087, 0.47826087, 0.45962733,\n",
       "        0.45962733, 0.46273292, 0.46583851, 0.47515528, 0.49689441,\n",
       "        0.49378882, 0.48757764, 0.46583851, 0.48136646, 0.48447205,\n",
       "        0.4689441 , 0.48447205, 0.47515528, 0.47204969, 0.47826087,\n",
       "        0.49068323, 0.48136646, 0.48447205, 0.48136646, 0.47204969,\n",
       "        0.49068323, 0.47515528, 0.48447205, 0.49378882, 0.49689441,\n",
       "        0.48447205, 0.46273292, 0.47204969, 0.47204969, 0.45962733,\n",
       "        0.45962733, 0.45341615, 0.45962733, 0.46273292, 0.47515528,\n",
       "        0.47204969, 0.46583851, 0.47515528, 0.47826087, 0.4689441 ,\n",
       "        0.46273292, 0.45341615, 0.45031056, 0.45652174, 0.45652174,\n",
       "        0.45652174, 0.45962733, 0.45652174, 0.45962733, 0.45652174,\n",
       "        0.45652174, 0.45341615, 0.45031056, 0.45341615, 0.45962733,\n",
       "        0.45962733, 0.46273292, 0.4689441 , 0.4689441 , 0.45652174,\n",
       "        0.45962733, 0.45962733, 0.46583851, 0.46273292, 0.45962733,\n",
       "        0.46273292, 0.46583851, 0.46273292, 0.46583851, 0.45962733,\n",
       "        0.45962733, 0.45652174, 0.45962733, 0.45652174, 0.45652174,\n",
       "        0.46273292, 0.46273292, 0.46273292, 0.45962733, 0.46273292,\n",
       "        0.46273292, 0.45962733, 0.45962733, 0.45962733]),\n",
       " 'mean_test_score': array([0.46435783, 0.44885295, 0.47675903, 0.47864354, 0.4829856 ,\n",
       "        0.46747688, 0.48482972, 0.48419322, 0.48853912, 0.48978328,\n",
       "        0.49412534, 0.48358172, 0.49784628, 0.49536373, 0.48792377,\n",
       "        0.49783859, 0.50094418, 0.50528239, 0.50465742, 0.50344019,\n",
       "        0.49723862, 0.49785397, 0.49535604, 0.50032498, 0.49474838,\n",
       "        0.49722324, 0.50218257, 0.50465935, 0.50155376, 0.50650732,\n",
       "        0.50341326, 0.50279215, 0.50093264, 0.50093456, 0.49411572,\n",
       "        0.49721939, 0.49287541, 0.48853912, 0.48855066, 0.49598869,\n",
       "        0.48978713, 0.49349653, 0.49597908, 0.50279599, 0.49287349,\n",
       "        0.49597331, 0.49349653, 0.49225429, 0.49349845, 0.49784051,\n",
       "        0.5003096 , 0.49783474, 0.50218064, 0.50279792, 0.50093456,\n",
       "        0.49845778, 0.49101206, 0.48729496, 0.48978136, 0.48853912,\n",
       "        0.49101783, 0.49163894, 0.49039671, 0.4916351 , 0.49163318,\n",
       "        0.49349653, 0.49349268, 0.48853528, 0.49349076, 0.49535219,\n",
       "        0.4972117 , 0.49845009, 0.49721555, 0.50093648, 0.49349845,\n",
       "        0.4996904 , 0.49845201, 0.49597908, 0.49720978, 0.4972117 ,\n",
       "        0.494733  , 0.49535411, 0.4941138 , 0.49349653, 0.49287541,\n",
       "        0.49101783, 0.49287541, 0.49226006, 0.49226198, 0.49101975,\n",
       "        0.49164471, 0.49040248, 0.4873065 , 0.4842086 , 0.48482588,\n",
       "        0.48792377, 0.48358941, 0.48111071, 0.48173182]),\n",
       " 'std_test_score': array([0.02752134, 0.01129341, 0.01556428, 0.03351269, 0.03036328,\n",
       "        0.02954956, 0.02785517, 0.01683363, 0.01935967, 0.02847948,\n",
       "        0.03839258, 0.03035271, 0.03701871, 0.02945556, 0.03452041,\n",
       "        0.03615688, 0.04040619, 0.04253312, 0.02944377, 0.03607385,\n",
       "        0.02934478, 0.02716167, 0.02608735, 0.0292447 , 0.02682164,\n",
       "        0.03070326, 0.02573469, 0.02954722, 0.02437342, 0.02111572,\n",
       "        0.01349742, 0.01920558, 0.01483205, 0.01661603, 0.01732586,\n",
       "        0.01191019, 0.01471116, 0.01011881, 0.01501145, 0.01515199,\n",
       "        0.01666091, 0.02305766, 0.02088683, 0.02314312, 0.02401848,\n",
       "        0.02557654, 0.02878777, 0.02309053, 0.0244755 , 0.02107135,\n",
       "        0.01976133, 0.02377874, 0.02418301, 0.02072327, 0.02287537,\n",
       "        0.02730098, 0.0250614 , 0.02799288, 0.02909394, 0.02638683,\n",
       "        0.02785618, 0.02834907, 0.02739944, 0.02503429, 0.02627293,\n",
       "        0.02850845, 0.02850841, 0.02862832, 0.03035951, 0.02794228,\n",
       "        0.02733034, 0.02553552, 0.02354083, 0.02762657, 0.03417201,\n",
       "        0.03035959, 0.03032168, 0.02755662, 0.02350523, 0.02733034,\n",
       "        0.0252961 , 0.02307968, 0.02568705, 0.02594205, 0.02583147,\n",
       "        0.0259201 , 0.02818482, 0.02842917, 0.03331979, 0.03045888,\n",
       "        0.03028518, 0.02606846, 0.02866049, 0.0302588 , 0.02762738,\n",
       "        0.02835225, 0.0292144 , 0.02951516, 0.030511  ]),\n",
       " 'rank_test_score': array([98, 99, 96, 95, 92, 97, 86, 89, 78, 75, 46, 91, 25, 40, 82, 27, 13,\n",
       "         2,  4,  5, 29, 24, 41, 18, 44, 30, 10,  3, 12,  1,  6,  9, 17, 15,\n",
       "        47, 31, 57, 78, 77, 36, 74, 51, 38,  8, 60, 39, 51, 63, 49, 26, 19,\n",
       "        28, 11,  7, 15, 21, 71, 85, 76, 80, 70, 65, 73, 66, 67, 51, 55, 81,\n",
       "        56, 43, 33, 23, 32, 14, 49, 20, 22, 37, 35, 33, 45, 42, 48, 51, 57,\n",
       "        69, 59, 62, 61, 68, 64, 72, 84, 88, 87, 82, 90, 94, 93])}"
      ]
     },
     "execution_count": 126,
     "metadata": {},
     "output_type": "execute_result"
    }
   ],
   "source": [
    "# Check results for each value of n_neighbors\n",
    "knn_gscv.cv_results_"
   ]
  },
  {
   "cell_type": "code",
   "execution_count": 127,
   "id": "c5c690cb",
   "metadata": {},
   "outputs": [
    {
     "name": "stderr",
     "output_type": "stream",
     "text": [
      "No artists with labels found to put in legend.  Note that artists whose label start with an underscore are ignored when legend() is called with no argument.\n"
     ]
    },
    {
     "data": {
      "image/png": "[encoded data removed]",
      "text/plain": [
       "<Figure size 504x504 with 1 Axes>"
      ]
     },
     "metadata": {},
     "output_type": "display_data"
    }
   ],
   "source": [
    "# Plot the graph of n_neighbor values and cv results (KNN Model)\n",
    "plot_grid_search_knn(knn_gscv.cv_results_, np.arange(1, 100), 'k')"
   ]
  },
  {
   "cell_type": "code",
   "execution_count": 128,
   "id": "b23ab290",
   "metadata": {},
   "outputs": [],
   "source": [
    "# KNN implementation example with the top performing n_neighbors value\n",
    "knn = KNeighborsClassifier(n_neighbors=knn_gscv.best_params_.get('n_neighbors'))\n",
    "\n",
    "# Training the classifier ; train_data.target will be having numbers assigned for each category in train data\n",
    "clf = knn.fit(X_train_tfidf, train_data.target)\n",
    "\n",
    "# Input Data to predict their classes of the given categories\n",
    "# building up feature vector of the input\n",
    "X_new_counts = count_vect.transform(test_data.data)\n",
    "\n",
    "# I call transform instead of fit_transform because it's already been fit\n",
    "X_new_tfidf = tfidf_transformer.transform(X_new_counts)"
   ]
  },
  {
   "cell_type": "code",
   "execution_count": 129,
   "id": "10094cbf",
   "metadata": {},
   "outputs": [
    {
     "name": "stderr",
     "output_type": "stream",
     "text": [
      "C:\\Python39\\lib\\site-packages\\sklearn\\model_selection\\_split.py:676: UserWarning: The least populated class in y has only 1 members, which is less than n_splits=5.\n",
      "  warnings.warn(\n",
      "C:\\Python39\\lib\\site-packages\\sklearn\\naive_bayes.py:555: UserWarning: alpha too small will result in numeric errors, setting alpha = 1.0e-10\n",
      "  warnings.warn(\n",
      "C:\\Python39\\lib\\site-packages\\sklearn\\naive_bayes.py:555: UserWarning: alpha too small will result in numeric errors, setting alpha = 1.0e-10\n",
      "  warnings.warn(\n",
      "C:\\Python39\\lib\\site-packages\\sklearn\\naive_bayes.py:555: UserWarning: alpha too small will result in numeric errors, setting alpha = 1.0e-10\n",
      "  warnings.warn(\n",
      "C:\\Python39\\lib\\site-packages\\sklearn\\naive_bayes.py:555: UserWarning: alpha too small will result in numeric errors, setting alpha = 1.0e-10\n",
      "  warnings.warn(\n",
      "C:\\Python39\\lib\\site-packages\\sklearn\\naive_bayes.py:555: UserWarning: alpha too small will result in numeric errors, setting alpha = 1.0e-10\n",
      "  warnings.warn(\n",
      "C:\\Python39\\lib\\site-packages\\sklearn\\naive_bayes.py:555: UserWarning: alpha too small will result in numeric errors, setting alpha = 1.0e-10\n",
      "  warnings.warn(\n",
      "C:\\Python39\\lib\\site-packages\\sklearn\\naive_bayes.py:555: UserWarning: alpha too small will result in numeric errors, setting alpha = 1.0e-10\n",
      "  warnings.warn(\n",
      "C:\\Python39\\lib\\site-packages\\sklearn\\naive_bayes.py:555: UserWarning: alpha too small will result in numeric errors, setting alpha = 1.0e-10\n",
      "  warnings.warn(\n",
      "C:\\Python39\\lib\\site-packages\\sklearn\\naive_bayes.py:555: UserWarning: alpha too small will result in numeric errors, setting alpha = 1.0e-10\n",
      "  warnings.warn(\n",
      "C:\\Python39\\lib\\site-packages\\sklearn\\naive_bayes.py:555: UserWarning: alpha too small will result in numeric errors, setting alpha = 1.0e-10\n",
      "  warnings.warn(\n"
     ]
    },
    {
     "data": {
      "text/plain": [
       "GridSearchCV(cv=5, estimator=MultinomialNB(),\n",
       "             param_grid={'alpha': [0.0, 1.0, 2.0, 3.0],\n",
       "                         'fit_prior': [True, False]})"
      ]
     },
     "execution_count": 129,
     "metadata": {},
     "output_type": "execute_result"
    }
   ],
   "source": [
    "# Create new a Naive Bayes model\n",
    "naive_bayes_classifier2 = MultinomialNB()\n",
    "\n",
    "# Create a dictionary of all values I want to test for fit_prior and alpha\n",
    "param_grid = {'fit_prior': [True, False], 'alpha': [0.0, 1.0, 2.0, 3.0]}\n",
    "\n",
    "# Use gridsearch to test all values for fit_prior and alpha\n",
    "nbc_gscv = GridSearchCV(naive_bayes_classifier2, param_grid, cv=5)\n",
    "\n",
    "# Fit model to data\n",
    "nbc_gscv.fit(X_train_tfidf, train_data.target)"
   ]
  },
  {
   "cell_type": "code",
   "execution_count": 130,
   "id": "b1914fae",
   "metadata": {},
   "outputs": [
    {
     "data": {
      "text/plain": [
       "{'alpha': 1.0, 'fit_prior': False}"
      ]
     },
     "execution_count": 130,
     "metadata": {},
     "output_type": "execute_result"
    }
   ],
   "source": [
    "# Check top performing fit_prior and alpha values\n",
    "nbc_gscv.best_params_"
   ]
  },
  {
   "cell_type": "code",
   "execution_count": 131,
   "id": "26894f1f",
   "metadata": {},
   "outputs": [
    {
     "data": {
      "text/plain": [
       "0.5238678537776666"
      ]
     },
     "execution_count": 131,
     "metadata": {},
     "output_type": "execute_result"
    }
   ],
   "source": [
    "# Check mean score for the top performing values of fit_prior and alpha\n",
    "nbc_gscv.best_score_"
   ]
  },
  {
   "cell_type": "code",
   "execution_count": 132,
   "id": "5528b830",
   "metadata": {},
   "outputs": [
    {
     "data": {
      "text/plain": [
       "{'mean_fit_time': array([0.01077108, 0.00658164, 0.00629163, 0.00618262, 0.00618305,\n",
       "        0.00598345, 0.00657024, 0.00837712]),\n",
       " 'std_fit_time': array([0.00291939, 0.00101739, 0.00058576, 0.00039926, 0.00074555,\n",
       "        0.00089228, 0.00047991, 0.00119617]),\n",
       " 'mean_score_time': array([0.00139661, 0.00119743, 0.00119677, 0.00119743, 0.00119772,\n",
       "        0.00100961, 0.00120821, 0.00099916]),\n",
       " 'std_score_time': array([4.88266288e-04, 3.99185491e-04, 3.99880019e-04, 3.99184352e-04,\n",
       "        4.00233961e-04, 2.42595327e-05, 4.19783629e-04, 5.51978917e-07]),\n",
       " 'param_alpha': masked_array(data=[0.0, 0.0, 1.0, 1.0, 2.0, 2.0, 3.0, 3.0],\n",
       "              mask=[False, False, False, False, False, False, False, False],\n",
       "        fill_value='?',\n",
       "             dtype=object),\n",
       " 'param_fit_prior': masked_array(data=[True, False, True, False, True, False, True, False],\n",
       "              mask=[False, False, False, False, False, False, False, False],\n",
       "        fill_value='?',\n",
       "             dtype=object),\n",
       " 'params': [{'alpha': 0.0, 'fit_prior': True},\n",
       "  {'alpha': 0.0, 'fit_prior': False},\n",
       "  {'alpha': 1.0, 'fit_prior': True},\n",
       "  {'alpha': 1.0, 'fit_prior': False},\n",
       "  {'alpha': 2.0, 'fit_prior': True},\n",
       "  {'alpha': 2.0, 'fit_prior': False},\n",
       "  {'alpha': 3.0, 'fit_prior': True},\n",
       "  {'alpha': 3.0, 'fit_prior': False}],\n",
       " 'split0_test_score': array([0.47678019, 0.46130031, 0.48297214, 0.54179567, 0.46439628,\n",
       "        0.54179567, 0.44891641, 0.53560372]),\n",
       " 'split1_test_score': array([0.51702786, 0.48606811, 0.45201238, 0.52012384, 0.44582043,\n",
       "        0.50464396, 0.43653251, 0.49845201]),\n",
       " 'split2_test_score': array([0.47058824, 0.44582043, 0.46749226, 0.51083591, 0.45510836,\n",
       "        0.51702786, 0.44891641, 0.51083591]),\n",
       " 'split3_test_score': array([0.50931677, 0.49689441, 0.49378882, 0.5621118 , 0.47204969,\n",
       "        0.53726708, 0.45031056, 0.55279503]),\n",
       " 'split4_test_score': array([0.48136646, 0.45341615, 0.4689441 , 0.48447205, 0.45341615,\n",
       "        0.49378882, 0.44409938, 0.5       ]),\n",
       " 'mean_test_score': array([0.4910159 , 0.46869988, 0.47304194, 0.52386785, 0.45815818,\n",
       "        0.51890468, 0.44575505, 0.51953733]),\n",
       " 'std_test_score': array([0.01857203, 0.01953664, 0.01427498, 0.02653256, 0.00912027,\n",
       "        0.01843297, 0.00507026, 0.02128951]),\n",
       " 'rank_test_score': array([4, 6, 5, 1, 7, 3, 8, 2])}"
      ]
     },
     "execution_count": 132,
     "metadata": {},
     "output_type": "execute_result"
    }
   ],
   "source": [
    "# Check results for each value of fit_prior and alpha\n",
    "nbc_gscv.cv_results_"
   ]
  },
  {
   "cell_type": "code",
   "execution_count": 133,
   "id": "b706e81d",
   "metadata": {},
   "outputs": [
    {
     "data": {
      "image/png": "[encoded data removed]",
      "text/plain": [
       "<Figure size 504x504 with 1 Axes>"
      ]
     },
     "metadata": {},
     "output_type": "display_data"
    }
   ],
   "source": [
    "# Plot the graph of fit_prior and alpha values and cv results (Naive Bayes Model)\n",
    "plot_grid_search_nb(nbc_gscv.cv_results_, [0.0, 1.0, 2.0, 3.0], [True, False], 'alpha', 'fit_prior')"
   ]
  },
  {
   "cell_type": "code",
   "execution_count": 134,
   "id": "a5cd027d",
   "metadata": {},
   "outputs": [
    {
     "data": {
      "text/plain": [
       "MultinomialNB(fit_prior=False)"
      ]
     },
     "execution_count": 134,
     "metadata": {},
     "output_type": "execute_result"
    }
   ],
   "source": [
    "# Naive bayes implementation\n",
    "naive_bayes_classifier = MultinomialNB(fit_prior=nbc_gscv.best_params_.get('fit_prior'), alpha=nbc_gscv.best_params_.get('alpha'))\n",
    "naive_bayes_classifier.fit(X_train_tfidf, train_data.target)"
   ]
  },
  {
   "cell_type": "code",
   "execution_count": 135,
   "id": "89ff3cc4",
   "metadata": {},
   "outputs": [
    {
     "name": "stdout",
     "output_type": "stream",
     "text": [
      "Naive Bayes cv scores\n",
      "[0.54179567 0.52012384 0.51083591 0.5621118  0.48447205]\n",
      "cv_scores mean:0.5238678537776666\n"
     ]
    },
    {
     "name": "stderr",
     "output_type": "stream",
     "text": [
      "C:\\Python39\\lib\\site-packages\\sklearn\\model_selection\\_split.py:676: UserWarning: The least populated class in y has only 1 members, which is less than n_splits=5.\n",
      "  warnings.warn(\n"
     ]
    }
   ],
   "source": [
    "#Naive Bayes 5-fold cross validation\n",
    "# Train model with cv of 5 \n",
    "cv_scores = cross_val_score(naive_bayes_classifier, X_train_tfidf, train_data.target, cv=5)\n",
    "\n",
    "# Print each cv score (accuracy) and average them\n",
    "print('Naive Bayes cv scores')\n",
    "print(cv_scores)\n",
    "print('cv_scores mean:{}'.format(np.mean(cv_scores)))"
   ]
  },
  {
   "cell_type": "code",
   "execution_count": 136,
   "id": "bd2720a6",
   "metadata": {},
   "outputs": [
    {
     "name": "stderr",
     "output_type": "stream",
     "text": [
      "C:\\Python39\\lib\\site-packages\\sklearn\\metrics\\_classification.py:1318: UndefinedMetricWarning: Precision and F-score are ill-defined and being set to 0.0 in labels with no predicted samples. Use `zero_division` parameter to control this behavior.\n",
      "  _warn_prf(average, modifier, msg_start, len(result))\n",
      "C:\\Python39\\lib\\site-packages\\sklearn\\metrics\\_classification.py:1318: UndefinedMetricWarning: Precision and F-score are ill-defined and being set to 0.0 in labels with no predicted samples. Use `zero_division` parameter to control this behavior.\n",
      "  _warn_prf(average, modifier, msg_start, len(result))\n",
      "C:\\Python39\\lib\\site-packages\\sklearn\\metrics\\_classification.py:1318: UndefinedMetricWarning: Precision and F-score are ill-defined and being set to 0.0 in labels with no predicted samples. Use `zero_division` parameter to control this behavior.\n",
      "  _warn_prf(average, modifier, msg_start, len(result))\n",
      "C:\\Python39\\lib\\site-packages\\sklearn\\metrics\\_classification.py:1318: UndefinedMetricWarning: Precision and F-score are ill-defined and being set to 0.0 in labels with no predicted samples. Use `zero_division` parameter to control this behavior.\n",
      "  _warn_prf(average, modifier, msg_start, len(result))\n"
     ]
    },
    {
     "name": "stdout",
     "output_type": "stream",
     "text": [
      "KNN classification report over the tv show test data by using multiple feature similarity:\n",
      "accuracy:   0.525\n",
      "              precision    recall  f1-score   support\n",
      "\n",
      "       TV-14       0.50      0.54      0.52       119\n",
      "        TV-G       0.00      0.00      0.00        13\n",
      "       TV-MA       0.56      0.73      0.64       173\n",
      "       TV-PG       0.28      0.21      0.24        38\n",
      "        TV-Y       0.60      0.25      0.35        24\n",
      "       TV-Y7       0.70      0.19      0.30        37\n",
      "\n",
      "    accuracy                           0.52       404\n",
      "   macro avg       0.44      0.32      0.34       404\n",
      "weighted avg       0.51      0.52      0.50       404\n",
      "\n",
      "Naive Bayes classification report over the tv show test data by using multiple feature similarity:\n",
      "accuracy:   0.537\n",
      "              precision    recall  f1-score   support\n",
      "\n",
      "       TV-14       0.56      0.53      0.54       119\n",
      "        TV-G       0.00      0.00      0.00        13\n",
      "       TV-MA       0.56      0.80      0.66       173\n",
      "       TV-PG       0.24      0.11      0.15        38\n",
      "        TV-Y       0.40      0.17      0.24        24\n",
      "       TV-Y7       0.50      0.22      0.30        37\n",
      "\n",
      "    accuracy                           0.54       404\n",
      "   macro avg       0.37      0.30      0.31       404\n",
      "weighted avg       0.49      0.54      0.50       404\n",
      "\n"
     ]
    },
    {
     "name": "stderr",
     "output_type": "stream",
     "text": [
      "C:\\Python39\\lib\\site-packages\\sklearn\\metrics\\_classification.py:1318: UndefinedMetricWarning: Precision and F-score are ill-defined and being set to 0.0 in labels with no predicted samples. Use `zero_division` parameter to control this behavior.\n",
      "  _warn_prf(average, modifier, msg_start, len(result))\n",
      "C:\\Python39\\lib\\site-packages\\sklearn\\metrics\\_classification.py:1318: UndefinedMetricWarning: Precision and F-score are ill-defined and being set to 0.0 in labels with no predicted samples. Use `zero_division` parameter to control this behavior.\n",
      "  _warn_prf(average, modifier, msg_start, len(result))\n"
     ]
    }
   ],
   "source": [
    "# Calculating predictions\n",
    "knn_predicted = clf.predict(X_new_tfidf)\n",
    "naive_bayes_predicted = naive_bayes_classifier.predict(X_new_tfidf)\n",
    "\n",
    "# Compute the performance measures\n",
    "knn_accuracy_score = metrics.accuracy_score(test_data.target, knn_predicted)\n",
    "naive_bayes_accuracy_score = metrics.accuracy_score(test_data.target, naive_bayes_predicted)\n",
    "    \n",
    "print('KNN classification report over the tv show test data by using multiple feature similarity:')\n",
    "print(\"accuracy:   %0.3f\" % knn_accuracy_score)\n",
    "print(metrics.classification_report(test_data.target, knn_predicted))\n",
    "print('Naive Bayes classification report over the tv show test data by using multiple feature similarity:')\n",
    "print(\"accuracy:   %0.3f\" % naive_bayes_accuracy_score)\n",
    "print(metrics.classification_report(test_data.target, naive_bayes_predicted))"
   ]
  },
  {
   "cell_type": "code",
   "execution_count": 137,
   "id": "3a62aee7",
   "metadata": {},
   "outputs": [],
   "source": [
    "# Example of predicting tv show ratings by using tv show description similarities\n",
    "\n",
    "# Splitting tv show dataset into 80% train data and 20% test data\n",
    "\n",
    "X = tv_shows['description']\n",
    "y = tv_shows['rating']\n",
    "\n",
    "X_train, X_test, y_train, y_test = train_test_split(X, y, test_size = 0.20)\n",
    "\n",
    "train_data.data = X_train\n",
    "train_data.target = y_train\n",
    "train_data.target_names = tv_show_rating_list\n",
    "\n",
    "test_data.data = X_test\n",
    "test_data.target = y_test"
   ]
  },
  {
   "cell_type": "code",
   "execution_count": 138,
   "id": "cedbcf96",
   "metadata": {},
   "outputs": [],
   "source": [
    "count_vect = CountVectorizer()\n",
    "X_train_counts = count_vect.fit_transform(train_data.data)\n",
    "\n",
    "tfidf_transformer = TfidfTransformer()\n",
    "X_train_tfidf = tfidf_transformer.fit_transform(X_train_counts)"
   ]
  },
  {
   "cell_type": "code",
   "execution_count": 139,
   "id": "705f7f5e",
   "metadata": {},
   "outputs": [
    {
     "name": "stderr",
     "output_type": "stream",
     "text": [
      "C:\\Python39\\lib\\site-packages\\sklearn\\model_selection\\_split.py:676: UserWarning: The least populated class in y has only 1 members, which is less than n_splits=5.\n",
      "  warnings.warn(\n"
     ]
    },
    {
     "data": {
      "text/plain": [
       "GridSearchCV(cv=5, estimator=KNeighborsClassifier(),\n",
       "             param_grid={'n_neighbors': array([ 1,  2,  3,  4,  5,  6,  7,  8,  9, 10, 11, 12, 13, 14, 15, 16, 17,\n",
       "       18, 19, 20, 21, 22, 23, 24, 25, 26, 27, 28, 29, 30, 31, 32, 33, 34,\n",
       "       35, 36, 37, 38, 39, 40, 41, 42, 43, 44, 45, 46, 47, 48, 49, 50, 51,\n",
       "       52, 53, 54, 55, 56, 57, 58, 59, 60, 61, 62, 63, 64, 65, 66, 67, 68,\n",
       "       69, 70, 71, 72, 73, 74, 75, 76, 77, 78, 79, 80, 81, 82, 83, 84, 85,\n",
       "       86, 87, 88, 89, 90, 91, 92, 93, 94, 95, 96, 97, 98, 99])})"
      ]
     },
     "execution_count": 139,
     "metadata": {},
     "output_type": "execute_result"
    }
   ],
   "source": [
    "# Create new a knn model\n",
    "knn2 = KNeighborsClassifier()\n",
    "\n",
    "# Create a dictionary of all values I want to test for n_neighbors\n",
    "param_grid = {'n_neighbors': np.arange(1, 100)}\n",
    "\n",
    "# Use gridsearch to test all values for n_neighbors\n",
    "knn_gscv = GridSearchCV(knn2, param_grid, cv=5)\n",
    "\n",
    "# Fit model to data\n",
    "knn_gscv.fit(X_train_tfidf, train_data.target)"
   ]
  },
  {
   "cell_type": "code",
   "execution_count": 140,
   "id": "b5b509ee",
   "metadata": {},
   "outputs": [
    {
     "data": {
      "text/plain": [
       "{'n_neighbors': 28}"
      ]
     },
     "execution_count": 140,
     "metadata": {},
     "output_type": "execute_result"
    }
   ],
   "source": [
    "# Check top performing n_neighbors value\n",
    "knn_gscv.best_params_"
   ]
  },
  {
   "cell_type": "code",
   "execution_count": 141,
   "id": "5d815365",
   "metadata": {},
   "outputs": [
    {
     "data": {
      "text/plain": [
       "0.5021767974924524"
      ]
     },
     "execution_count": 141,
     "metadata": {},
     "output_type": "execute_result"
    }
   ],
   "source": [
    "# Check mean score for the top performing value of n_neighbors\n",
    "knn_gscv.best_score_"
   ]
  },
  {
   "cell_type": "code",
   "execution_count": 142,
   "id": "ff9bbdf0",
   "metadata": {},
   "outputs": [
    {
     "data": {
      "text/plain": [
       "{'mean_fit_time': array([0.00239778, 0.00199494, 0.00199509, 0.00199456, 0.00217705,\n",
       "        0.00200496, 0.00200524, 0.00219531, 0.00201435, 0.00239162,\n",
       "        0.00199537, 0.00211492, 0.00199504, 0.0021945 , 0.00200477,\n",
       "        0.00181651, 0.00201488, 0.00239906, 0.00199485, 0.00219936,\n",
       "        0.00198545, 0.00239849, 0.00180759, 0.00200529, 0.00219913,\n",
       "        0.00201244, 0.0020155 , 0.00257039, 0.00200548, 0.00200577,\n",
       "        0.00200567, 0.00239525, 0.00201526, 0.00179577, 0.00210443,\n",
       "        0.0023047 , 0.00200071, 0.00199456, 0.00200572, 0.00199461,\n",
       "        0.00199432, 0.0019959 , 0.0019855 , 0.00200496, 0.00196981,\n",
       "        0.00238352, 0.00259323, 0.00219531, 0.00200195, 0.00318508,\n",
       "        0.00200505, 0.0023273 , 0.00219517, 0.00272584, 0.00259295,\n",
       "        0.00219865, 0.00198731, 0.00199471, 0.00221419, 0.00199533,\n",
       "        0.00240459, 0.00199742, 0.00201473, 0.00190444, 0.00173168,\n",
       "        0.00201688, 0.00198584, 0.00220037, 0.00218706, 0.00198879,\n",
       "        0.00227203, 0.00267773, 0.00304685, 0.00279293, 0.00200248,\n",
       "        0.00190568, 0.00257959, 0.00199223, 0.00259247, 0.00199442,\n",
       "        0.00239358, 0.00198932, 0.00218935, 0.00198283, 0.00199509,\n",
       "        0.00233054, 0.00239997, 0.00238914, 0.00199533, 0.00219455,\n",
       "        0.00221667, 0.00219364, 0.00259223, 0.00199404, 0.00219455,\n",
       "        0.00239506, 0.00201969, 0.00211406, 0.0018158 ]),\n",
       " 'std_fit_time': array([8.05020818e-04, 8.60951905e-07, 4.26496120e-07, 2.33601546e-07,\n",
       "        4.08369461e-04, 1.98627719e-05, 1.93636989e-05, 3.98898221e-04,\n",
       "        3.60453569e-05, 7.68134378e-04, 5.09122765e-07, 6.74492853e-04,\n",
       "        4.10190833e-07, 3.98946532e-04, 1.89266513e-05, 4.09926452e-04,\n",
       "        2.47252826e-05, 4.94144247e-04, 4.26496120e-07, 3.96638823e-04,\n",
       "        1.90308810e-05, 4.94216561e-04, 4.05384579e-04, 2.00591513e-05,\n",
       "        3.96617928e-04, 2.33384390e-05, 6.31660419e-04, 6.11685621e-04,\n",
       "        1.89152351e-05, 2.04409139e-05, 2.16489321e-05, 7.98775365e-04,\n",
       "        2.41858463e-05, 3.99232206e-04, 2.23238159e-04, 5.98911601e-04,\n",
       "        1.29762802e-05, 2.78041453e-07, 3.59810210e-05, 3.37174788e-07,\n",
       "        5.51978917e-07, 2.96409434e-05, 1.96514769e-05, 1.95075941e-05,\n",
       "        5.67289943e-05, 8.01883758e-04, 7.97844061e-04, 3.99128465e-04,\n",
       "        1.36223622e-05, 7.39341010e-04, 2.04180981e-05, 3.89166276e-04,\n",
       "        3.98852846e-04, 7.87051039e-04, 1.19583627e-03, 3.95619994e-04,\n",
       "        1.13669418e-05, 2.86102295e-07, 3.89590578e-04, 2.99334502e-05,\n",
       "        5.00643833e-04, 2.79311817e-05, 2.45200961e-05, 1.80459676e-04,\n",
       "        3.87354151e-04, 2.62345387e-05, 1.85117250e-05, 4.09841940e-04,\n",
       "        3.88004579e-04, 1.25695216e-05, 8.90507527e-04, 7.32445319e-04,\n",
       "        6.43273078e-04, 4.00353358e-04, 1.20753773e-05, 1.78218039e-04,\n",
       "        8.09845616e-04, 8.08094794e-06, 7.98178011e-04, 9.81867804e-07,\n",
       "        7.98058857e-04, 6.21688199e-04, 7.47250739e-04, 1.51830522e-05,\n",
       "        3.69356475e-07, 4.23852715e-04, 4.82792251e-04, 4.82170166e-04,\n",
       "        3.01578299e-07, 3.98207182e-04, 3.90349062e-04, 7.45601180e-04,\n",
       "        7.96687897e-04, 1.55685689e-06, 3.98326159e-04, 8.01492083e-04,\n",
       "        4.98105200e-05, 2.16694186e-04, 3.84315870e-04]),\n",
       " 'mean_score_time': array([0.01794729, 0.02016592, 0.01884975, 0.02254939, 0.02285032,\n",
       "        0.02292805, 0.02278905, 0.02372713, 0.02261457, 0.02498422,\n",
       "        0.02134204, 0.02553105, 0.02075276, 0.02142911, 0.02143345,\n",
       "        0.02144012, 0.02262278, 0.02528367, 0.0245542 , 0.02374229,\n",
       "        0.0212481 , 0.02495613, 0.02240772, 0.02342086, 0.02438807,\n",
       "        0.02300987, 0.02282524, 0.02541652, 0.02182436, 0.02183871,\n",
       "        0.0232142 , 0.02459631, 0.02203975, 0.02458849, 0.02429743,\n",
       "        0.02605329, 0.02412896, 0.02394075, 0.02453375, 0.02533879,\n",
       "        0.02553697, 0.02454367, 0.02473321, 0.02436137, 0.02716517,\n",
       "        0.03013859, 0.02597523, 0.02565441, 0.02628312, 0.0322382 ,\n",
       "        0.02453132, 0.02832999, 0.02460546, 0.03348317, 0.02734871,\n",
       "        0.0239903 , 0.0229722 , 0.02479563, 0.02698727, 0.02533145,\n",
       "        0.02753434, 0.02491975, 0.02305965, 0.02324915, 0.02437077,\n",
       "        0.02344651, 0.02578049, 0.02712436, 0.02749014, 0.02912898,\n",
       "        0.02831898, 0.02994819, 0.0314672 , 0.0300365 , 0.02533512,\n",
       "        0.02853022, 0.02983222, 0.02404685, 0.03471189, 0.02692852,\n",
       "        0.02935553, 0.02692633, 0.02765336, 0.0279788 , 0.02612953,\n",
       "        0.02813501, 0.03203044, 0.02732296, 0.02932115, 0.02833047,\n",
       "        0.02703519, 0.02811885, 0.02872939, 0.02555714, 0.02652798,\n",
       "        0.02773056, 0.024827  , 0.0257431 , 0.02534389]),\n",
       " 'std_score_time': array([1.25873683e-03, 7.30074720e-04, 3.97663939e-04, 4.76141828e-04,\n",
       "        4.94549594e-04, 6.31065874e-04, 1.09299611e-03, 1.38401360e-03,\n",
       "        1.17156942e-03, 3.42838531e-03, 4.88324648e-04, 4.01395283e-03,\n",
       "        4.03827998e-04, 4.94283299e-04, 4.72073016e-04, 5.12189004e-04,\n",
       "        1.58223282e-03, 7.59986686e-04, 8.11463963e-04, 1.85849425e-03,\n",
       "        4.15857884e-04, 1.91385031e-04, 9.96464345e-04, 1.72476576e-03,\n",
       "        1.34827401e-03, 1.25314445e-03, 1.16823977e-03, 9.90512879e-04,\n",
       "        2.21984112e-04, 3.75671530e-04, 1.57938158e-03, 7.87883847e-04,\n",
       "        5.00701722e-06, 8.07022859e-04, 7.69198218e-04, 9.19871129e-04,\n",
       "        4.02239359e-04, 1.01639045e-05, 4.89471102e-04, 1.02817655e-03,\n",
       "        1.20354911e-03, 4.95148233e-04, 3.99303522e-04, 5.06467667e-04,\n",
       "        4.00136508e-03, 7.29599922e-03, 4.76007416e-03, 1.22363541e-03,\n",
       "        8.24856157e-04, 5.72025619e-03, 7.98374271e-04, 5.44340487e-03,\n",
       "        1.48085203e-03, 7.73701475e-03, 1.84540374e-03, 1.52755404e-03,\n",
       "        6.63016453e-04, 2.20434019e-03, 4.71913542e-03, 5.08436492e-04,\n",
       "        1.01981017e-03, 1.07902455e-03, 2.46554784e-05, 6.64447916e-04,\n",
       "        1.00007225e-03, 4.96892036e-04, 1.16358933e-03, 1.60745072e-03,\n",
       "        4.80560387e-03, 7.00546148e-03, 7.30301490e-03, 5.01851973e-03,\n",
       "        7.78137881e-03, 5.13424148e-03, 1.00161370e-03, 7.27783096e-03,\n",
       "        8.86542776e-03, 7.90243671e-04, 5.13920827e-03, 1.66561085e-03,\n",
       "        5.43894747e-03, 1.52911147e-03, 2.59857351e-03, 5.13209706e-03,\n",
       "        3.99089070e-04, 4.07239798e-04, 7.49339822e-03, 1.34143885e-03,\n",
       "        5.41190704e-03, 3.86408858e-03, 1.57235207e-03, 1.59388858e-03,\n",
       "        1.15903890e-03, 1.16508718e-03, 3.25299618e-03, 4.29266082e-03,\n",
       "        1.51242476e-03, 9.36075849e-04, 3.84734252e-04]),\n",
       " 'param_n_neighbors': masked_array(data=[1, 2, 3, 4, 5, 6, 7, 8, 9, 10, 11, 12, 13, 14, 15, 16,\n",
       "                    17, 18, 19, 20, 21, 22, 23, 24, 25, 26, 27, 28, 29, 30,\n",
       "                    31, 32, 33, 34, 35, 36, 37, 38, 39, 40, 41, 42, 43, 44,\n",
       "                    45, 46, 47, 48, 49, 50, 51, 52, 53, 54, 55, 56, 57, 58,\n",
       "                    59, 60, 61, 62, 63, 64, 65, 66, 67, 68, 69, 70, 71, 72,\n",
       "                    73, 74, 75, 76, 77, 78, 79, 80, 81, 82, 83, 84, 85, 86,\n",
       "                    87, 88, 89, 90, 91, 92, 93, 94, 95, 96, 97, 98, 99],\n",
       "              mask=[False, False, False, False, False, False, False, False,\n",
       "                    False, False, False, False, False, False, False, False,\n",
       "                    False, False, False, False, False, False, False, False,\n",
       "                    False, False, False, False, False, False, False, False,\n",
       "                    False, False, False, False, False, False, False, False,\n",
       "                    False, False, False, False, False, False, False, False,\n",
       "                    False, False, False, False, False, False, False, False,\n",
       "                    False, False, False, False, False, False, False, False,\n",
       "                    False, False, False, False, False, False, False, False,\n",
       "                    False, False, False, False, False, False, False, False,\n",
       "                    False, False, False, False, False, False, False, False,\n",
       "                    False, False, False, False, False, False, False, False,\n",
       "                    False, False, False],\n",
       "        fill_value='?',\n",
       "             dtype=object),\n",
       " 'params': [{'n_neighbors': 1},\n",
       "  {'n_neighbors': 2},\n",
       "  {'n_neighbors': 3},\n",
       "  {'n_neighbors': 4},\n",
       "  {'n_neighbors': 5},\n",
       "  {'n_neighbors': 6},\n",
       "  {'n_neighbors': 7},\n",
       "  {'n_neighbors': 8},\n",
       "  {'n_neighbors': 9},\n",
       "  {'n_neighbors': 10},\n",
       "  {'n_neighbors': 11},\n",
       "  {'n_neighbors': 12},\n",
       "  {'n_neighbors': 13},\n",
       "  {'n_neighbors': 14},\n",
       "  {'n_neighbors': 15},\n",
       "  {'n_neighbors': 16},\n",
       "  {'n_neighbors': 17},\n",
       "  {'n_neighbors': 18},\n",
       "  {'n_neighbors': 19},\n",
       "  {'n_neighbors': 20},\n",
       "  {'n_neighbors': 21},\n",
       "  {'n_neighbors': 22},\n",
       "  {'n_neighbors': 23},\n",
       "  {'n_neighbors': 24},\n",
       "  {'n_neighbors': 25},\n",
       "  {'n_neighbors': 26},\n",
       "  {'n_neighbors': 27},\n",
       "  {'n_neighbors': 28},\n",
       "  {'n_neighbors': 29},\n",
       "  {'n_neighbors': 30},\n",
       "  {'n_neighbors': 31},\n",
       "  {'n_neighbors': 32},\n",
       "  {'n_neighbors': 33},\n",
       "  {'n_neighbors': 34},\n",
       "  {'n_neighbors': 35},\n",
       "  {'n_neighbors': 36},\n",
       "  {'n_neighbors': 37},\n",
       "  {'n_neighbors': 38},\n",
       "  {'n_neighbors': 39},\n",
       "  {'n_neighbors': 40},\n",
       "  {'n_neighbors': 41},\n",
       "  {'n_neighbors': 42},\n",
       "  {'n_neighbors': 43},\n",
       "  {'n_neighbors': 44},\n",
       "  {'n_neighbors': 45},\n",
       "  {'n_neighbors': 46},\n",
       "  {'n_neighbors': 47},\n",
       "  {'n_neighbors': 48},\n",
       "  {'n_neighbors': 49},\n",
       "  {'n_neighbors': 50},\n",
       "  {'n_neighbors': 51},\n",
       "  {'n_neighbors': 52},\n",
       "  {'n_neighbors': 53},\n",
       "  {'n_neighbors': 54},\n",
       "  {'n_neighbors': 55},\n",
       "  {'n_neighbors': 56},\n",
       "  {'n_neighbors': 57},\n",
       "  {'n_neighbors': 58},\n",
       "  {'n_neighbors': 59},\n",
       "  {'n_neighbors': 60},\n",
       "  {'n_neighbors': 61},\n",
       "  {'n_neighbors': 62},\n",
       "  {'n_neighbors': 63},\n",
       "  {'n_neighbors': 64},\n",
       "  {'n_neighbors': 65},\n",
       "  {'n_neighbors': 66},\n",
       "  {'n_neighbors': 67},\n",
       "  {'n_neighbors': 68},\n",
       "  {'n_neighbors': 69},\n",
       "  {'n_neighbors': 70},\n",
       "  {'n_neighbors': 71},\n",
       "  {'n_neighbors': 72},\n",
       "  {'n_neighbors': 73},\n",
       "  {'n_neighbors': 74},\n",
       "  {'n_neighbors': 75},\n",
       "  {'n_neighbors': 76},\n",
       "  {'n_neighbors': 77},\n",
       "  {'n_neighbors': 78},\n",
       "  {'n_neighbors': 79},\n",
       "  {'n_neighbors': 80},\n",
       "  {'n_neighbors': 81},\n",
       "  {'n_neighbors': 82},\n",
       "  {'n_neighbors': 83},\n",
       "  {'n_neighbors': 84},\n",
       "  {'n_neighbors': 85},\n",
       "  {'n_neighbors': 86},\n",
       "  {'n_neighbors': 87},\n",
       "  {'n_neighbors': 88},\n",
       "  {'n_neighbors': 89},\n",
       "  {'n_neighbors': 90},\n",
       "  {'n_neighbors': 91},\n",
       "  {'n_neighbors': 92},\n",
       "  {'n_neighbors': 93},\n",
       "  {'n_neighbors': 94},\n",
       "  {'n_neighbors': 95},\n",
       "  {'n_neighbors': 96},\n",
       "  {'n_neighbors': 97},\n",
       "  {'n_neighbors': 98},\n",
       "  {'n_neighbors': 99}],\n",
       " 'split0_test_score': array([0.45820433, 0.40866873, 0.46749226, 0.47678019, 0.49226006,\n",
       "        0.47368421, 0.46439628, 0.47987616, 0.47678019, 0.47678019,\n",
       "        0.43653251, 0.45820433, 0.45201238, 0.45201238, 0.46749226,\n",
       "        0.45510836, 0.46439628, 0.44582043, 0.46749226, 0.45820433,\n",
       "        0.46130031, 0.45510836, 0.45510836, 0.47368421, 0.46130031,\n",
       "        0.46749226, 0.46749226, 0.47987616, 0.45510836, 0.46439628,\n",
       "        0.47058824, 0.47987616, 0.47678019, 0.48297214, 0.47368421,\n",
       "        0.47987616, 0.47987616, 0.47368421, 0.47987616, 0.47678019,\n",
       "        0.46749226, 0.47368421, 0.47678019, 0.47678019, 0.48606811,\n",
       "        0.47368421, 0.48916409, 0.48297214, 0.48297214, 0.47678019,\n",
       "        0.48297214, 0.48297214, 0.47368421, 0.47987616, 0.47678019,\n",
       "        0.47987616, 0.47987616, 0.47368421, 0.48297214, 0.47368421,\n",
       "        0.47987616, 0.47987616, 0.47987616, 0.47678019, 0.48297214,\n",
       "        0.47678019, 0.47987616, 0.47678019, 0.47678019, 0.47368421,\n",
       "        0.47678019, 0.47678019, 0.47058824, 0.46439628, 0.46130031,\n",
       "        0.45820433, 0.45820433, 0.45510836, 0.45820433, 0.46439628,\n",
       "        0.46749226, 0.46749226, 0.46439628, 0.46749226, 0.47058824,\n",
       "        0.46439628, 0.45820433, 0.45510836, 0.44891641, 0.45201238,\n",
       "        0.44582043, 0.44891641, 0.44891641, 0.44891641, 0.44891641,\n",
       "        0.45510836, 0.45510836, 0.45820433, 0.45201238]),\n",
       " 'split1_test_score': array([0.41486068, 0.42105263, 0.43343653, 0.45201238, 0.47987616,\n",
       "        0.49535604, 0.46439628, 0.48606811, 0.48916409, 0.49535604,\n",
       "        0.50154799, 0.48916409, 0.51083591, 0.52012384, 0.50773994,\n",
       "        0.51083591, 0.51702786, 0.50154799, 0.50464396, 0.51083591,\n",
       "        0.50154799, 0.50154799, 0.50464396, 0.50154799, 0.50464396,\n",
       "        0.49845201, 0.50464396, 0.49535604, 0.50464396, 0.50464396,\n",
       "        0.50464396, 0.48606811, 0.48916409, 0.48606811, 0.49535604,\n",
       "        0.49535604, 0.49226006, 0.50773994, 0.48916409, 0.50464396,\n",
       "        0.50154799, 0.50154799, 0.49226006, 0.49845201, 0.50464396,\n",
       "        0.50773994, 0.51083591, 0.50773994, 0.49535604, 0.50154799,\n",
       "        0.49535604, 0.48916409, 0.49226006, 0.49226006, 0.49535604,\n",
       "        0.48916409, 0.48916409, 0.48606811, 0.49535604, 0.49845201,\n",
       "        0.49535604, 0.49535604, 0.50464396, 0.48916409, 0.48916409,\n",
       "        0.49226006, 0.49845201, 0.50154799, 0.49845201, 0.49226006,\n",
       "        0.48916409, 0.48297214, 0.48297214, 0.48606811, 0.49226006,\n",
       "        0.48916409, 0.49226006, 0.49845201, 0.48916409, 0.47987616,\n",
       "        0.48297214, 0.47368421, 0.48916409, 0.47987616, 0.47987616,\n",
       "        0.47678019, 0.48297214, 0.47987616, 0.48297214, 0.48297214,\n",
       "        0.48297214, 0.47987616, 0.47368421, 0.47058824, 0.47678019,\n",
       "        0.47058824, 0.47368421, 0.47058824, 0.46749226]),\n",
       " 'split2_test_score': array([0.36842105, 0.3993808 , 0.45820433, 0.48297214, 0.46439628,\n",
       "        0.48297214, 0.49845201, 0.49535604, 0.50464396, 0.49535604,\n",
       "        0.51702786, 0.51393189, 0.51083591, 0.51083591, 0.50464396,\n",
       "        0.49535604, 0.50464396, 0.50773994, 0.51393189, 0.50773994,\n",
       "        0.49226006, 0.48916409, 0.51083591, 0.50773994, 0.51393189,\n",
       "        0.51702786, 0.51393189, 0.52012384, 0.49535604, 0.52012384,\n",
       "        0.50773994, 0.50464396, 0.49535604, 0.50154799, 0.48916409,\n",
       "        0.49226006, 0.48916409, 0.48916409, 0.47987616, 0.48297214,\n",
       "        0.48606811, 0.49226006, 0.47987616, 0.47678019, 0.48297214,\n",
       "        0.48297214, 0.46749226, 0.48297214, 0.47368421, 0.47368421,\n",
       "        0.47058824, 0.47058824, 0.46749226, 0.47058824, 0.47678019,\n",
       "        0.47058824, 0.47987616, 0.48297214, 0.47987616, 0.47678019,\n",
       "        0.46749226, 0.46749226, 0.46439628, 0.46749226, 0.47368421,\n",
       "        0.47368421, 0.47368421, 0.46439628, 0.46749226, 0.46439628,\n",
       "        0.46749226, 0.46439628, 0.47058824, 0.46130031, 0.46130031,\n",
       "        0.46130031, 0.46130031, 0.46749226, 0.45820433, 0.45510836,\n",
       "        0.45201238, 0.45510836, 0.45201238, 0.46130031, 0.45510836,\n",
       "        0.46749226, 0.47058824, 0.47058824, 0.46130031, 0.45820433,\n",
       "        0.45820433, 0.46439628, 0.46439628, 0.47058824, 0.46439628,\n",
       "        0.46130031, 0.46130031, 0.45820433, 0.46130031]),\n",
       " 'split3_test_score': array([0.45341615, 0.4068323 , 0.4378882 , 0.5       , 0.48757764,\n",
       "        0.47515528, 0.50310559, 0.49378882, 0.5       , 0.51242236,\n",
       "        0.50310559, 0.5       , 0.53726708, 0.49689441, 0.51863354,\n",
       "        0.51552795, 0.50621118, 0.51242236, 0.5       , 0.51242236,\n",
       "        0.50621118, 0.52173913, 0.51242236, 0.53726708, 0.52795031,\n",
       "        0.5310559 , 0.52484472, 0.52795031, 0.52484472, 0.51863354,\n",
       "        0.54037267, 0.52795031, 0.50621118, 0.51242236, 0.51552795,\n",
       "        0.52484472, 0.51552795, 0.52484472, 0.52795031, 0.52173913,\n",
       "        0.50931677, 0.51863354, 0.50310559, 0.51552795, 0.50931677,\n",
       "        0.50931677, 0.50931677, 0.50310559, 0.50621118, 0.50310559,\n",
       "        0.49378882, 0.5       , 0.49689441, 0.5       , 0.50310559,\n",
       "        0.49689441, 0.49068323, 0.48447205, 0.48136646, 0.47826087,\n",
       "        0.48757764, 0.47826087, 0.48447205, 0.47826087, 0.48447205,\n",
       "        0.47826087, 0.47515528, 0.46583851, 0.47515528, 0.47515528,\n",
       "        0.47204969, 0.46583851, 0.46583851, 0.46273292, 0.46583851,\n",
       "        0.47204969, 0.4689441 , 0.46273292, 0.46273292, 0.46273292,\n",
       "        0.46583851, 0.45962733, 0.45962733, 0.46273292, 0.46583851,\n",
       "        0.46273292, 0.46273292, 0.46273292, 0.46273292, 0.46583851,\n",
       "        0.46273292, 0.45962733, 0.46273292, 0.46273292, 0.45962733,\n",
       "        0.45962733, 0.46273292, 0.46273292, 0.46273292]),\n",
       " 'split4_test_score': array([0.43478261, 0.38198758, 0.41925466, 0.45031056, 0.4689441 ,\n",
       "        0.47204969, 0.47204969, 0.47515528, 0.49068323, 0.47515528,\n",
       "        0.48447205, 0.47515528, 0.46583851, 0.47515528, 0.47515528,\n",
       "        0.48136646, 0.48757764, 0.47515528, 0.47826087, 0.4689441 ,\n",
       "        0.47204969, 0.48447205, 0.47826087, 0.4689441 , 0.47204969,\n",
       "        0.47826087, 0.48447205, 0.48757764, 0.47826087, 0.47515528,\n",
       "        0.46273292, 0.47204969, 0.48757764, 0.48447205, 0.48447205,\n",
       "        0.48136646, 0.4689441 , 0.48136646, 0.4689441 , 0.47515528,\n",
       "        0.4689441 , 0.47515528, 0.46583851, 0.47826087, 0.48447205,\n",
       "        0.48757764, 0.48757764, 0.48757764, 0.47826087, 0.47826087,\n",
       "        0.47826087, 0.4689441 , 0.47204969, 0.46273292, 0.45652174,\n",
       "        0.44720497, 0.45962733, 0.44720497, 0.46273292, 0.46273292,\n",
       "        0.45652174, 0.45031056, 0.45031056, 0.45962733, 0.45031056,\n",
       "        0.45031056, 0.45962733, 0.46273292, 0.44409938, 0.45031056,\n",
       "        0.45652174, 0.45962733, 0.45031056, 0.45962733, 0.46273292,\n",
       "        0.45962733, 0.45962733, 0.45652174, 0.45652174, 0.45341615,\n",
       "        0.45341615, 0.44720497, 0.46273292, 0.45341615, 0.45652174,\n",
       "        0.45341615, 0.46273292, 0.46583851, 0.4689441 , 0.46583851,\n",
       "        0.46273292, 0.45341615, 0.47204969, 0.46583851, 0.46583851,\n",
       "        0.45962733, 0.45962733, 0.45962733, 0.45652174]),\n",
       " 'mean_test_score': array([0.42593697, 0.40358441, 0.4432552 , 0.47241505, 0.47861085,\n",
       "        0.47984347, 0.48047997, 0.48604888, 0.49225429, 0.49101398,\n",
       "        0.4885372 , 0.48729112, 0.49535796, 0.49100437, 0.494733  ,\n",
       "        0.49163894, 0.49597139, 0.4885372 , 0.4928658 , 0.49162933,\n",
       "        0.48667385, 0.49040632, 0.49225429, 0.49783666, 0.49597523,\n",
       "        0.49845778, 0.49907698, 0.5021768 , 0.49164279, 0.49659058,\n",
       "        0.49721555, 0.49411765, 0.49101783, 0.49349653, 0.49164087,\n",
       "        0.49474069, 0.48915447, 0.49535988, 0.48916216, 0.49225814,\n",
       "        0.48667385, 0.49225622, 0.4835721 , 0.48916024, 0.49349461,\n",
       "        0.49225814, 0.49287733, 0.49287349, 0.48729689, 0.48667577,\n",
       "        0.48419322, 0.48233371, 0.48047613, 0.48109148, 0.48170875,\n",
       "        0.47674557, 0.47984539, 0.4748803 , 0.48046074, 0.47798204,\n",
       "        0.47736477, 0.47425918, 0.4767398 , 0.47426495, 0.47612061,\n",
       "        0.47425918, 0.477359  , 0.47425918, 0.47239582, 0.47116128,\n",
       "        0.47240159, 0.46992289, 0.46805954, 0.46682499, 0.46868642,\n",
       "        0.46806915, 0.46806723, 0.46806146, 0.46496548, 0.46310597,\n",
       "        0.46434629, 0.46062343, 0.4655866 , 0.46496356, 0.4655866 ,\n",
       "        0.46496356, 0.46744611, 0.46682884, 0.46497317, 0.46497317,\n",
       "        0.46249255, 0.46124647, 0.4643559 , 0.46373286, 0.46311174,\n",
       "        0.46125031, 0.46249063, 0.46187143, 0.46001192]),\n",
       " 'std_test_score': array([0.03257391, 0.01285015, 0.01739051, 0.01895423, 0.0106189 ,\n",
       "        0.00861495, 0.01687218, 0.00778849, 0.00964329, 0.01378496,\n",
       "        0.02797946, 0.01932912, 0.03157767, 0.02468803, 0.01981912,\n",
       "        0.02187708, 0.01838959, 0.02494925, 0.0172657 , 0.02320623,\n",
       "        0.01727331, 0.02185675, 0.0222763 , 0.02483839, 0.02527756,\n",
       "        0.02355531, 0.02062297, 0.01867269, 0.02366021, 0.02280574,\n",
       "        0.02802337, 0.02005025, 0.00967098, 0.01157928, 0.01388786,\n",
       "        0.01620252, 0.01549033, 0.01858311, 0.02042425, 0.01811542,\n",
       "        0.01683203, 0.0168491 , 0.01289425, 0.01553654, 0.01115285,\n",
       "        0.01402719, 0.01599401, 0.01048644, 0.01190259, 0.0128735 ,\n",
       "        0.00936444, 0.01163097, 0.0117825 , 0.01364625, 0.01629135,\n",
       "        0.01720788, 0.01107311, 0.01449138, 0.01042703, 0.01158921,\n",
       "        0.01390104, 0.01491287, 0.01843439, 0.01004398, 0.01384859,\n",
       "        0.01356663, 0.01252217, 0.01450568, 0.01749569, 0.01376948,\n",
       "        0.01073823, 0.00860848, 0.01053692, 0.00974956, 0.01190278,\n",
       "        0.01162099, 0.01265197, 0.01583194, 0.0122742 , 0.0093904 ,\n",
       "        0.01123067, 0.00926529, 0.0125318 , 0.00872374, 0.00917863,\n",
       "        0.00754543, 0.00872662, 0.00824006, 0.01110008, 0.01038518,\n",
       "        0.01196559, 0.0107047 , 0.00880029, 0.0079869 , 0.00905053,\n",
       "        0.00510276, 0.00615578, 0.00466167, 0.005314  ]),\n",
       " 'rank_test_score': array([98, 99, 97, 65, 53, 52, 48, 42, 22, 29, 35, 38, 10, 30, 12, 26,  8,\n",
       "        35, 18, 27, 41, 31, 22,  4,  7,  3,  2,  1, 24,  6,  5, 13, 28, 14,\n",
       "        25, 11, 34,  9, 32, 19, 40, 21, 44, 33, 15, 19, 16, 17, 37, 39, 43,\n",
       "        45, 49, 47, 46, 57, 51, 60, 50, 54, 55, 62, 58, 61, 59, 62, 56, 62,\n",
       "        67, 68, 66, 69, 74, 77, 70, 71, 72, 73, 82, 89, 86, 95, 78, 83, 78,\n",
       "        83, 75, 76, 81, 80, 90, 94, 85, 87, 88, 93, 91, 92, 96])}"
      ]
     },
     "execution_count": 142,
     "metadata": {},
     "output_type": "execute_result"
    }
   ],
   "source": [
    "# Check results for each value of n_neighbors\n",
    "knn_gscv.cv_results_"
   ]
  },
  {
   "cell_type": "code",
   "execution_count": 143,
   "id": "623dd271",
   "metadata": {},
   "outputs": [
    {
     "name": "stderr",
     "output_type": "stream",
     "text": [
      "No artists with labels found to put in legend.  Note that artists whose label start with an underscore are ignored when legend() is called with no argument.\n"
     ]
    },
    {
     "data": {
      "image/png": "[encoded data removed]",
      "text/plain": [
       "<Figure size 504x504 with 1 Axes>"
      ]
     },
     "metadata": {},
     "output_type": "display_data"
    }
   ],
   "source": [
    "# Plot the graph of n_neighbor values and cv results (KNN Model)\n",
    "plot_grid_search_knn(knn_gscv.cv_results_, np.arange(1, 100), 'k')"
   ]
  },
  {
   "cell_type": "code",
   "execution_count": 144,
   "id": "f33156c5",
   "metadata": {},
   "outputs": [],
   "source": [
    "# KNN implementation example with the top performing n_neighbors value\n",
    "knn = KNeighborsClassifier(n_neighbors=knn_gscv.best_params_.get('n_neighbors'))\n",
    "\n",
    "# Training the classifier ; train_data.target will be having numbers assigned for each category in train data\n",
    "clf = knn.fit(X_train_tfidf, train_data.target)\n",
    "\n",
    "# Input Data to predict their classes of the given categories\n",
    "# building up feature vector of the input\n",
    "X_new_counts = count_vect.transform(test_data.data)\n",
    "\n",
    "# I call transform instead of fit_transform because it's already been fit\n",
    "X_new_tfidf = tfidf_transformer.transform(X_new_counts)"
   ]
  },
  {
   "cell_type": "code",
   "execution_count": 145,
   "id": "04c9915d",
   "metadata": {},
   "outputs": [
    {
     "name": "stderr",
     "output_type": "stream",
     "text": [
      "C:\\Python39\\lib\\site-packages\\sklearn\\model_selection\\_split.py:676: UserWarning: The least populated class in y has only 1 members, which is less than n_splits=5.\n",
      "  warnings.warn(\n",
      "C:\\Python39\\lib\\site-packages\\sklearn\\naive_bayes.py:555: UserWarning: alpha too small will result in numeric errors, setting alpha = 1.0e-10\n",
      "  warnings.warn(\n",
      "C:\\Python39\\lib\\site-packages\\sklearn\\naive_bayes.py:555: UserWarning: alpha too small will result in numeric errors, setting alpha = 1.0e-10\n",
      "  warnings.warn(\n",
      "C:\\Python39\\lib\\site-packages\\sklearn\\naive_bayes.py:555: UserWarning: alpha too small will result in numeric errors, setting alpha = 1.0e-10\n",
      "  warnings.warn(\n",
      "C:\\Python39\\lib\\site-packages\\sklearn\\naive_bayes.py:555: UserWarning: alpha too small will result in numeric errors, setting alpha = 1.0e-10\n",
      "  warnings.warn(\n",
      "C:\\Python39\\lib\\site-packages\\sklearn\\naive_bayes.py:555: UserWarning: alpha too small will result in numeric errors, setting alpha = 1.0e-10\n",
      "  warnings.warn(\n",
      "C:\\Python39\\lib\\site-packages\\sklearn\\naive_bayes.py:555: UserWarning: alpha too small will result in numeric errors, setting alpha = 1.0e-10\n",
      "  warnings.warn(\n",
      "C:\\Python39\\lib\\site-packages\\sklearn\\naive_bayes.py:555: UserWarning: alpha too small will result in numeric errors, setting alpha = 1.0e-10\n",
      "  warnings.warn(\n",
      "C:\\Python39\\lib\\site-packages\\sklearn\\naive_bayes.py:555: UserWarning: alpha too small will result in numeric errors, setting alpha = 1.0e-10\n",
      "  warnings.warn(\n",
      "C:\\Python39\\lib\\site-packages\\sklearn\\naive_bayes.py:555: UserWarning: alpha too small will result in numeric errors, setting alpha = 1.0e-10\n",
      "  warnings.warn(\n",
      "C:\\Python39\\lib\\site-packages\\sklearn\\naive_bayes.py:555: UserWarning: alpha too small will result in numeric errors, setting alpha = 1.0e-10\n",
      "  warnings.warn(\n"
     ]
    },
    {
     "data": {
      "text/plain": [
       "GridSearchCV(cv=5, estimator=MultinomialNB(),\n",
       "             param_grid={'alpha': [0.0, 1.0, 2.0, 3.0],\n",
       "                         'fit_prior': [True, False]})"
      ]
     },
     "execution_count": 145,
     "metadata": {},
     "output_type": "execute_result"
    }
   ],
   "source": [
    "# Create new a Naive Bayes model\n",
    "naive_bayes_classifier2 = MultinomialNB()\n",
    "\n",
    "# Create a dictionary of all values I want to test for fit_prior and alpha\n",
    "param_grid = {'fit_prior': [True, False], 'alpha': [0.0, 1.0, 2.0, 3.0]}\n",
    "\n",
    "# Use gridsearch to test all values for fit_prior and alpha\n",
    "nbc_gscv = GridSearchCV(naive_bayes_classifier2, param_grid, cv=5)\n",
    "\n",
    "# Fit model to data\n",
    "nbc_gscv.fit(X_train_tfidf, train_data.target)"
   ]
  },
  {
   "cell_type": "code",
   "execution_count": 146,
   "id": "aa40d2f1",
   "metadata": {},
   "outputs": [
    {
     "data": {
      "text/plain": [
       "{'alpha': 2.0, 'fit_prior': False}"
      ]
     },
     "execution_count": 146,
     "metadata": {},
     "output_type": "execute_result"
    }
   ],
   "source": [
    "# Check top performing fit_prior and alpha values\n",
    "nbc_gscv.best_params_"
   ]
  },
  {
   "cell_type": "code",
   "execution_count": 147,
   "id": "ad42ac46",
   "metadata": {},
   "outputs": [
    {
     "data": {
      "text/plain": [
       "0.5108801415302964"
      ]
     },
     "execution_count": 147,
     "metadata": {},
     "output_type": "execute_result"
    }
   ],
   "source": [
    "# Check mean score for the top performing values of fit_prior and alpha\n",
    "nbc_gscv.best_score_"
   ]
  },
  {
   "cell_type": "code",
   "execution_count": 148,
   "id": "d2b0298e",
   "metadata": {},
   "outputs": [
    {
     "data": {
      "text/plain": [
       "{'mean_fit_time': array([0.00937557, 0.00582561, 0.00508938, 0.00498624, 0.00498619,\n",
       "        0.00558419, 0.00518575, 0.00479798]),\n",
       " 'std_fit_time': array([7.97869162e-04, 1.57482800e-03, 2.02974495e-04, 4.37028474e-07,\n",
       "        6.30752500e-04, 4.89552884e-04, 9.77788057e-04, 7.49958280e-04]),\n",
       " 'mean_score_time': array([0.00119658, 0.00056701, 0.00090861, 0.00059834, 0.0005991 ,\n",
       "        0.00019994, 0.00059867, 0.00039916]),\n",
       " 'std_score_time': array([0.00039926, 0.00046414, 0.00017762, 0.00048854, 0.00048916,\n",
       "        0.00039988, 0.00048881, 0.00048887]),\n",
       " 'param_alpha': masked_array(data=[0.0, 0.0, 1.0, 1.0, 2.0, 2.0, 3.0, 3.0],\n",
       "              mask=[False, False, False, False, False, False, False, False],\n",
       "        fill_value='?',\n",
       "             dtype=object),\n",
       " 'param_fit_prior': masked_array(data=[True, False, True, False, True, False, True, False],\n",
       "              mask=[False, False, False, False, False, False, False, False],\n",
       "        fill_value='?',\n",
       "             dtype=object),\n",
       " 'params': [{'alpha': 0.0, 'fit_prior': True},\n",
       "  {'alpha': 0.0, 'fit_prior': False},\n",
       "  {'alpha': 1.0, 'fit_prior': True},\n",
       "  {'alpha': 1.0, 'fit_prior': False},\n",
       "  {'alpha': 2.0, 'fit_prior': True},\n",
       "  {'alpha': 2.0, 'fit_prior': False},\n",
       "  {'alpha': 3.0, 'fit_prior': True},\n",
       "  {'alpha': 3.0, 'fit_prior': False}],\n",
       " 'split0_test_score': array([0.44582043, 0.43962848, 0.44891641, 0.49535604, 0.44582043,\n",
       "        0.47368421, 0.44582043, 0.48297214]),\n",
       " 'split1_test_score': array([0.48606811, 0.48916409, 0.46130031, 0.49845201, 0.44582043,\n",
       "        0.49226006, 0.44582043, 0.48916409]),\n",
       " 'split2_test_score': array([0.46439628, 0.45820433, 0.44272446, 0.50154799, 0.44582043,\n",
       "        0.51702786, 0.44582043, 0.51083591]),\n",
       " 'split3_test_score': array([0.52173913, 0.52173913, 0.44720497, 0.54037267, 0.44409938,\n",
       "        0.54037267, 0.44409938, 0.5310559 ]),\n",
       " 'split4_test_score': array([0.43478261, 0.42857143, 0.44099379, 0.51552795, 0.44409938,\n",
       "        0.5310559 , 0.44409938, 0.52795031]),\n",
       " 'mean_test_score': array([0.47056131, 0.46746149, 0.44822799, 0.51025133, 0.44513201,\n",
       "        0.51088014, 0.44513201, 0.50839567]),\n",
       " 'std_test_score': array([0.03095114, 0.03402903, 0.00714183, 0.0165649 , 0.00084314,\n",
       "        0.02467756, 0.00084314, 0.01958589]),\n",
       " 'rank_test_score': array([4, 5, 6, 2, 7, 1, 7, 3])}"
      ]
     },
     "execution_count": 148,
     "metadata": {},
     "output_type": "execute_result"
    }
   ],
   "source": [
    "# Check results for each value of fit_prior and alpha\n",
    "nbc_gscv.cv_results_"
   ]
  },
  {
   "cell_type": "code",
   "execution_count": 149,
   "id": "f1ba3436",
   "metadata": {},
   "outputs": [
    {
     "data": {
      "image/png": "[encoded data removed]",
      "text/plain": [
       "<Figure size 504x504 with 1 Axes>"
      ]
     },
     "metadata": {},
     "output_type": "display_data"
    }
   ],
   "source": [
    "# Plot the graph of fit_prior and alpha values and cv results (Naive Bayes Model)\n",
    "plot_grid_search_nb(nbc_gscv.cv_results_, [0.0, 1.0, 2.0, 3.0], [True, False], 'alpha', 'fit_prior')"
   ]
  },
  {
   "cell_type": "code",
   "execution_count": 150,
   "id": "b33ac231",
   "metadata": {},
   "outputs": [
    {
     "data": {
      "text/plain": [
       "MultinomialNB(alpha=2.0, fit_prior=False)"
      ]
     },
     "execution_count": 150,
     "metadata": {},
     "output_type": "execute_result"
    }
   ],
   "source": [
    "# Naive bayes implementation\n",
    "naive_bayes_classifier = MultinomialNB(fit_prior=nbc_gscv.best_params_.get('fit_prior'), alpha=nbc_gscv.best_params_.get('alpha'))\n",
    "naive_bayes_classifier.fit(X_train_tfidf, train_data.target)"
   ]
  },
  {
   "cell_type": "code",
   "execution_count": 151,
   "id": "c02f2d00",
   "metadata": {},
   "outputs": [
    {
     "name": "stdout",
     "output_type": "stream",
     "text": [
      "Naive Bayes cv scores\n",
      "[0.47368421 0.49226006 0.51702786 0.54037267 0.5310559 ]\n",
      "cv_scores mean:0.5108801415302964\n"
     ]
    },
    {
     "name": "stderr",
     "output_type": "stream",
     "text": [
      "C:\\Python39\\lib\\site-packages\\sklearn\\model_selection\\_split.py:676: UserWarning: The least populated class in y has only 1 members, which is less than n_splits=5.\n",
      "  warnings.warn(\n"
     ]
    }
   ],
   "source": [
    "# Naive Bayes 5-fold cross validation\n",
    "# Train model with cv of 5 \n",
    "cv_scores = cross_val_score(naive_bayes_classifier, X_train_tfidf, train_data.target, cv=5)\n",
    "\n",
    "# Print each cv score (accuracy) and average them\n",
    "print('Naive Bayes cv scores')\n",
    "print(cv_scores)\n",
    "print('cv_scores mean:{}'.format(np.mean(cv_scores)))"
   ]
  },
  {
   "cell_type": "code",
   "execution_count": 152,
   "id": "80e7934a",
   "metadata": {},
   "outputs": [
    {
     "name": "stdout",
     "output_type": "stream",
     "text": [
      "KNN classification report over the tv show test data by using description similarity:\n",
      "accuracy:   0.463\n",
      "              precision    recall  f1-score   support\n",
      "\n",
      "       TV-14       0.43      0.27      0.33       127\n",
      "        TV-G       0.00      0.00      0.00        14\n",
      "       TV-MA       0.46      0.86      0.60       165\n",
      "       TV-PG       0.00      0.00      0.00        40\n",
      "        TV-Y       0.64      0.35      0.45        26\n",
      "       TV-Y7       0.67      0.06      0.11        32\n",
      "\n",
      "    accuracy                           0.46       404\n",
      "   macro avg       0.37      0.26      0.25       404\n",
      "weighted avg       0.42      0.46      0.39       404\n",
      "\n",
      "Naive Bayes classification report over the tv show test data by using description similarity:\n",
      "accuracy:   0.455\n",
      "              precision    recall  f1-score   support\n",
      "\n",
      "       TV-14       0.38      0.14      0.21       127\n",
      "        TV-G       0.00      0.00      0.00        14\n",
      "       TV-MA       0.45      0.91      0.61       165\n",
      "       TV-PG       0.43      0.07      0.13        40\n",
      "        TV-Y       0.71      0.38      0.50        26\n",
      "       TV-Y7       0.60      0.09      0.16        32\n",
      "\n",
      "    accuracy                           0.46       404\n",
      "   macro avg       0.43      0.27      0.27       404\n",
      "weighted avg       0.44      0.46      0.37       404\n",
      "\n"
     ]
    },
    {
     "name": "stderr",
     "output_type": "stream",
     "text": [
      "C:\\Python39\\lib\\site-packages\\sklearn\\metrics\\_classification.py:1318: UndefinedMetricWarning: Precision and F-score are ill-defined and being set to 0.0 in labels with no predicted samples. Use `zero_division` parameter to control this behavior.\n",
      "  _warn_prf(average, modifier, msg_start, len(result))\n",
      "C:\\Python39\\lib\\site-packages\\sklearn\\metrics\\_classification.py:1318: UndefinedMetricWarning: Precision and F-score are ill-defined and being set to 0.0 in labels with no predicted samples. Use `zero_division` parameter to control this behavior.\n",
      "  _warn_prf(average, modifier, msg_start, len(result))\n",
      "C:\\Python39\\lib\\site-packages\\sklearn\\metrics\\_classification.py:1318: UndefinedMetricWarning: Precision and F-score are ill-defined and being set to 0.0 in labels with no predicted samples. Use `zero_division` parameter to control this behavior.\n",
      "  _warn_prf(average, modifier, msg_start, len(result))\n"
     ]
    }
   ],
   "source": [
    "# Calculating predictions\n",
    "knn_predicted = clf.predict(X_new_tfidf)\n",
    "naive_bayes_predicted = naive_bayes_classifier.predict(X_new_tfidf)\n",
    "\n",
    "# Compute the performance measures\n",
    "knn_accuracy_score = metrics.accuracy_score(test_data.target, knn_predicted)\n",
    "naive_bayes_accuracy_score = metrics.accuracy_score(test_data.target, naive_bayes_predicted)\n",
    "    \n",
    "print('KNN classification report over the tv show test data by using description similarity:')\n",
    "print(\"accuracy:   %0.3f\" % knn_accuracy_score)\n",
    "print(metrics.classification_report(test_data.target, knn_predicted))\n",
    "print('Naive Bayes classification report over the tv show test data by using description similarity:')\n",
    "print(\"accuracy:   %0.3f\" % naive_bayes_accuracy_score)\n",
    "print(metrics.classification_report(test_data.target, naive_bayes_predicted))"
   ]
  }
 ],
 "metadata": {
  "kernelspec": {
   "display_name": "Python 3 (ipykernel)",
   "language": "python",
   "name": "python3"
  },
  "language_info": {
   "codemirror_mode": {
    "name": "ipython",
    "version": 3
   },
   "file_extension": ".py",
   "mimetype": "text/x-python",
   "name": "python",
   "nbconvert_exporter": "python",
   "pygments_lexer": "ipython3",
   "version": "3.9.7"
  }
 },
 "nbformat": 4,
 "nbformat_minor": 5
}
